{
 "cells": [
  {
   "cell_type": "markdown",
   "id": "4525ab6e",
   "metadata": {},
   "source": [
    "#    DESAFÍO 1 \n",
    "##   LIMPIEZA DE DATOS\n",
    "###  Grupo 4: Juan Mutis, Joaquín Fernández, Rodrigo Arias, Ignacio Nasso "
   ]
  },
  {
   "cell_type": "markdown",
   "id": "54beffd7",
   "metadata": {},
   "source": [
    "<a id=\"section_toc\"></a> \n",
    "## Indice\n",
    "\n",
    "<a href=\"#section_intro\">PARTE INICIAL. IMPORTACIÓN DE LIBRERÍAS, SAMPLEO DE DATOS, ANALISIS EXPLORATORIO</a>\n",
    "\n",
    "<a href=\"#section_ubicacion\">AJUSTE DE COLUMNAS REFERIDAS A LA UBICACIÓN.</a>\n",
    "\n",
    "<a href=\"#section_descripcion\">CAMPO DESCRIPTION - LIMPIEZA DE NULOS, CASEFOLD, UNICODE</a>\n",
    "\n",
    "<a href=\"#section_rooms\">LIMPIEZA DEL CAMPO 'rooms', IMPUTACIÓN DE DATOS FALTANTES.</a>\n",
    "\n",
    "<a href=\"#section_surface\">LIMPIEZA DE CAMPO 'surface_total_in_m2' y 'surface_covered_in_m2'</a>\n",
    "\n",
    "<a href=\"#section_price\">LIMPIEZA DE CAMPO 'price', 'price_aprox_usd' y 'currency'</a>\n",
    "\n",
    "<a href=\"#section_drop\">DROP DE OUTLIERS Y NULOS</a>\n",
    "\n",
    "<a href=\"#section_graficos\">GRÁFICOS POST DROPEO FINAL</a>\n",
    "\n",
    "---"
   ]
  },
  {
   "cell_type": "markdown",
   "id": "b8366289",
   "metadata": {
    "id": "aae29830"
   },
   "source": [
    "<a id=\"section_intro\"></a>\n",
    "### PARTE INICIAL. IMPORTACIÓN DE LIBRERÍAS, SAMPLEO DE DATOS, ANALISIS EXPLORATORIO"
   ]
  },
  {
   "cell_type": "code",
   "execution_count": null,
   "id": "14a5de08",
   "metadata": {
    "colab": {
     "base_uri": "https://localhost:8080/"
    },
    "executionInfo": {
     "elapsed": 10630,
     "status": "ok",
     "timestamp": 1642113517545,
     "user": {
      "displayName": "joaquin fernandez",
      "photoUrl": "https://lh3.googleusercontent.com/a/default-user=s64",
      "userId": "01269853900605410897"
     },
     "user_tz": 180
    },
    "id": "_Ul4y_SWw2NS",
    "outputId": "d82097e0-58f8-4d59-dc48-4d342e0cd6e6"
   },
   "outputs": [],
   "source": [
    "# import json\n",
    "# with open(\"kaggle.json\",\"w\") as filepath:\n",
    "#   json.dump({'key': 'b0456b6bdf73e205861cdca4365786b3', 'username': 'joaquin96'}, filepath)\n",
    "# !mkdir -p ~/.kaggle\n",
    "# !cp kaggle.json ~/.kaggle/\n",
    "# !chmod 600 /root/.kaggle/kaggle.json\n",
    "# !kaggle datasets download joaquin96/properati-digital-house-2021 -o -q --unzip\n",
    "# !pip install unidecode -q"
   ]
  },
  {
   "cell_type": "code",
   "execution_count": null,
   "id": "0877ed0f",
   "metadata": {
    "executionInfo": {
     "elapsed": 115,
     "status": "ok",
     "timestamp": 1642113517548,
     "user": {
      "displayName": "joaquin fernandez",
      "photoUrl": "https://lh3.googleusercontent.com/a/default-user=s64",
      "userId": "01269853900605410897"
     },
     "user_tz": 180
    },
    "id": "0f95616d"
   },
   "outputs": [],
   "source": [
    "#Importamos las librerías que vamos a usar para limpiar y recorrer el data set.\n",
    "\n",
    "import pandas as pd\n",
    "import numpy as np\n",
    "import re\n",
    "import seaborn as sns\n",
    "import matplotlib as mpl\n",
    "import matplotlib.pyplot as plt\n",
    "import unidecode #from unidecode import unidecode\n",
    "from scipy.stats import iqr\n",
    "pd.set_option('display.float_format', lambda x: '%.2f' % x) #convertir floats con notacion cientifica a dos decimales"
   ]
  },
  {
   "cell_type": "code",
   "execution_count": null,
   "id": "f36eb6fe",
   "metadata": {
    "colab": {
     "base_uri": "https://localhost:8080/",
     "height": 531
    },
    "executionInfo": {
     "elapsed": 2044,
     "status": "ok",
     "timestamp": 1642113519511,
     "user": {
      "displayName": "joaquin fernandez",
      "photoUrl": "https://lh3.googleusercontent.com/a/default-user=s64",
      "userId": "01269853900605410897"
     },
     "user_tz": 180
    },
    "id": "f924804f",
    "outputId": "7dca7b16-d639-4137-a6a6-fc3a44cfeee9"
   },
   "outputs": [],
   "source": [
    "#Leemos el data set y sampleamos 5 registros para explorar datos y chequear que se haya importado ok\n",
    "\n",
    "data = pd.read_csv('properatti.csv', sep = ',')\n",
    "print(data.shape)\n",
    "data.sample(5)"
   ]
  },
  {
   "cell_type": "code",
   "execution_count": null,
   "id": "2d1a6b79",
   "metadata": {
    "colab": {
     "base_uri": "https://localhost:8080/"
    },
    "executionInfo": {
     "elapsed": 153,
     "status": "ok",
     "timestamp": 1642113519514,
     "user": {
      "displayName": "joaquin fernandez",
      "photoUrl": "https://lh3.googleusercontent.com/a/default-user=s64",
      "userId": "01269853900605410897"
     },
     "user_tz": 180
    },
    "id": "ef0f1a4b",
    "outputId": "407989f9-2d76-48c4-9da3-821a1bec95e9"
   },
   "outputs": [],
   "source": [
    "# vemos columnas que tenemos y tipos de datos\n",
    "\n",
    "data.columns"
   ]
  },
  {
   "cell_type": "code",
   "execution_count": null,
   "id": "e015788a",
   "metadata": {
    "executionInfo": {
     "elapsed": 128,
     "status": "ok",
     "timestamp": 1642113519524,
     "user": {
      "displayName": "joaquin fernandez",
      "photoUrl": "https://lh3.googleusercontent.com/a/default-user=s64",
      "userId": "01269853900605410897"
     },
     "user_tz": 180
    },
    "id": "8bb1c3cd"
   },
   "outputs": [],
   "source": [
    "# vemos que la columna unnamed: 0 coincide con el indice, por lo que no la vamos a cosniderar en el dataset final\n",
    "\n",
    "#data.drop('Unnamed: 0', axis = 1, inplace = True)\n",
    "#data.sample(3)"
   ]
  },
  {
   "cell_type": "code",
   "execution_count": null,
   "id": "844a3da1",
   "metadata": {
    "colab": {
     "base_uri": "https://localhost:8080/"
    },
    "executionInfo": {
     "elapsed": 1877,
     "status": "ok",
     "timestamp": 1642113521281,
     "user": {
      "displayName": "joaquin fernandez",
      "photoUrl": "https://lh3.googleusercontent.com/a/default-user=s64",
      "userId": "01269853900605410897"
     },
     "user_tz": 180
    },
    "id": "2031a3c3",
    "outputId": "87770a7f-5913-4017-fc10-5bf033f8af79"
   },
   "outputs": [],
   "source": [
    "#hay registros duplicados? \n",
    "\n",
    "#No se ven duplicados en el general\n",
    "\n",
    "data.duplicated().sum()"
   ]
  },
  {
   "cell_type": "code",
   "execution_count": null,
   "id": "315e94a8",
   "metadata": {
    "colab": {
     "base_uri": "https://localhost:8080/"
    },
    "executionInfo": {
     "elapsed": 377,
     "status": "ok",
     "timestamp": 1642113521294,
     "user": {
      "displayName": "joaquin fernandez",
      "photoUrl": "https://lh3.googleusercontent.com/a/default-user=s64",
      "userId": "01269853900605410897"
     },
     "user_tz": 180
    },
    "id": "7c10a617",
    "outputId": "ec1eaa39-5e46-4b9c-f9fe-9903405762e4"
   },
   "outputs": [],
   "source": [
    "#exploremos algunas columnas y sus valores \n",
    "data['operation'].value_counts()\n",
    "\n",
    "#vemos que esta columna no nos aporta valor porque son todos iguales, por lo tanto, no la vamos a considerar en el data final. "
   ]
  },
  {
   "cell_type": "code",
   "execution_count": null,
   "id": "b2621f4c",
   "metadata": {
    "colab": {
     "base_uri": "https://localhost:8080/"
    },
    "executionInfo": {
     "elapsed": 361,
     "status": "ok",
     "timestamp": 1642113521297,
     "user": {
      "displayName": "joaquin fernandez",
      "photoUrl": "https://lh3.googleusercontent.com/a/default-user=s64",
      "userId": "01269853900605410897"
     },
     "user_tz": 180
    },
    "id": "6f51e220",
    "outputId": "5cc7c705-7a3b-4c9d-8643-48769fc15240"
   },
   "outputs": [],
   "source": [
    "data['property_type'].value_counts()"
   ]
  },
  {
   "cell_type": "code",
   "execution_count": null,
   "id": "56db47b0",
   "metadata": {
    "colab": {
     "base_uri": "https://localhost:8080/"
    },
    "executionInfo": {
     "elapsed": 284,
     "status": "ok",
     "timestamp": 1642113521307,
     "user": {
      "displayName": "joaquin fernandez",
      "photoUrl": "https://lh3.googleusercontent.com/a/default-user=s64",
      "userId": "01269853900605410897"
     },
     "user_tz": 180
    },
    "id": "c5c85f18",
    "outputId": "0f0d8f58-3a0b-4881-bb9d-5a4898b399d2"
   },
   "outputs": [],
   "source": [
    "data['country_name'].value_counts()"
   ]
  },
  {
   "cell_type": "code",
   "execution_count": null,
   "id": "3e41fa00",
   "metadata": {
    "colab": {
     "base_uri": "https://localhost:8080/"
    },
    "executionInfo": {
     "elapsed": 216,
     "status": "ok",
     "timestamp": 1642113521311,
     "user": {
      "displayName": "joaquin fernandez",
      "photoUrl": "https://lh3.googleusercontent.com/a/default-user=s64",
      "userId": "01269853900605410897"
     },
     "user_tz": 180
    },
    "id": "b917468e",
    "outputId": "53b12068-122f-4f85-9cc4-c6d317b2cdc8"
   },
   "outputs": [],
   "source": [
    "data['state_name'].value_counts()"
   ]
  },
  {
   "cell_type": "code",
   "execution_count": null,
   "id": "5362ea92",
   "metadata": {
    "colab": {
     "base_uri": "https://localhost:8080/"
    },
    "executionInfo": {
     "elapsed": 203,
     "status": "ok",
     "timestamp": 1642113521326,
     "user": {
      "displayName": "joaquin fernandez",
      "photoUrl": "https://lh3.googleusercontent.com/a/default-user=s64",
      "userId": "01269853900605410897"
     },
     "user_tz": 180
    },
    "id": "8aca9236",
    "outputId": "9187708d-4bbe-418c-9f71-446c29b4d513"
   },
   "outputs": [],
   "source": [
    "#chequeamos el porcentaje de nulos de cada campo\n",
    "\n",
    "100 * (data.isnull().sum() / data.shape[0])"
   ]
  },
  {
   "cell_type": "markdown",
   "id": "9ab92852",
   "metadata": {
    "id": "38837384"
   },
   "source": [
    "<a id=\"section_ubicacion\"></a>\n",
    "### AJUSTE DE COLUMNAS REFERIDAS A LA UBICACIÓN. \n",
    "SPLIT DE \"place_with_parent_names\"\n"
   ]
  },
  {
   "cell_type": "code",
   "execution_count": null,
   "id": "affbcb01",
   "metadata": {
    "executionInfo": {
     "elapsed": 30937,
     "status": "ok",
     "timestamp": 1642113552084,
     "user": {
      "displayName": "joaquin fernandez",
      "photoUrl": "https://lh3.googleusercontent.com/a/default-user=s64",
      "userId": "01269853900605410897"
     },
     "user_tz": 180
    },
    "id": "637e94a9"
   },
   "outputs": [],
   "source": [
    "#Acomodar los datos de place_with_parent_names\n",
    "\n",
    "#Primero pasamos todos los valores a una lista aplicando split, y convertimos ese objeto en DataFrame\n",
    "\n",
    "place_with = data['place_with_parent_names'].apply(lambda x: x if x is np.NaN else x.split('|'))\n",
    "place_with_df = pd.DataFrame(place_with)\n",
    "\n",
    "#Aplicamos pd.Serie a cada valor de place_with\n",
    "\n",
    "tags = place_with_df['place_with_parent_names'].apply(pd.Series)\n",
    "\n",
    "#Renombramos las columnas \n",
    "\n",
    "place_with_parent_name_df = tags.rename(columns = lambda x : 'Ubicacion_' + str(x))\n"
   ]
  },
  {
   "cell_type": "code",
   "execution_count": null,
   "id": "66b6dc90",
   "metadata": {
    "colab": {
     "base_uri": "https://localhost:8080/",
     "height": 143
    },
    "executionInfo": {
     "elapsed": 77,
     "status": "ok",
     "timestamp": 1642113552123,
     "user": {
      "displayName": "joaquin fernandez",
      "photoUrl": "https://lh3.googleusercontent.com/a/default-user=s64",
      "userId": "01269853900605410897"
     },
     "user_tz": 180
    },
    "id": "60a8db81",
    "outputId": "91b4df8b-5ab9-42bd-a858-01c09eea50cb"
   },
   "outputs": [],
   "source": [
    "#Ahora que tenemos un DF con place_with_parent_names en columnas, trabajamos sobre este para que quede limpio y después concatenarlo al data ser original \n",
    "place_with_parent_name_df.sample(3)"
   ]
  },
  {
   "cell_type": "code",
   "execution_count": null,
   "id": "dcf4eb5e",
   "metadata": {
    "colab": {
     "base_uri": "https://localhost:8080/",
     "height": 143
    },
    "executionInfo": {
     "elapsed": 71,
     "status": "ok",
     "timestamp": 1642113552126,
     "user": {
      "displayName": "joaquin fernandez",
      "photoUrl": "https://lh3.googleusercontent.com/a/default-user=s64",
      "userId": "01269853900605410897"
     },
     "user_tz": 180
    },
    "id": "74790107",
    "outputId": "1a626d68-3bae-403d-9113-d37251a66a58"
   },
   "outputs": [],
   "source": [
    "#La columna Ubicacion_0 y Ubicación_ 6 no tienen información\n",
    "\n",
    "place_with_parent_name_df['Ubicacion_0'].value_counts()\n",
    "place_with_parent_name_df['Ubicacion_6'].value_counts()\n",
    "\n",
    "#Vemos que \"ubicación 1\" es Argetina para todos los registros al igual que la columna \"Country_Name\" de Data. \n",
    "data['country_name'].value_counts() == place_with_parent_name_df['Ubicacion_1'].value_counts()\n",
    "\n",
    "#Vemos que \"ubicación 2\" es para todos los registros igual que la columna \"state_name\" de Data. \n",
    "place_with_parent_name_df['Ubicacion_2'].value_counts() == data['state_name'].value_counts()\n",
    "\n",
    "#Vemos que Ubicación_3, Ubicación_4 y Ubicación_5 si nos traen información útil.\n",
    "place_with_parent_name_df['Ubicacion_3'].value_counts()\n",
    "place_with_parent_name_df['Ubicacion_4'].value_counts()\n",
    "place_with_parent_name_df['Ubicacion_5'].value_counts()\n",
    "\n",
    "#Vamos a quedarnos sólo con estas 3 series en un DF que luego de imputar valores a los nulos, vamos a concatenar a Data.\n",
    "place_with_parent_name_final = place_with_parent_name_df[['Ubicacion_3', 'Ubicacion_4', 'Ubicacion_5']].copy()\n",
    "\n",
    "#Renombramos como Barrio_1 Barrio_2 y Barrio_3\n",
    "dict_ubi = {'Ubicacion_3': 'Barrio_1', 'Ubicacion_4': 'Barrio_2', 'Ubicacion_5': 'Barrio_3' }\n",
    "place_with_parent_name_final.rename(mapper = dict_ubi, axis = 1, inplace = True)\n",
    "place_with_parent_name_final.sample(3)"
   ]
  },
  {
   "cell_type": "code",
   "execution_count": null,
   "id": "59c88622",
   "metadata": {
    "executionInfo": {
     "elapsed": 103,
     "status": "ok",
     "timestamp": 1642113552164,
     "user": {
      "displayName": "joaquin fernandez",
      "photoUrl": "https://lh3.googleusercontent.com/a/default-user=s64",
      "userId": "01269853900605410897"
     },
     "user_tz": 180
    },
    "id": "17a647ad"
   },
   "outputs": [],
   "source": [
    "#veamos ahora los nulos de place_with_parent_name_final para imputar antes de unirlo a data\n",
    "\n",
    "#En Barrio 1, Barrio_2 y Barrio_3 tenemos campos vacios pero que no aparecen como nulos, por eso vamos a reemplazar y convertirlos en np.NaN para despues poder impurtar con FillNa\n",
    "place_with_parent_name_final['Barrio_1'].replace(\"\", np.NaN, inplace = True)\n",
    "place_with_parent_name_final['Barrio_2'].replace(\"\", np.NaN, inplace = True)\n",
    "place_with_parent_name_final['Barrio_3'].replace(\"\", np.NaN, inplace = True)\n",
    "\n",
    "\n",
    "#ahora si, a lo que no es nulo le vamos a poner \"Sin definir\"\n",
    "place_with_parent_name_final.fillna(\"Sin definir\", inplace = True)"
   ]
  },
  {
   "cell_type": "code",
   "execution_count": null,
   "id": "198ac4ad",
   "metadata": {
    "colab": {
     "base_uri": "https://localhost:8080/",
     "height": 398
    },
    "executionInfo": {
     "elapsed": 2058,
     "status": "ok",
     "timestamp": 1642113554120,
     "user": {
      "displayName": "joaquin fernandez",
      "photoUrl": "https://lh3.googleusercontent.com/a/default-user=s64",
      "userId": "01269853900605410897"
     },
     "user_tz": 180
    },
    "id": "db4b4264",
    "outputId": "eacc1b69-0ae0-4643-c55b-a98ee20012a7"
   },
   "outputs": [],
   "source": [
    "#joineamos data y place_with_parent_name_final \n",
    "data = pd.concat([data, place_with_parent_name_final], axis = 1)\n",
    "print(data.shape)\n",
    "data.sample(3)"
   ]
  },
  {
   "cell_type": "code",
   "execution_count": null,
   "id": "90ac5817",
   "metadata": {
    "executionInfo": {
     "elapsed": 73,
     "status": "ok",
     "timestamp": 1642113554126,
     "user": {
      "displayName": "joaquin fernandez",
      "photoUrl": "https://lh3.googleusercontent.com/a/default-user=s64",
      "userId": "01269853900605410897"
     },
     "user_tz": 180
    },
    "id": "30879165"
   },
   "outputs": [],
   "source": [
    "#en data nos quedaron columnas que ya no nos son útiles, porque las tenemos en Barrio_1, Barrio_2 y Barrio_3. Estas son place_name y place_with_parent_names \n"
   ]
  },
  {
   "cell_type": "code",
   "execution_count": null,
   "id": "eef7a5bd",
   "metadata": {
    "colab": {
     "base_uri": "https://localhost:8080/"
    },
    "executionInfo": {
     "elapsed": 73,
     "status": "ok",
     "timestamp": 1642113554128,
     "user": {
      "displayName": "joaquin fernandez",
      "photoUrl": "https://lh3.googleusercontent.com/a/default-user=s64",
      "userId": "01269853900605410897"
     },
     "user_tz": 180
    },
    "id": "61a65d7e",
    "outputId": "767618ce-d829-4189-ab3f-bece7966ed04"
   },
   "outputs": [],
   "source": [
    "#vemos que en state_name tenemos Bs.As para unos y Buenos Aires para otros. Lo mejor sería unificar todo a una sola nomenclatura \n",
    "#lo hacemos con el metodo replace \n",
    "\n",
    "data['state_name'].replace('Buenos Aires Costa Atlántica', 'Bs.As. Costa Atlántica', inplace = True)\n",
    "data['state_name'].replace('Buenos Aires Interior', 'Bs.As. Interior', inplace = True)\n",
    "data['state_name'].value_counts()\n"
   ]
  },
  {
   "cell_type": "markdown",
   "id": "bbd68d40",
   "metadata": {},
   "source": [
    "<a id=\"section_descripcion\"></a>\n",
    "### CAMPO DESCRIPTION - LIMPIEZA DE NULOS, CASEFOLD, UNICODE"
   ]
  },
  {
   "cell_type": "code",
   "execution_count": null,
   "id": "3dd39889",
   "metadata": {},
   "outputs": [],
   "source": [
    "#En primer lugar vamos a convertir todos los caracteres de \"Descripción\" a minúscula, para facilitar el matecheo con regex. \n",
    "\n",
    "# sacamos los nulos y ponemos un \"\"\n",
    "data.loc[data.description.isna(),\"description\"] = \"\"\n",
    "\n",
    "# pasamos todo a minusculas y a unicode\n",
    "data[\"description_Clean\"]= data['description'].apply(lambda x: unidecode.unidecode(x.casefold()))\n",
    "data[\"description_Clean\"]= data['description_Clean'].replace('\\s+', ' ', regex=True)\n",
    "data[\"description_Clean\"].sample()"
   ]
  },
  {
   "cell_type": "markdown",
   "id": "0b20f348",
   "metadata": {
    "id": "bede6aa2"
   },
   "source": [
    "<a id=\"section_rooms\"></a>\n",
    "### LIMPIEZA DEL CAMPO 'rooms', IMPUTACIÓN DE DATOS FALTANTES."
   ]
  },
  {
   "cell_type": "code",
   "execution_count": null,
   "id": "26a679ac",
   "metadata": {
    "colab": {
     "base_uri": "https://localhost:8080/"
    },
    "executionInfo": {
     "elapsed": 68,
     "status": "ok",
     "timestamp": 1642113554130,
     "user": {
      "displayName": "joaquin fernandez",
      "photoUrl": "https://lh3.googleusercontent.com/a/default-user=s64",
      "userId": "01269853900605410897"
     },
     "user_tz": 180
    },
    "id": "d5177bae",
    "outputId": "d9d4a639-1f5f-4303-fa62-8d5c6b6f18a3"
   },
   "outputs": [],
   "source": [
    "data['rooms'].isnull().sum()"
   ]
  },
  {
   "cell_type": "code",
   "execution_count": null,
   "id": "53d85219",
   "metadata": {
    "colab": {
     "base_uri": "https://localhost:8080/"
    },
    "executionInfo": {
     "elapsed": 1546,
     "status": "ok",
     "timestamp": 1642113592418,
     "user": {
      "displayName": "joaquin fernandez",
      "photoUrl": "https://lh3.googleusercontent.com/a/default-user=s64",
      "userId": "01269853900605410897"
     },
     "user_tz": 180
    },
    "id": "f5b01021",
    "outputId": "0cefb928-4eed-4804-e453-4360985bb20c"
   },
   "outputs": [],
   "source": [
    "#Vamos a usar regex para buscar información en el campo 'description' y lo que encontremos lo vamos a poner en 'rooms_Clean'\n",
    "\n",
    "#Regex en descrpition para buscar más de un ambiente. \n",
    "\n",
    "description_serie = data['description_Clean']\n",
    "rooms_pattern = \"(?P<ambientes>\\d)\\s(amb)\"\n",
    "rooms_pattern_regex = re.compile(rooms_pattern)\n",
    "\n",
    "rooms_in_description = description_serie.apply(lambda x: x if x is np.NaN  else rooms_pattern_regex.search(x))\n",
    "rooms_in_description_mask_not_null = rooms_in_description.notnull()\n",
    "data.loc[rooms_in_description_mask_not_null, 'rooms_Clean'] = rooms_in_description[rooms_in_description_mask_not_null].apply(lambda x: x.group('ambientes'))\n",
    "\n",
    "print('Primera imputación. Nulos restantes', data['rooms_Clean'].isnull().sum())\n",
    "\n",
    "#Regex en descrpition para buscar la palabra 'monoambiente'. \n",
    "\n",
    "monoambiente_pattern = r'monoambiente'\n",
    "monoambiente_pattern_regex = re.compile(monoambiente_pattern)\n",
    "\n",
    "monoambiente_in_description = description_serie.apply(lambda x: x if x is np.NaN  else monoambiente_pattern_regex.search(x))\n",
    "monoambiente_in_description_mask_not_null = monoambiente_in_description.notnull()\n",
    "data.loc[monoambiente_in_description_mask_not_null, 'rooms_Clean'] = 1\n",
    "\n",
    "print('Segunda imputación. Nulos restantes', data['rooms_Clean'].isnull().sum())\n",
    "\n",
    "#Ahora vamos a tomar los valores no nulos de 'rooms' y ponerlos en 'rooms_Clean'\n",
    "data.loc[(data['rooms'].notnull()), 'rooms_Clean'] = data['rooms']\n",
    "\n",
    "#pasamos rooms_Clean a float, y al poner errors = 'ignore' hay algunos valores que se pueden convertir en 0. Por lo que después de esto vamos a convertirlos en np.NaN\n",
    "\n",
    "data['rooms_Clean'] = data['rooms_Clean'].astype(float, errors = 'ignore')\n",
    "\n",
    "\n",
    "print('Tercera imputación. Nulos restantes', data['rooms_Clean'].isnull().sum())\n",
    "\n"
   ]
  },
  {
   "cell_type": "code",
   "execution_count": null,
   "id": "f7d3298a",
   "metadata": {
    "colab": {
     "base_uri": "https://localhost:8080/"
    },
    "executionInfo": {
     "elapsed": 35,
     "status": "ok",
     "timestamp": 1642113592420,
     "user": {
      "displayName": "joaquin fernandez",
      "photoUrl": "https://lh3.googleusercontent.com/a/default-user=s64",
      "userId": "01269853900605410897"
     },
     "user_tz": 180
    },
    "id": "013de85d",
    "outputId": "b4c3f8a5-2548-4391-cba8-31681422876c"
   },
   "outputs": [],
   "source": [
    "#Veamos un poco la disperción de rooms_Clean antes de imputar valores por mediana\n",
    "\n",
    "with sns.axes_style(style='ticks'):\n",
    "    g = sns.catplot(x = 'property_type', y = \"rooms_Clean\", data=data, kind=\"boxen\")\n",
    "    g.set_axis_labels(\"Property_Type\", \"rooms_Clean\");\n",
    "    \n",
    "data.groupby('property_type')['rooms_Clean'].describe()\n"
   ]
  },
  {
   "cell_type": "code",
   "execution_count": null,
   "id": "9c5a89f0",
   "metadata": {},
   "outputs": [],
   "source": [
    "#mas allá de haber conseguido imputar muchos valores con las regex de Rooms, todavía tenemos mucho null. \n",
    "#Vamos a hacer una imputación que sea por la mediana de ambientes según \"property_type\" y \"state_name\"\n",
    "#agrupado por property_type\n",
    "\n",
    "#Creamos una serie que tenga la mediana por 'property_type' y 'state_name'\n",
    "grouped_by_rooms_clean = data.groupby(['property_type','state_name' ])['rooms_Clean'].transform('median').round(0)\n",
    "\n",
    "#usamos esa serie para completar los nulos en 'rooms_clean'\n",
    "data.loc[(data['rooms_Clean'].isnull()), 'rooms_Clean'] = grouped_by_rooms_clean\n",
    "\n",
    "print('Cuarta imputación. Nulos restantes', data['rooms_Clean'].isnull().sum())\n",
    "\n",
    "#vemos que con esta imputación los nulos bajaron a 112. Esto se debe a que algunos 'state_name' no tienen todos los property type. \n",
    "\n",
    "#Vamos a completar estos 112 faltantes imputando por la mediana pero esta vez solo considerando el 'property_type'\n",
    "\n",
    "grouped_by_rooms_clean_2 =  data.groupby(['property_type'])['rooms_Clean'].transform('median').round(0)\n",
    "\n",
    "data.loc[(data['rooms_Clean'].isnull()), 'rooms_Clean'] = grouped_by_rooms_clean_2\n",
    "\n",
    "print('Quinta imputación. Nulos restantes', data['rooms_Clean'].isnull().sum())\n",
    "\n",
    "#vemos que con esta imputación los nulos bajaron a 38. Vamos a completar estos faltantes imputando por la mediana ya sin agrupar\n",
    "\n",
    "data.loc[(data['rooms_Clean'].isnull()), 'rooms_Clean'] = data['rooms_Clean'].median(skipna = True).round(0)\n",
    "\n",
    "print('Sexta imputación. Nulos restantes', data['rooms_Clean'].isnull().sum())\n"
   ]
  },
  {
   "cell_type": "code",
   "execution_count": null,
   "id": "52e9b3ce",
   "metadata": {},
   "outputs": [],
   "source": [
    "#vemos la distribución post imputar por la mediana\n",
    "\n",
    "with sns.axes_style(style='ticks'):\n",
    "    g = sns.catplot(x = 'property_type', y = \"rooms_Clean\", data=data, kind=\"boxen\")\n",
    "    g.set_axis_labels(\"Property_Type\", \"rooms_Clean\");\n",
    "    \n",
    "data.groupby('property_type')['rooms_Clean'].describe()\n"
   ]
  },
  {
   "cell_type": "markdown",
   "id": "8d8b80e9",
   "metadata": {
    "id": "2125a17b"
   },
   "source": [
    "<a id=\"section_surface\"></a>\n",
    "### LIMPIEZA DE CAMPO 'surface_total_in_m2' y 'surface_covered_in_m2'"
   ]
  },
  {
   "cell_type": "code",
   "execution_count": null,
   "id": "8346413d",
   "metadata": {
    "executionInfo": {
     "elapsed": 4936,
     "status": "ok",
     "timestamp": 1642113597926,
     "user": {
      "displayName": "joaquin fernandez",
      "photoUrl": "https://lh3.googleusercontent.com/a/default-user=s64",
      "userId": "01269853900605410897"
     },
     "user_tz": 180
    },
    "id": "0263e4d2"
   },
   "outputs": [],
   "source": [
    "#regex para extraer m2 totales y cubiertos\n",
    "\n",
    "metros_extract = data['description_Clean'].str.extract(\"([\\d.,?]+)(\\s+)?(m2|metros|mts|ms)\", re.IGNORECASE)\n",
    "data[\"surface_total_in_m2_Clean\"] = np.where(data[\"surface_total_in_m2\"].isna(), metros_extract[0], data[\"surface_total_in_m2\"])\n",
    "\n",
    "metros_cub_extract = data['description_Clean'].str.extract(\"([\\d.,?]+)(\\s+)?(m2|metros|mts|ms)(\\s+)?(cubiertos)\", re.IGNORECASE)\n",
    "data[\"surface_covered_in_m2_Clean\"] = np.where(data[\"surface_covered_in_m2\"].isna(), metros_cub_extract[0], data[\"surface_covered_in_m2\"])\n"
   ]
  },
  {
   "cell_type": "code",
   "execution_count": null,
   "id": "8c67d40a",
   "metadata": {
    "executionInfo": {
     "elapsed": 949,
     "status": "ok",
     "timestamp": 1642113598834,
     "user": {
      "displayName": "joaquin fernandez",
      "photoUrl": "https://lh3.googleusercontent.com/a/default-user=s64",
      "userId": "01269853900605410897"
     },
     "user_tz": 180
    },
    "id": "KKjLEonz_Ddf"
   },
   "outputs": [],
   "source": [
    "#convertimos nulos de las columnas de m2 totales y cubiertos en 0\n",
    "data[\"surface_covered_in_m2_Clean\"]= data[\"surface_covered_in_m2_Clean\"].apply(lambda x: x if x is not np.NaN else 0)\n",
    "data[\"surface_total_in_m2_Clean\"]= data[\"surface_total_in_m2_Clean\"].apply(lambda x: x if x is not np.NaN else 0)\n",
    "data[\"surface_covered_in_m2_Clean\"]=data[\"surface_covered_in_m2_Clean\"].apply(lambda x: str(x).replace(\",\",\".\"))\n",
    "data[\"surface_total_in_m2_Clean\"]=data[\"surface_total_in_m2_Clean\"].apply(lambda x: str(x).replace(\",\",\".\"))\n",
    "\n",
    "#convertimos str a int, los errores se convierten en nulos, y estos nuevamente a 0\n",
    "data[\"surface_total_in_m2_Clean\"]=pd.to_numeric(data[\"surface_total_in_m2_Clean\"], errors=\"coerce\", downcast=\"integer\")\n",
    "data[\"surface_covered_in_m2_Clean\"]=pd.to_numeric(data[\"surface_covered_in_m2_Clean\"], errors=\"coerce\", downcast=\"integer\")\n",
    "data[\"surface_covered_in_m2_Clean\"]= data[\"surface_covered_in_m2_Clean\"].apply(lambda x: x if x is not np.NaN else 0)\n",
    "data[\"surface_total_in_m2_Clean\"]= data[\"surface_total_in_m2_Clean\"].apply(lambda x: x if x is not np.NaN else 0)"
   ]
  },
  {
   "cell_type": "code",
   "execution_count": null,
   "id": "556216b0",
   "metadata": {
    "colab": {
     "base_uri": "https://localhost:8080/"
    },
    "executionInfo": {
     "elapsed": 302,
     "status": "ok",
     "timestamp": 1642113598846,
     "user": {
      "displayName": "joaquin fernandez",
      "photoUrl": "https://lh3.googleusercontent.com/a/default-user=s64",
      "userId": "01269853900605410897"
     },
     "user_tz": 180
    },
    "id": "X_Rs3S-TD0z_",
    "outputId": "b89aa2e1-28ec-4cfc-88c2-2b7a40b87577"
   },
   "outputs": [],
   "source": [
    "#verificamos que la superficie cubierta no supere la superficie total\n",
    "\n",
    "surface_check = data.loc[:,[\"surface_covered_in_m2_Clean\",\"surface_total_in_m2_Clean\"]]\n",
    "\n",
    "#donde el total es menor al area cubierta, utilizamos area cubierta, si no usamos total.\n",
    "\n",
    "surface_check[\"surface_total_in_m2_Clean\"]= np.where(surface_check.surface_total_in_m2_Clean < surface_check.surface_covered_in_m2_Clean, surface_check.surface_covered_in_m2_Clean, surface_check.surface_total_in_m2_Clean)\n",
    "\n",
    "#verificamos que np.where sea aplicado correctamente \n",
    "surface_check[\"dif\"]=(surface_check[\"surface_total_in_m2_Clean\"]-surface_check[\"surface_covered_in_m2_Clean\"])\n",
    "print(\"nº de observaciones donde cubierta>total:\",surface_check[surface_check.dif<0].shape[0])\n",
    "\n",
    "#aplicamos el codigo al dataframe original\n",
    "data[\"surface_total_in_m2_Clean\"]= np.where(data.surface_total_in_m2_Clean < data.surface_covered_in_m2_Clean, data.surface_covered_in_m2_Clean, data.surface_total_in_m2_Clean)\n",
    "\n"
   ]
  },
  {
   "cell_type": "code",
   "execution_count": null,
   "id": "0e97f579",
   "metadata": {
    "colab": {
     "base_uri": "https://localhost:8080/"
    },
    "executionInfo": {
     "elapsed": 325,
     "status": "ok",
     "timestamp": 1642113598875,
     "user": {
      "displayName": "joaquin fernandez",
      "photoUrl": "https://lh3.googleusercontent.com/a/default-user=s64",
      "userId": "01269853900605410897"
     },
     "user_tz": 180
    },
    "id": "DEFH6Aj5LMs7",
    "outputId": "62598201-eeaa-493e-a3f7-9b543470e563"
   },
   "outputs": [],
   "source": [
    "print(\"observaciones totales:\",data.shape[0],\"\\n\")\n",
    "print(\"superficie_Clean total:\", data.loc[data.surface_total_in_m2_Clean>0, \"surface_total_in_m2_Clean\"].shape[0])\n",
    "print(\"superficie total:\", data.loc[data.surface_total_in_m2>0, \"surface_total_in_m2\"].shape[0])\n",
    "print(\"\")\n",
    "print(\"superficie_cubierta_Clean total:\", data.loc[data.surface_covered_in_m2_Clean > 0, \"surface_covered_in_m2_Clean\"].shape[0])\n",
    "print(\"superficie_cubierta total:\", data.loc[data.surface_covered_in_m2 > 0, \"surface_covered_in_m2\"].shape[0])\n",
    "print('Nulos en surface_covered_in_m2_Clean', (data['surface_covered_in_m2_Clean'] == 0).sum())\n",
    "print('Nulos en surface_total_in_m2_Clean', (data['surface_total_in_m2_Clean'] == 0).sum())"
   ]
  },
  {
   "cell_type": "code",
   "execution_count": null,
   "id": "26f3ef11",
   "metadata": {
    "colab": {
     "base_uri": "https://localhost:8080/",
     "height": 300
    },
    "executionInfo": {
     "elapsed": 313,
     "status": "ok",
     "timestamp": 1642113598878,
     "user": {
      "displayName": "joaquin fernandez",
      "photoUrl": "https://lh3.googleusercontent.com/a/default-user=s64",
      "userId": "01269853900605410897"
     },
     "user_tz": 180
    },
    "id": "OvtxdS51dpD-",
    "outputId": "b61c1848-9597-4881-9103-131b31762a10"
   },
   "outputs": [],
   "source": [
    "data[[\"surface_covered_in_m2_Clean\",\"surface_total_in_m2_Clean\"]].describe()"
   ]
  },
  {
   "cell_type": "code",
   "execution_count": null,
   "id": "2ef05198",
   "metadata": {},
   "outputs": [],
   "source": [
    "#veamos como quedan los valores antes de imputar por la mediana\n",
    "\n",
    "with sns.axes_style(style='ticks'):\n",
    "    g = sns.catplot(x = 'property_type', y = \"surface_total_in_m2_Clean\", data=data, kind=\"boxen\")\n",
    "    g.set_axis_labels(\"Property_Type\", \"surface_total_in_m2_Clean\");\n",
    "    \n",
    "data.groupby('property_type')[('surface_total_in_m2_Clean')].describe()\n"
   ]
  },
  {
   "cell_type": "code",
   "execution_count": null,
   "id": "997adb3b",
   "metadata": {},
   "outputs": [],
   "source": [
    "#Vamos a imputar por la mediana, agrupanto por property_type, state_name y rooms_clean\n",
    "\n",
    "#Creamos una serie que tenga la mediana por 'property_type', 'state_name' y 'rooms_clean'\n",
    "grouped_by_m2total_clean = data.groupby(['property_type','state_name','rooms_Clean'])['surface_total_in_m2_Clean'].transform('median')\n",
    "grouped_by_m2covered_clean = data.groupby(['property_type','state_name',\"rooms_Clean\"])['surface_covered_in_m2_Clean'].transform('median')\n",
    "\n",
    "#usamos esas series para completar los nulos en 'surface_total_in_m2_Clean' y 'surface_covered_in_m2_Clean'\n",
    "data.loc[(data['surface_total_in_m2_Clean'] == 0), 'surface_total_in_m2_Clean'] = grouped_by_m2total_clean\n",
    "data.loc[(data['surface_covered_in_m2_Clean'] == 0), 'surface_covered_in_m2_Clean'] = grouped_by_m2covered_clean\n",
    "\n",
    "print('Nulos en surface_covered_in_m2_Clean', (data['surface_covered_in_m2_Clean'] == 0).sum())\n",
    "print('Nulos en surface_total_in_m2_Clean', (data['surface_total_in_m2_Clean'] == 0).sum())"
   ]
  },
  {
   "cell_type": "code",
   "execution_count": null,
   "id": "0829009d",
   "metadata": {},
   "outputs": [],
   "source": [
    "#segunda limpieza con property type y rooms_clean\n",
    "\n",
    "grouped_by_m2total_clean2 = data.groupby(['property_type','rooms_Clean'])['surface_total_in_m2_Clean'].transform('median')\n",
    "grouped_by_m2covered_clean2 = data.groupby(['property_type','rooms_Clean'])['surface_covered_in_m2_Clean'].transform('median')\n",
    "\n",
    "data.loc[(data['surface_total_in_m2_Clean'] == 0), 'surface_total_in_m2_Clean'] = grouped_by_m2total_clean2\n",
    "data.loc[(data['surface_covered_in_m2_Clean'] == 0), 'surface_covered_in_m2_Clean'] = grouped_by_m2covered_clean2\n",
    "\n",
    "print('Nulos en surface_covered_in_m2_Clean', (data['surface_covered_in_m2_Clean'] == 0).sum())\n",
    "print('Nulos en surface_total_in_m2_Clean', (data['surface_total_in_m2_Clean'] == 0).sum())\n"
   ]
  },
  {
   "cell_type": "code",
   "execution_count": null,
   "id": "52f1aa14",
   "metadata": {},
   "outputs": [],
   "source": [
    "#segunda limpieza solo con property_type\n",
    "grouped_by_m2total_clean3 = data.groupby(['property_type'])['surface_total_in_m2_Clean'].transform('median')\n",
    "grouped_by_m2covered_clean3 = data.groupby(['property_type'])['surface_covered_in_m2_Clean'].transform('median')\n",
    "\n",
    "data.loc[(data['surface_total_in_m2_Clean']==0)|(data['surface_total_in_m2_Clean'].isna()), 'surface_total_in_m2_Clean'] = grouped_by_m2total_clean3\n",
    "data.loc[(data['surface_covered_in_m2_Clean']==0|(data['surface_covered_in_m2_Clean'].isna())), 'surface_covered_in_m2_Clean'] = grouped_by_m2covered_clean3\n",
    "\n",
    "print('Nulos en surface_covered_in_m2_Clean', (data['surface_covered_in_m2_Clean'] == 0).sum())\n",
    "print('Nulos en surface_total_in_m2_Clean', (data['surface_total_in_m2_Clean'] == 0).sum())"
   ]
  },
  {
   "cell_type": "code",
   "execution_count": null,
   "id": "67612340",
   "metadata": {},
   "outputs": [],
   "source": [
    "#teniamos 2616 observaciones con menos de 30m2\n",
    "data.surface_total_in_m2_Clean[data.surface_total_in_m2_Clean<30].count()"
   ]
  },
  {
   "cell_type": "code",
   "execution_count": null,
   "id": "7c425eb1",
   "metadata": {},
   "outputs": [],
   "source": [
    "#tenemos observaciones con menos de 30m2, por lo tanto tenemos que eliminarlas.\n",
    "\n",
    "#Creamos una serie que tenga la mediana por 'property_type' y 'state_name'\n",
    "grouped_by_surface_total= data.groupby(['property_type'])['surface_total_in_m2_Clean'].transform('median')\n",
    "\n",
    "#usamos esas series para completar los nulos en 'price_clean'\n",
    "data.loc[(data['surface_total_in_m2_Clean'] < 30), 'surface_total_in_m2_Clean'] = grouped_by_surface_total\n",
    "\n",
    "print('Datos menores a 30:', (data[\"surface_total_in_m2_Clean\"] < 30).sum())\n"
   ]
  },
  {
   "cell_type": "code",
   "execution_count": null,
   "id": "fa15ec67",
   "metadata": {},
   "outputs": [],
   "source": [
    "data['surface_total_in_m2_Clean'].isna().sum()"
   ]
  },
  {
   "cell_type": "code",
   "execution_count": null,
   "id": "dae77638",
   "metadata": {},
   "outputs": [],
   "source": [
    "data[\"surface_covered_in_m2_Clean\"].isna().sum()"
   ]
  },
  {
   "cell_type": "code",
   "execution_count": null,
   "id": "bc595e47",
   "metadata": {},
   "outputs": [],
   "source": [
    "#Creamos una serie que tenga la mediana por 'property_type' y 'state_name'\n",
    "grouped_by_surface_covered= data.groupby(['property_type'])['surface_covered_in_m2_Clean'].transform('median')\n",
    "\n",
    "#usamos esas series para completar los nulos en 'price_clean'\n",
    "data.loc[(data['surface_covered_in_m2_Clean'] < 30), 'surface_covered_in_m2_Clean'] = grouped_by_surface_covered\n",
    "\n",
    "print('Datos menores a 30:', (data[\"surface_covered_in_m2_Clean\"] < 30).sum())\n"
   ]
  },
  {
   "cell_type": "code",
   "execution_count": null,
   "id": "03868d5e",
   "metadata": {},
   "outputs": [],
   "source": [
    "#Vemos como quedan los datos despues de imputar por la mediana\n",
    "\n",
    "with sns.axes_style(style='ticks'):\n",
    "    g = sns.catplot(x = 'property_type', y = \"surface_total_in_m2_Clean\", data=data, kind=\"boxen\")\n",
    "    g.set_axis_labels(\"Property_Type\", \"surface_total_in_m2_Clean\");\n",
    "    \n",
    "data.groupby('property_type')[('surface_total_in_m2_Clean')].describe()\n",
    "\n"
   ]
  },
  {
   "cell_type": "markdown",
   "id": "827c7326",
   "metadata": {
    "id": "3608ef53"
   },
   "source": [
    "<a id=\"section_price\"></a>\n",
    "### LIMPIEZA DE CAMPO 'price', 'price_aprox_usd' y 'currency'"
   ]
  },
  {
   "cell_type": "code",
   "execution_count": null,
   "id": "5ebbece2",
   "metadata": {
    "colab": {
     "base_uri": "https://localhost:8080/"
    },
    "executionInfo": {
     "elapsed": 301,
     "status": "ok",
     "timestamp": 1642113598883,
     "user": {
      "displayName": "joaquin fernandez",
      "photoUrl": "https://lh3.googleusercontent.com/a/default-user=s64",
      "userId": "01269853900605410897"
     },
     "user_tz": 180
    },
    "id": "ecd2fa05",
    "outputId": "76045b3f-f564-4831-bbb6-abf5be11ca14"
   },
   "outputs": [],
   "source": [
    "# comparo si todos los precios que estan en USD coinciden con los precios de la columna price_aprox_usd\n",
    "mismos_precios = data.loc[data['currency']=='USD','price'] == data.loc[data['currency']=='USD','price_aprox_usd']\n",
    "all(mismos_precios) \n"
   ]
  },
  {
   "cell_type": "code",
   "execution_count": null,
   "id": "e3f87b64",
   "metadata": {
    "colab": {
     "base_uri": "https://localhost:8080/",
     "height": 421
    },
    "executionInfo": {
     "elapsed": 258,
     "status": "ok",
     "timestamp": 1642113598891,
     "user": {
      "displayName": "joaquin fernandez",
      "photoUrl": "https://lh3.googleusercontent.com/a/default-user=s64",
      "userId": "01269853900605410897"
     },
     "user_tz": 180
    },
    "id": "b8c1e263",
    "outputId": "c32a07d5-60e3-4b77-8412-c8d7211ccb73"
   },
   "outputs": [],
   "source": [
    "#Verificamos el tipo de cambio dividiendo la columna de price en ARS por la columna price_aprox_usd\n",
    "Lista_tipo_cambio = data.loc[data['currency']=='ARS','price_aprox_usd'] / data.loc[data['currency']=='ARS','price']\n",
    "# Graficamos los tipos y vemos que no hay gran variabilidad\n",
    "plt.plot(Lista_tipo_cambio)\n",
    "plt.show()\n",
    "# Vemos su descripción estadistica\n",
    "Lista_tipo_cambio.describe()\n",
    "print('Media de tipo de cambio USD a ARS', Lista_tipo_cambio.mean())"
   ]
  },
  {
   "cell_type": "code",
   "execution_count": null,
   "id": "ab8551d3",
   "metadata": {
    "executionInfo": {
     "elapsed": 470,
     "status": "ok",
     "timestamp": 1642115409098,
     "user": {
      "displayName": "joaquin fernandez",
      "photoUrl": "https://lh3.googleusercontent.com/a/default-user=s64",
      "userId": "01269853900605410897"
     },
     "user_tz": 180
    },
    "id": "c59c455b"
   },
   "outputs": [],
   "source": [
    "# Vamos a mantener el precio si este está en USD y si está en ARS lo vamos a pasar multiplicado por el tipo de cambio\n",
    "data[\"price_clean\"] = np.where(data[\"currency\"]==\"ARS\",data[\"price\"]*(Lista_tipo_cambio.mean()),data[\"price\"])\n",
    "data.loc[data.price_clean.isna(), \"price_clean\"] = 0"
   ]
  },
  {
   "cell_type": "code",
   "execution_count": null,
   "id": "4d09b26b",
   "metadata": {
    "colab": {
     "base_uri": "https://localhost:8080/"
    },
    "executionInfo": {
     "elapsed": 305,
     "status": "ok",
     "timestamp": 1642115411901,
     "user": {
      "displayName": "joaquin fernandez",
      "photoUrl": "https://lh3.googleusercontent.com/a/default-user=s64",
      "userId": "01269853900605410897"
     },
     "user_tz": 180
    },
    "id": "iHthOj0zArbn",
    "outputId": "f8f40726-223f-475a-8a1a-cdc348e12c50"
   },
   "outputs": [],
   "source": [
    "print(data['currency'].value_counts())\n",
    "\n",
    "#droperamos las filas que en currency no son ni USD ni ARS (son 3 filas que tienen PEN y UYU)\n",
    "data = data[(data.currency==\"USD\") | (data.currency==\"ARS\") | (data.currency.isnull())].copy()\n",
    "\n",
    "#Currency ya no nos aporta mas info, así que deja de ser parte del dataset final, porque vamos a tener todo en usd. \n",
    "print('-------------')\n",
    "print(data['currency'].value_counts())"
   ]
  },
  {
   "cell_type": "markdown",
   "id": "24f087a7",
   "metadata": {},
   "source": [
    "Regex para sacar precios en USD de la descripcion y el titulo"
   ]
  },
  {
   "cell_type": "code",
   "execution_count": null,
   "id": "a240ca36",
   "metadata": {},
   "outputs": [],
   "source": [
    "# Tenemos que tener en cuenta que al hacer un Regex con los precios podemos encontrar varias cosas como ser el precio por m2, lo que vamos a eliminar como outliers luego\n",
    "title_serie = data['title']\n",
    "usd_pattern = \"(U|u)\\$.\\s\\d*.?(\\d*)\"\n",
    "priceusd_fromtitle_pattern_regex = re.compile(usd_pattern)\n",
    "\n",
    "priceusd_in_title = title_serie.apply(lambda x: x if x is np.NaN else priceusd_fromtitle_pattern_regex.search(x))\n",
    "\n",
    "priceusd_in_title_mask_not_null = priceusd_in_title.notnull()\n",
    "data.loc[priceusd_in_title_mask_not_null, 'priceusd_fromtitle_notclean'] = priceusd_in_title[priceusd_in_title_mask_not_null].apply(lambda x: x.group())\n",
    "data.loc[priceusd_in_title_mask_not_null, [\"title\", \"priceusd_fromtitle_notclean\"]].head(5)"
   ]
  },
  {
   "cell_type": "code",
   "execution_count": null,
   "id": "bb0d7861",
   "metadata": {},
   "outputs": [],
   "source": [
    "# Transformo la columna para poder usar lstrip\n",
    "data['priceusd_fromtitle_notclean'] = data['priceusd_fromtitle_notclean'].astype(str)\n",
    "data['priceusd_fromtitle_notclean'] = data['priceusd_fromtitle_notclean'].map(lambda x: x.lstrip('Uu$SsDd'))\n",
    "data['priceusd_fromtitle_notclean'] = data['priceusd_fromtitle_notclean'].map(lambda x: x.replace('.', ''))\n",
    "\n",
    "# Muestro el resultado\n",
    "data.loc[priceusd_in_title_mask_not_null, [\"title\", \"priceusd_fromtitle_notclean\"]].head(5)"
   ]
  },
  {
   "cell_type": "code",
   "execution_count": null,
   "id": "83c355c2",
   "metadata": {},
   "outputs": [],
   "source": [
    "# Pasamos la columna de Object a float\n",
    "data[\"priceusd_fromtitle_notclean\"] = data[\"priceusd_fromtitle_notclean\"].apply(lambda x: x if x is not np.NaN else 0)\n",
    "data[\"priceusd_fromtitle_notclean\"] = pd.to_numeric(data[\"priceusd_fromtitle_notclean\"], errors=\"coerce\", downcast=\"integer\")\n",
    "data[\"priceusd_fromtitle_notclean\"] = data[\"priceusd_fromtitle_notclean\"].apply(lambda x: x if x is not np.NaN else 0)\n",
    "data[\"priceusd_fromtitle_notclean\"].describe()\n"
   ]
  },
  {
   "cell_type": "code",
   "execution_count": null,
   "id": "3cf9b67f",
   "metadata": {},
   "outputs": [],
   "source": [
    "# Tenemos que tener en cuenta que al hacer un Regex con los precios podemos encontrar varias cosas como ser el precio por m2, lo que vamos a eliminar como outliers luego\n",
    "description_serie = data['description']\n",
    "usd_pattern = \"(U|u)\\$.\\s\\d*.?(\\d*)\"\n",
    "priceusd_fromdescription_pattern_regex = re.compile(usd_pattern)\n",
    "\n",
    "priceusd_in_description = description_serie.apply(lambda x: x if x is np.NaN else priceusd_fromdescription_pattern_regex.search(x))\n",
    "\n",
    "priceusd_in_description_mask_not_null = priceusd_in_description.notnull()\n",
    "data.loc[priceusd_in_description_mask_not_null, 'priceusd_fromdescription_notclean'] = priceusd_in_description[priceusd_in_description_mask_not_null].apply(lambda x: x.group())\n",
    "data.loc[priceusd_in_description_mask_not_null, [\"title\", \"priceusd_fromdescription_notclean\"]].head(5)"
   ]
  },
  {
   "cell_type": "code",
   "execution_count": null,
   "id": "8d8260d6",
   "metadata": {},
   "outputs": [],
   "source": [
    "# Transformo la columna para poder usar lstrip\n",
    "data['priceusd_fromdescription_notclean'] = data['priceusd_fromdescription_notclean'].astype(str)\n",
    "data['priceusd_fromdescription_notclean'] = data['priceusd_fromdescription_notclean'].map(lambda x: x.lstrip('Uu$SsDd'))\n",
    "data['priceusd_fromdescription_notclean'] = data['priceusd_fromdescription_notclean'].map(lambda x: x.replace('.', ''))\n",
    "\n",
    "# Muestro el resultado\n",
    "data.loc[priceusd_in_description_mask_not_null, [\"title\", \"priceusd_fromdescription_notclean\"]].head(5)"
   ]
  },
  {
   "cell_type": "code",
   "execution_count": null,
   "id": "ee113747",
   "metadata": {},
   "outputs": [],
   "source": [
    "# Pasamos la columna priceusd_fromdescription_notclean de Object a float\n",
    "data[\"priceusd_fromdescription_notclean\"] = data[\"priceusd_fromdescription_notclean\"].apply(lambda x: x if x is not np.NaN else 0)\n",
    "data[\"priceusd_fromdescription_notclean\"] = pd.to_numeric(data[\"priceusd_fromdescription_notclean\"], errors=\"coerce\", downcast=\"integer\")\n",
    "data[\"priceusd_fromdescription_notclean\"] = data[\"priceusd_fromdescription_notclean\"].apply(lambda x: x if x is not np.NaN else 0)\n",
    "data[\"priceusd_fromdescription_notclean\"].describe()\n",
    "# Muestro el resultado\n",
    "data.loc[priceusd_in_description_mask_not_null, [\"title\", \"priceusd_fromdescription_notclean\"]].head(5)"
   ]
  },
  {
   "cell_type": "code",
   "execution_count": null,
   "id": "e935cb1f",
   "metadata": {},
   "outputs": [],
   "source": [
    "# Uno las 2 columnas de priceusd_fromdescription_notclean y priceusd_fromtitle_notclean\n",
    "\n",
    "# Inicio una columna toda en cero\n",
    "data['priceusd_fromdescription_and_fromtitle'] = 0\n",
    "# Si detecto un valor en priceusd_fromtitle_notclean > 1000 se lo asigno a priceusd_fromdescription_and_fromtitle sino dejo cero\n",
    "data[\"priceusd_fromdescription_and_fromtitle'\"] = np.where(data[\"priceusd_fromtitle_notclean\"]>1000,data[\"priceusd_fromtitle_notclean\"],0)\n",
    "# Si detecto un valor en priceusd_fromdescription_notclean se lo asigno a asigno a priceusd_fromdescription_and_fromtitle sino dejo el que estaba\n",
    "data[\"priceusd_fromdescription_and_fromtitle'\"] = np.where(data[\"priceusd_fromdescription_notclean\"]>1000,data[\"priceusd_fromdescription_notclean\"],data[\"priceusd_fromdescription_and_fromtitle'\"])"
   ]
  },
  {
   "cell_type": "code",
   "execution_count": null,
   "id": "9ad3d40e",
   "metadata": {},
   "outputs": [],
   "source": [
    "data['price_clean']=np.where(data[\"price_clean\"]==0,data['priceusd_fromdescription_and_fromtitle'],data[\"price_clean\"])"
   ]
  },
  {
   "cell_type": "code",
   "execution_count": null,
   "id": "f05b3a51",
   "metadata": {},
   "outputs": [],
   "source": [
    "#Vemos como quedan los datos antes de imputar por la mediana\n",
    "\n",
    "with sns.axes_style(style='ticks'):\n",
    "    g = sns.catplot(x = 'property_type', y = \"price_clean\", data=data, kind=\"boxen\")\n",
    "    g.set_axis_labels(\"Property_Type\", \"price_clean\")\n",
    "    \n",
    "data.groupby('property_type')[('price_clean')].describe()\n"
   ]
  },
  {
   "cell_type": "code",
   "execution_count": null,
   "id": "df26dace",
   "metadata": {},
   "outputs": [],
   "source": [
    "#imputamos price_clean por la mediana\n",
    "\n",
    "print('Nulos en price_clean', (data[\"price_clean\"] == 0).sum())\n",
    "\n",
    "#Creamos una serie que tenga la mediana por 'property_type','rooms_clean' y 'state_name'\n",
    "grouped_by_price_clean = data.groupby(['property_type','state_name','rooms_Clean'])['price_clean'].transform('median')\n",
    "\n",
    "#usamos esas series para completar los nulos en 'price_clean'\n",
    "data.loc[(data['price_clean'] == 0), 'price_clean'] = grouped_by_price_clean\n",
    "\n",
    "print('Nulos en price_clean', (data[\"price_clean\"] == 0).sum())\n"
   ]
  },
  {
   "cell_type": "code",
   "execution_count": null,
   "id": "b9302788",
   "metadata": {},
   "outputs": [],
   "source": [
    "#Creamos una serie que tenga la mediana por 'property_type' y 'state_name'\n",
    "grouped_by_price_clean2 = data.groupby(['property_type','state_name'])['price_clean'].transform('median')\n",
    "\n",
    "#usamos esas series para completar los nulos en 'price_clean'\n",
    "data.loc[(data['price_clean'] == 0), 'price_clean'] = grouped_by_price_clean2\n",
    "\n",
    "print('Nulos en price_clean', (data[\"price_clean\"] == 0).sum())\n"
   ]
  },
  {
   "cell_type": "code",
   "execution_count": null,
   "id": "3e2e0b9f",
   "metadata": {},
   "outputs": [],
   "source": [
    "#Creamos una serie que tenga la mediana por 'property_type' \n",
    "grouped_by_price_clean3 = data.groupby(['property_type'])['price_clean'].transform('median')\n",
    "\n",
    "#usamos esas series para completar los nulos en 'price_clean'\n",
    "data.loc[(data['price_clean'] == 0), 'price_clean'] = grouped_by_price_clean3\n",
    "\n",
    "print('Nulos en price_clean', (data[\"price_clean\"] == 0).sum())"
   ]
  },
  {
   "cell_type": "code",
   "execution_count": null,
   "id": "8e06bf2c",
   "metadata": {},
   "outputs": [],
   "source": [
    "#price_usd_per_m2_clean\n",
    "\n",
    "#utilizamos los valores que tenemos, si no los sacamos por formula\n",
    "data[\"price_usd_per_m2_Clean\"]=np.where(data.price_usd_per_m2>0, data.price_usd_per_m2, data[\"price_clean\"]/data[\"surface_total_in_m2_Clean\"])\n",
    "\n",
    "#convertimos np.NaN e inf en 0\n",
    "data[\"price_usd_per_m2_Clean\"]=data[\"price_usd_per_m2_Clean\"].replace(np.NaN,0).replace(np.inf,0)\n",
    "\n",
    "data[\"price_usd_per_m2_Clean\"].astype(np.float).describe()"
   ]
  },
  {
   "cell_type": "code",
   "execution_count": null,
   "id": "0d976cfb",
   "metadata": {
    "colab": {
     "base_uri": "https://localhost:8080/"
    },
    "executionInfo": {
     "elapsed": 552,
     "status": "ok",
     "timestamp": 1642113600332,
     "user": {
      "displayName": "joaquin fernandez",
      "photoUrl": "https://lh3.googleusercontent.com/a/default-user=s64",
      "userId": "01269853900605410897"
     },
     "user_tz": 180
    },
    "id": "k73Var3lH7cA",
    "outputId": "c21af20f-7752-411d-9d54-86f7ad90c0aa"
   },
   "outputs": [],
   "source": [
    "#Vemos como quedan los datos de price_clean despues de imputar por la mediana\n",
    "\n",
    "with sns.axes_style(style='ticks'):\n",
    "    g = sns.catplot(x = 'property_type', y = \"price_clean\", data=data, kind=\"boxen\")\n",
    "    g.set_axis_labels(\"Property_Type\", \"price_clean\");\n",
    "    \n",
    "data.groupby('property_type')[('price_clean')].describe()\n"
   ]
  },
  {
   "cell_type": "code",
   "execution_count": null,
   "id": "e60a0ea0",
   "metadata": {
    "colab": {
     "base_uri": "https://localhost:8080/"
    },
    "executionInfo": {
     "elapsed": 138,
     "status": "ok",
     "timestamp": 1642113600336,
     "user": {
      "displayName": "joaquin fernandez",
      "photoUrl": "https://lh3.googleusercontent.com/a/default-user=s64",
      "userId": "01269853900605410897"
     },
     "user_tz": 180
    },
    "id": "QYmeUMspH7Wx",
    "outputId": "face020b-6130-461e-94ca-d9229a9c29b5"
   },
   "outputs": [],
   "source": [
    "#Vemos como quedan los datos price_usd_per_m2_Clean \n",
    "\n",
    "with sns.axes_style(style='ticks'):\n",
    "    g = sns.catplot(x = 'property_type', y = \"price_usd_per_m2_Clean\", data=data, kind=\"boxen\")\n",
    "    g.set_axis_labels(\"Property_Type\", \"price_usd_per_m2_Clean\");\n",
    "    \n",
    "data.groupby('property_type')[('price_usd_per_m2_Clean')].describe()\n"
   ]
  },
  {
   "cell_type": "markdown",
   "id": "9799d6f2",
   "metadata": {
    "id": "ZkmJTkgjzbyl"
   },
   "source": [
    "<a id=\"section_drop\"></a>\n",
    "### DROP DE OUTLIERS Y NULOS"
   ]
  },
  {
   "cell_type": "code",
   "execution_count": null,
   "id": "dec7b5d0",
   "metadata": {
    "colab": {
     "base_uri": "https://localhost:8080/"
    },
    "executionInfo": {
     "elapsed": 437,
     "status": "ok",
     "timestamp": 1642114576357,
     "user": {
      "displayName": "joaquin fernandez",
      "photoUrl": "https://lh3.googleusercontent.com/a/default-user=s64",
      "userId": "01269853900605410897"
     },
     "user_tz": 180
    },
    "id": "UI7s6jOsH7SL",
    "outputId": "aedf4839-8e6b-4140-f52d-1c38b21a11fc"
   },
   "outputs": [],
   "source": [
    "#definimos una función para dropear los outliers definida por el IQR\n",
    "#Ahora la uso solo en rooms pero la idea es usarla en todo. \n",
    "registros_totales = data.shape[0]\n",
    "col_clean = ['rooms_Clean', 'surface_total_in_m2_Clean','surface_covered_in_m2_Clean', 'price_clean','price_usd_per_m2_Clean']\n",
    "\n",
    "def iqr_column(columna): #input: data.columna \n",
    "    iqr_temp = iqr(columna[columna>1])*1.5               #iqr\n",
    "    Q3_temp = columna[columna>1].quantile(0.75)+iqr_temp #upper limit\n",
    "    Q1_temp = columna[columna>1].quantile(0.25)-iqr_temp #lower limit\n",
    "    print(columna.name)\n",
    "    print(\"iqr:\",iqr_temp)\n",
    "    print(\"upper:\",Q3_temp)\n",
    "    print(\"lower:\",Q1_temp)\n",
    "    return Q3_temp,Q1_temp\n",
    "\n",
    "\n",
    "for col in col_clean:\n",
    "    col = data[col]\n",
    "    registros_campo=col.shape[0]\n",
    "    upper_temp, lower_temp = iqr_column(col)\n",
    "    data.drop(data[(col>upper_temp)|(col<lower_temp)].index,axis=0,inplace=True)\n",
    "    print('Se droperon', (registros_campo- data.shape[0]),  'outliers del campo', col.name)\n",
    "    print(\"\")\n",
    "\n",
    "print('total dropeado:', registros_totales - data.shape[0])\n"
   ]
  },
  {
   "cell_type": "markdown",
   "id": "afd8d6e5",
   "metadata": {
    "colab": {
     "base_uri": "https://localhost:8080/"
    },
    "executionInfo": {
     "elapsed": 375,
     "status": "ok",
     "timestamp": 1642118207409,
     "user": {
      "displayName": "joaquin fernandez",
      "photoUrl": "https://lh3.googleusercontent.com/a/default-user=s64",
      "userId": "01269853900605410897"
     },
     "user_tz": 180
    },
    "id": "nqC5VqQ53vs2",
    "outputId": "117f7109-2e18-4e0c-dcb7-5d1d83d75d1d"
   },
   "source": [
    "<a id=\"section_graficos\"></a>\n",
    "### GRÁFICOS POST DROPEO FINAL"
   ]
  },
  {
   "cell_type": "code",
   "execution_count": null,
   "id": "8a673e33",
   "metadata": {},
   "outputs": [],
   "source": [
    "data[data[col_clean]>0].loc[:,col_clean].describe()"
   ]
  },
  {
   "cell_type": "code",
   "execution_count": null,
   "id": "b3a7783b",
   "metadata": {
    "colab": {
     "base_uri": "https://localhost:8080/",
     "height": 300
    },
    "executionInfo": {
     "elapsed": 379,
     "status": "ok",
     "timestamp": 1642115419476,
     "user": {
      "displayName": "joaquin fernandez",
      "photoUrl": "https://lh3.googleusercontent.com/a/default-user=s64",
      "userId": "01269853900605410897"
     },
     "user_tz": 180
    },
    "id": "4YbIHMWbp29b",
    "outputId": "ab2e5b79-94ed-4853-92f8-0008573f1c70"
   },
   "outputs": [],
   "source": [
    "#Vemos como queda la disperción después de dropear outliers en rooms\n",
    "\n",
    "with sns.axes_style(style='ticks'):\n",
    "    g = sns.catplot(x = 'property_type', y = \"rooms_Clean\", data=data, kind=\"boxen\")\n",
    "    g.set_axis_labels(\"Property_Type\", \"rooms_Clean\");\n",
    "    \n",
    "data.groupby('property_type')['rooms_Clean'].describe()\n"
   ]
  },
  {
   "cell_type": "code",
   "execution_count": null,
   "id": "3c7f9d72",
   "metadata": {
    "colab": {
     "base_uri": "https://localhost:8080/",
     "height": 300
    },
    "executionInfo": {
     "elapsed": 379,
     "status": "ok",
     "timestamp": 1642115419476,
     "user": {
      "displayName": "joaquin fernandez",
      "photoUrl": "https://lh3.googleusercontent.com/a/default-user=s64",
      "userId": "01269853900605410897"
     },
     "user_tz": 180
    },
    "id": "4YbIHMWbp29b",
    "outputId": "ab2e5b79-94ed-4853-92f8-0008573f1c70"
   },
   "outputs": [],
   "source": [
    "#Vemos como queda la disperción después de dropear outliers en rooms\n",
    "\n",
    "with sns.axes_style(style='ticks'):\n",
    "    g = sns.catplot(x = 'property_type', y = \"rooms_Clean\", data=data, kind=\"boxen\")\n",
    "    g.set_axis_labels(\"Property_Type\", \"rooms_Clean\");\n",
    "    \n",
    "data.groupby('property_type')['rooms_Clean'].describe()\n"
   ]
  },
  {
   "cell_type": "code",
   "execution_count": null,
   "id": "8e2be576",
   "metadata": {
    "colab": {
     "base_uri": "https://localhost:8080/"
    },
    "executionInfo": {
     "elapsed": 386,
     "status": "ok",
     "timestamp": 1642116386023,
     "user": {
      "displayName": "joaquin fernandez",
      "photoUrl": "https://lh3.googleusercontent.com/a/default-user=s64",
      "userId": "01269853900605410897"
     },
     "user_tz": 180
    },
    "id": "bmxFrA_Fwm4T",
    "outputId": "bb09d428-e0eb-433c-978d-75120a66d472"
   },
   "outputs": [],
   "source": [
    "#Vemos como queda la disperción después de dropear outliers en surface_total_in_m2_Clean\n",
    "\n",
    "with sns.axes_style(style='ticks'):\n",
    "    g = sns.catplot(x = 'property_type', y = \"surface_total_in_m2_Clean\", data=data, kind=\"boxen\")\n",
    "    g.set_axis_labels(\"Property_Type\", \"surface_total_in_m2_Clean\");\n",
    "    \n",
    "data.groupby('property_type')[('surface_total_in_m2_Clean')].describe()\n"
   ]
  },
  {
   "cell_type": "code",
   "execution_count": null,
   "id": "c3143fe3",
   "metadata": {
    "executionInfo": {
     "elapsed": 393,
     "status": "ok",
     "timestamp": 1642116683481,
     "user": {
      "displayName": "joaquin fernandez",
      "photoUrl": "https://lh3.googleusercontent.com/a/default-user=s64",
      "userId": "01269853900605410897"
     },
     "user_tz": 180
    },
    "id": "R8dQSzeIxnI0"
   },
   "outputs": [],
   "source": [
    "#Vemos como queda la disperción después de dropear outliers en price_clean\n",
    "\n",
    "with sns.axes_style(style='ticks'):\n",
    "    g = sns.catplot(x = 'property_type', y = \"price_clean\", data=data, kind=\"boxen\")\n",
    "    g.set_axis_labels(\"Property_Type\", \"price_clean\");\n",
    "    \n",
    "data.groupby('property_type')[('price_clean')].describe()\n"
   ]
  },
  {
   "cell_type": "code",
   "execution_count": null,
   "id": "dd299a08",
   "metadata": {
    "colab": {
     "base_uri": "https://localhost:8080/"
    },
    "executionInfo": {
     "elapsed": 364,
     "status": "ok",
     "timestamp": 1642117570731,
     "user": {
      "displayName": "joaquin fernandez",
      "photoUrl": "https://lh3.googleusercontent.com/a/default-user=s64",
      "userId": "01269853900605410897"
     },
     "user_tz": 180
    },
    "id": "bQvvnPGDxDM_",
    "outputId": "5ded5a82-6aa7-4471-ec44-5ac71ab24585"
   },
   "outputs": [],
   "source": [
    "#Vemos como queda la disperción después de dropear outliers en price_usd_per_m2_Clean\n",
    "\n",
    "\n",
    "with sns.axes_style(style='ticks'):\n",
    "    g = sns.catplot(x = 'property_type', y = \"price_usd_per_m2_Clean\", data=data, kind=\"boxen\")\n",
    "    g.set_axis_labels(\"Property_Type\", \"price_usd_per_m2_Clean\");\n",
    "    \n",
    "data.groupby('property_type')[('price_usd_per_m2_Clean')].describe()\n"
   ]
  },
  {
   "cell_type": "code",
   "execution_count": null,
   "id": "6c1c0c24",
   "metadata": {},
   "outputs": [],
   "source": [
    "data.columns #'rooms_Clean', 'surface_total_in_m2_Clean','surface_covered_in_m2_Clean', 'price_clean',price_usd_per_m2_Clean"
   ]
  },
  {
   "cell_type": "code",
   "execution_count": null,
   "id": "f62ec06c",
   "metadata": {},
   "outputs": [],
   "source": [
    "data.isna().sum()"
   ]
  },
  {
   "cell_type": "code",
   "execution_count": null,
   "id": "1272fe1d",
   "metadata": {},
   "outputs": [],
   "source": [
    "data.dropna(subset=['property_type','Barrio_1', 'Barrio_2', 'Barrio_3',\n",
    "       'description_Clean', 'rooms_Clean', 'surface_total_in_m2_Clean',\n",
    "       'surface_covered_in_m2_Clean', 'price_clean', 'price_usd_per_m2_Clean'],inplace=True)"
   ]
  },
  {
   "cell_type": "code",
   "execution_count": null,
   "id": "4c9f3446",
   "metadata": {
    "executionInfo": {
     "elapsed": 387,
     "status": "ok",
     "timestamp": 1642117930234,
     "user": {
      "displayName": "joaquin fernandez",
      "photoUrl": "https://lh3.googleusercontent.com/a/default-user=s64",
      "userId": "01269853900605410897"
     },
     "user_tz": 180
    },
    "id": "3A6vMdYn11Kj"
   },
   "outputs": [],
   "source": [
    "data.isna().sum()"
   ]
  },
  {
   "cell_type": "code",
   "execution_count": null,
   "id": "3aacea5c",
   "metadata": {
    "colab": {
     "base_uri": "https://localhost:8080/"
    },
    "executionInfo": {
     "elapsed": 365,
     "status": "ok",
     "timestamp": 1642117979501,
     "user": {
      "displayName": "joaquin fernandez",
      "photoUrl": "https://lh3.googleusercontent.com/a/default-user=s64",
      "userId": "01269853900605410897"
     },
     "user_tz": 180
    },
    "id": "RrKN3uAt2WI7",
    "outputId": "3b2f7449-a788-46c8-96d1-3be59863282c"
   },
   "outputs": [],
   "source": [
    "data_final=data[['property_type','state_name','Barrio_1', 'Barrio_2', 'Barrio_3',\n",
    "       'description_Clean', 'rooms_Clean', 'surface_total_in_m2_Clean',\n",
    "       'surface_covered_in_m2_Clean', 'price_clean', 'price_usd_per_m2_Clean']]\n",
    "\n",
    "print(data_final.isna().sum())\n",
    "data_final\n"
   ]
  },
  {
   "cell_type": "code",
   "execution_count": null,
   "id": "f6a8b638",
   "metadata": {
    "id": "sOVWSVLLwWfs"
   },
   "outputs": [],
   "source": [
    "#Veamos la correlación entre las variables que elegimos dejar en data final\n",
    "\n",
    "sns.heatmap(data_final.corr(), annot=True, vmin=-1, cmap='Blues');"
   ]
  },
  {
   "cell_type": "code",
   "execution_count": null,
   "id": "4f105879",
   "metadata": {},
   "outputs": [],
   "source": [
    "sns.pairplot(data_final);"
   ]
  },
  {
   "cell_type": "code",
   "execution_count": null,
   "id": "574cc136",
   "metadata": {},
   "outputs": [],
   "source": []
  }
 ],
 "metadata": {
  "colab": {
   "collapsed_sections": [],
   "name": "D1_-_Limpieza_v4.ipynb",
   "provenance": []
  },
  "kernelspec": {
   "display_name": "Python 3 (ipykernel)",
   "language": "python",
   "name": "python3"
  },
  "language_info": {
   "codemirror_mode": {
    "name": "ipython",
    "version": 3
   },
   "file_extension": ".py",
   "mimetype": "text/x-python",
   "name": "python",
   "nbconvert_exporter": "python",
   "pygments_lexer": "ipython3",
   "version": "3.8.12"
  }
 },
 "nbformat": 4,
 "nbformat_minor": 5
}
