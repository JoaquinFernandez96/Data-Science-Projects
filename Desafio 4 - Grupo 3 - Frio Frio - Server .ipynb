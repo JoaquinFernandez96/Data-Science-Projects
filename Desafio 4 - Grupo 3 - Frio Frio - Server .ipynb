{
 "cells": [
  {
   "cell_type": "code",
   "execution_count": 1,
   "id": "025b5467",
   "metadata": {},
   "outputs": [],
   "source": [
    "import pandas as pd\n",
    "import requests\n",
    "import numpy as np"
   ]
  },
  {
   "cell_type": "code",
   "execution_count": 2,
   "id": "3bda9166",
   "metadata": {},
   "outputs": [],
   "source": [
    "test_pickle=['0.0000e+00', '0.0000e+00', '0.0000e+00', '0.0000e+00', '3.9000e-01',\n",
    "       '2.0000e+01', '0.0000e+00', '2.2500e+02', '5.7525e+03', '0.0000e+00',\n",
    "       '1.0000e+00', '0.0000e+00', '0.0000e+00', '0.0000e+00', '0.0000e+00',\n",
    "       '0.0000e+00', '0.0000e+00', '0.0000e+00', '0.0000e+00', '0.0000e+00',\n",
    "       '0.0000e+00', '0.0000e+00', '1.0000e+00', '0.0000e+00', '0.0000e+00',\n",
    "       '0.0000e+00', '0.0000e+00', '0.0000e+00', '0.0000e+00', '1.0000e+00',\n",
    "       '0.0000e+00', '0.0000e+00', '0.0000e+00', '0.0000e+00', '0.0000e+00',\n",
    "       '1.0000e+00', '0.0000e+00', '0.0000e+00', '0.0000e+00', '0.0000e+00',\n",
    "       '0.0000e+00', '0.0000e+00', '0.0000e+00', '0.0000e+00', '0.0000e+00',\n",
    "       '0.0000e+00', '0.0000e+00', '1.0000e+00', '0.0000e+00', '0.0000e+00',\n",
    "       '0.0000e+00', '0.0000e+00', '0.0000e+00', '0.0000e+00', '0.0000e+00',\n",
    "       '0.0000e+00', '0.0000e+00', '0.0000e+00', '1.0000e+00', '0.0000e+00',\n",
    "       '0.0000e+00', '0.0000e+00', '0.0000e+00', '0.0000e+00', '0.0000e+00',\n",
    "       '0.0000e+00', '0.0000e+00', '0.0000e+00', '0.0000e+00', '0.0000e+00',\n",
    "       '0.0000e+00', '0.0000e+00', '0.0000e+00', '0.0000e+00', '0.0000e+00',\n",
    "       '0.0000e+00', '0.0000e+00', '1.0000e+00', '0.0000e+00', '1.0000e+00',\n",
    "       '0.0000e+00', '0.0000e+00', '0.0000e+00', '0.0000e+00', '0.0000e+00',\n",
    "       '0.0000e+00', '0.0000e+00', '1.0000e+00', '0.0000e+00', '0.0000e+00',\n",
    "       '0.0000e+00', '1.0000e+00', '0.0000e+00', '0.0000e+00', '0.0000e+00',\n",
    "       '0.0000e+00', '0.0000e+00', '0.0000e+00', '0.0000e+00', '0.0000e+00',\n",
    "       '0.0000e+00', '0.0000e+00', '0.0000e+00', '0.0000e+00', '0.0000e+00',\n",
    "       '0.0000e+00', '1.0000e+00', '0.0000e+00', '0.0000e+00', '0.0000e+00',\n",
    "       '0.0000e+00', '0.0000e+00', '0.0000e+00', '0.0000e+00', '0.0000e+00',\n",
    "       '0.0000e+00', '0.0000e+00', '0.0000e+00', '0.0000e+00', '0.0000e+00',\n",
    "       '0.0000e+00', '0.0000e+00', '0.0000e+00', '0.0000e+00', '0.0000e+00',\n",
    "       '0.0000e+00', '0.0000e+00', '0.0000e+00', '0.0000e+00', '0.0000e+00',\n",
    "       '0.0000e+00', '0.0000e+00', '0.0000e+00', '1.0000e+00', '0.0000e+00',\n",
    "       '0.0000e+00', '0.0000e+00', '0.0000e+00', '0.0000e+00', '0.0000e+00',\n",
    "       '0.0000e+00', '0.0000e+00', '0.0000e+00', '1.0000e+00', '0.0000e+00',\n",
    "       '0.0000e+00', '0.0000e+00', '0.0000e+00', '0.0000e+00', '0.0000e+00']"
   ]
  },
  {
   "cell_type": "code",
   "execution_count": 15,
   "id": "05d88948",
   "metadata": {},
   "outputs": [
    {
     "name": "stdout",
     "output_type": "stream",
     "text": [
      "La probabilidad de ganar la cotización es de 0.58\n"
     ]
    }
   ],
   "source": [
    "\n",
    "features={'features':test_pickle}\n",
    "\n",
    "url='http://localhost:5017/api'\n",
    "\n",
    "r=requests.post(url,json=features)\n",
    "\n",
    "print(\"La probabilidad de ganar la cotización es de\",round(r.json()[\"result\"][0][1],2))\n"
   ]
  },
  {
   "cell_type": "code",
   "execution_count": null,
   "id": "989fa7a6",
   "metadata": {},
   "outputs": [],
   "source": []
  },
  {
   "cell_type": "code",
   "execution_count": null,
   "id": "ee5e34f9",
   "metadata": {},
   "outputs": [],
   "source": []
  },
  {
   "cell_type": "code",
   "execution_count": null,
   "id": "f9a90546",
   "metadata": {},
   "outputs": [],
   "source": []
  },
  {
   "cell_type": "code",
   "execution_count": null,
   "id": "51905284",
   "metadata": {},
   "outputs": [],
   "source": []
  },
  {
   "cell_type": "code",
   "execution_count": null,
   "id": "04b0cfcc",
   "metadata": {},
   "outputs": [],
   "source": []
  },
  {
   "cell_type": "code",
   "execution_count": null,
   "id": "33bfb408",
   "metadata": {},
   "outputs": [],
   "source": []
  }
 ],
 "metadata": {
  "kernelspec": {
   "display_name": "Python 3 (ipykernel)",
   "language": "python",
   "name": "python3"
  },
  "language_info": {
   "codemirror_mode": {
    "name": "ipython",
    "version": 3
   },
   "file_extension": ".py",
   "mimetype": "text/x-python",
   "name": "python",
   "nbconvert_exporter": "python",
   "pygments_lexer": "ipython3",
   "version": "3.8.12"
  }
 },
 "nbformat": 4,
 "nbformat_minor": 5
}
