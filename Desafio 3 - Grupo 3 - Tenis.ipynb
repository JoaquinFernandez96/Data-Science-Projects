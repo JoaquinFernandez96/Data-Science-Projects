{
 "cells": [
  {
   "cell_type": "code",
   "execution_count": 1,
   "id": "d60e73fd",
   "metadata": {
    "colab": {
     "base_uri": "https://localhost:8080/"
    },
    "id": "76f2532c",
    "outputId": "ae5aab11-1b91-4c28-90d8-95459ef79cc6"
   },
   "outputs": [
    {
     "name": "stdout",
     "output_type": "stream",
     "text": [
      "Requirement already satisfied: fuzzywuzzy in c:\\users\\fede\\anaconda3\\envs\\dhdsblend2021\\lib\\site-packages (0.18.0)\n"
     ]
    }
   ],
   "source": [
    "!pip install fuzzywuzzy"
   ]
  },
  {
   "cell_type": "code",
   "execution_count": 2,
   "id": "bcf1619c",
   "metadata": {},
   "outputs": [],
   "source": [
    "import warnings #  for avoid unwanted warnings\n",
    "warnings.filterwarnings('ignore')\n",
    "from IPython.core.display import display, HTML # for HTMl tag use in python"
   ]
  },
  {
   "cell_type": "code",
   "execution_count": 3,
   "id": "9e57f9c3",
   "metadata": {
    "id": "b3738e6a"
   },
   "outputs": [],
   "source": [
    "import pandas as pd\n",
    "import numpy as np\n",
    "import re\n",
    "from random import choice\n",
    "import os\n",
    "import pandas as pd\n",
    "from fuzzywuzzy import fuzz"
   ]
  },
  {
   "cell_type": "code",
   "execution_count": 4,
   "id": "9a0867a8",
   "metadata": {
    "colab": {
     "base_uri": "https://localhost:8080/",
     "height": 236
    },
    "id": "45a0946d",
    "outputId": "7c719c8c-381c-4010-8e2d-ea02dbedbd41"
   },
   "outputs": [
    {
     "data": {
      "text/html": [
       "<div>\n",
       "<style scoped>\n",
       "    .dataframe tbody tr th:only-of-type {\n",
       "        vertical-align: middle;\n",
       "    }\n",
       "\n",
       "    .dataframe tbody tr th {\n",
       "        vertical-align: top;\n",
       "    }\n",
       "\n",
       "    .dataframe thead th {\n",
       "        text-align: right;\n",
       "    }\n",
       "</style>\n",
       "<table border=\"1\" class=\"dataframe\">\n",
       "  <thead>\n",
       "    <tr style=\"text-align: right;\">\n",
       "      <th></th>\n",
       "      <th>ATP</th>\n",
       "      <th>Location</th>\n",
       "      <th>Tournament</th>\n",
       "      <th>Date</th>\n",
       "      <th>Series</th>\n",
       "      <th>Court</th>\n",
       "      <th>Surface</th>\n",
       "      <th>Round</th>\n",
       "      <th>Best of</th>\n",
       "      <th>Winner</th>\n",
       "      <th>...</th>\n",
       "      <th>L2</th>\n",
       "      <th>W3</th>\n",
       "      <th>L3</th>\n",
       "      <th>W4</th>\n",
       "      <th>L4</th>\n",
       "      <th>W5</th>\n",
       "      <th>L5</th>\n",
       "      <th>Wsets</th>\n",
       "      <th>Lsets</th>\n",
       "      <th>Comment</th>\n",
       "    </tr>\n",
       "  </thead>\n",
       "  <tbody>\n",
       "    <tr>\n",
       "      <th>0</th>\n",
       "      <td>1</td>\n",
       "      <td>Brisbane</td>\n",
       "      <td>Brisbane International</td>\n",
       "      <td>2017-01-01</td>\n",
       "      <td>ATP250</td>\n",
       "      <td>Outdoor</td>\n",
       "      <td>Hard</td>\n",
       "      <td>1st Round</td>\n",
       "      <td>3</td>\n",
       "      <td>Thompson J.</td>\n",
       "      <td>...</td>\n",
       "      <td>2.0</td>\n",
       "      <td>NaN</td>\n",
       "      <td>NaN</td>\n",
       "      <td>NaN</td>\n",
       "      <td>NaN</td>\n",
       "      <td>NaN</td>\n",
       "      <td>NaN</td>\n",
       "      <td>2.0</td>\n",
       "      <td>0.0</td>\n",
       "      <td>Completed</td>\n",
       "    </tr>\n",
       "    <tr>\n",
       "      <th>1</th>\n",
       "      <td>1</td>\n",
       "      <td>Brisbane</td>\n",
       "      <td>Brisbane International</td>\n",
       "      <td>2017-01-02</td>\n",
       "      <td>ATP250</td>\n",
       "      <td>Outdoor</td>\n",
       "      <td>Hard</td>\n",
       "      <td>1st Round</td>\n",
       "      <td>3</td>\n",
       "      <td>Mahut N.</td>\n",
       "      <td>...</td>\n",
       "      <td>3.0</td>\n",
       "      <td>6.0</td>\n",
       "      <td>4.0</td>\n",
       "      <td>NaN</td>\n",
       "      <td>NaN</td>\n",
       "      <td>NaN</td>\n",
       "      <td>NaN</td>\n",
       "      <td>2.0</td>\n",
       "      <td>1.0</td>\n",
       "      <td>Completed</td>\n",
       "    </tr>\n",
       "    <tr>\n",
       "      <th>2</th>\n",
       "      <td>1</td>\n",
       "      <td>Brisbane</td>\n",
       "      <td>Brisbane International</td>\n",
       "      <td>2017-01-02</td>\n",
       "      <td>ATP250</td>\n",
       "      <td>Outdoor</td>\n",
       "      <td>Hard</td>\n",
       "      <td>1st Round</td>\n",
       "      <td>3</td>\n",
       "      <td>Ferrer D.</td>\n",
       "      <td>...</td>\n",
       "      <td>5.0</td>\n",
       "      <td>NaN</td>\n",
       "      <td>NaN</td>\n",
       "      <td>NaN</td>\n",
       "      <td>NaN</td>\n",
       "      <td>NaN</td>\n",
       "      <td>NaN</td>\n",
       "      <td>2.0</td>\n",
       "      <td>0.0</td>\n",
       "      <td>Completed</td>\n",
       "    </tr>\n",
       "    <tr>\n",
       "      <th>3</th>\n",
       "      <td>1</td>\n",
       "      <td>Brisbane</td>\n",
       "      <td>Brisbane International</td>\n",
       "      <td>2017-01-02</td>\n",
       "      <td>ATP250</td>\n",
       "      <td>Outdoor</td>\n",
       "      <td>Hard</td>\n",
       "      <td>1st Round</td>\n",
       "      <td>3</td>\n",
       "      <td>Edmund K.</td>\n",
       "      <td>...</td>\n",
       "      <td>6.0</td>\n",
       "      <td>NaN</td>\n",
       "      <td>NaN</td>\n",
       "      <td>NaN</td>\n",
       "      <td>NaN</td>\n",
       "      <td>NaN</td>\n",
       "      <td>NaN</td>\n",
       "      <td>2.0</td>\n",
       "      <td>0.0</td>\n",
       "      <td>Completed</td>\n",
       "    </tr>\n",
       "    <tr>\n",
       "      <th>4</th>\n",
       "      <td>1</td>\n",
       "      <td>Brisbane</td>\n",
       "      <td>Brisbane International</td>\n",
       "      <td>2017-01-02</td>\n",
       "      <td>ATP250</td>\n",
       "      <td>Outdoor</td>\n",
       "      <td>Hard</td>\n",
       "      <td>1st Round</td>\n",
       "      <td>3</td>\n",
       "      <td>Dimitrov G.</td>\n",
       "      <td>...</td>\n",
       "      <td>3.0</td>\n",
       "      <td>NaN</td>\n",
       "      <td>NaN</td>\n",
       "      <td>NaN</td>\n",
       "      <td>NaN</td>\n",
       "      <td>NaN</td>\n",
       "      <td>NaN</td>\n",
       "      <td>2.0</td>\n",
       "      <td>0.0</td>\n",
       "      <td>Completed</td>\n",
       "    </tr>\n",
       "  </tbody>\n",
       "</table>\n",
       "<p>5 rows × 28 columns</p>\n",
       "</div>"
      ],
      "text/plain": [
       "   ATP  Location              Tournament        Date  Series    Court Surface  \\\n",
       "0    1  Brisbane  Brisbane International  2017-01-01  ATP250  Outdoor    Hard   \n",
       "1    1  Brisbane  Brisbane International  2017-01-02  ATP250  Outdoor    Hard   \n",
       "2    1  Brisbane  Brisbane International  2017-01-02  ATP250  Outdoor    Hard   \n",
       "3    1  Brisbane  Brisbane International  2017-01-02  ATP250  Outdoor    Hard   \n",
       "4    1  Brisbane  Brisbane International  2017-01-02  ATP250  Outdoor    Hard   \n",
       "\n",
       "       Round  Best of       Winner  ...   L2   W3   L3  W4  L4  W5  L5  Wsets  \\\n",
       "0  1st Round        3  Thompson J.  ...  2.0  NaN  NaN NaN NaN NaN NaN    2.0   \n",
       "1  1st Round        3     Mahut N.  ...  3.0  6.0  4.0 NaN NaN NaN NaN    2.0   \n",
       "2  1st Round        3    Ferrer D.  ...  5.0  NaN  NaN NaN NaN NaN NaN    2.0   \n",
       "3  1st Round        3    Edmund K.  ...  6.0  NaN  NaN NaN NaN NaN NaN    2.0   \n",
       "4  1st Round        3  Dimitrov G.  ...  3.0  NaN  NaN NaN NaN NaN NaN    2.0   \n",
       "\n",
       "   Lsets    Comment  \n",
       "0    0.0  Completed  \n",
       "1    1.0  Completed  \n",
       "2    0.0  Completed  \n",
       "3    0.0  Completed  \n",
       "4    0.0  Completed  \n",
       "\n",
       "[5 rows x 28 columns]"
      ]
     },
     "execution_count": 4,
     "metadata": {},
     "output_type": "execute_result"
    }
   ],
   "source": [
    "data = pd.read_csv('dataset_tennis.csv',index_col=0)\n",
    "data.head()"
   ]
  },
  {
   "cell_type": "code",
   "execution_count": 5,
   "id": "4bb8921c",
   "metadata": {
    "colab": {
     "base_uri": "https://localhost:8080/"
    },
    "id": "5bf5367f",
    "outputId": "4e15c09d-94bb-4be2-cd2b-a2d2fafc3322"
   },
   "outputs": [
    {
     "data": {
      "text/plain": [
       "Completed       11846\n",
       "Retired           309\n",
       "Walkover           74\n",
       "Awarded             2\n",
       "Disqualified        1\n",
       "Sched               1\n",
       "Rrtired             1\n",
       "Name: Comment, dtype: int64"
      ]
     },
     "execution_count": 5,
     "metadata": {},
     "output_type": "execute_result"
    }
   ],
   "source": [
    "data[\"Comment\"].value_counts()"
   ]
  },
  {
   "cell_type": "markdown",
   "id": "cede9f94",
   "metadata": {},
   "source": [
    "- Fixeamos un poco la columna 'Comment' para contabilizar por cada tipo de finalización de partido jugado."
   ]
  },
  {
   "cell_type": "code",
   "execution_count": 6,
   "id": "d2a032d2",
   "metadata": {
    "id": "9bd8ead8"
   },
   "outputs": [],
   "source": [
    "data.loc[(data.loc[:,\"Comment\"] == \"Rrtired\"),\"Comment\"] = \"Retired\""
   ]
  },
  {
   "cell_type": "code",
   "execution_count": 7,
   "id": "d25843e4",
   "metadata": {
    "id": "239f17b2"
   },
   "outputs": [],
   "source": [
    "comment_mask=(data.loc[:,\"Comment\"] == \"Completed\")\n",
    "data=data[comment_mask]"
   ]
  },
  {
   "cell_type": "code",
   "execution_count": 8,
   "id": "7b53be3b",
   "metadata": {
    "colab": {
     "base_uri": "https://localhost:8080/"
    },
    "id": "643526a0",
    "outputId": "4f259a6f-6e57-4e8a-c05f-0f3f4d96e988"
   },
   "outputs": [
    {
     "data": {
      "text/plain": [
       "Index(['ATP', 'Location', 'Tournament', 'Date', 'Series', 'Court', 'Surface',\n",
       "       'Round', 'Best of', 'Winner', 'Loser', 'WRank', 'LRank', 'WPts', 'LPts',\n",
       "       'W1', 'L1', 'W2', 'L2', 'W3', 'L3', 'W4', 'L4', 'W5', 'L5', 'Wsets',\n",
       "       'Lsets', 'Comment'],\n",
       "      dtype='object')"
      ]
     },
     "execution_count": 8,
     "metadata": {},
     "output_type": "execute_result"
    }
   ],
   "source": [
    "data.columns"
   ]
  },
  {
   "cell_type": "code",
   "execution_count": 9,
   "id": "1724016d",
   "metadata": {
    "colab": {
     "base_uri": "https://localhost:8080/",
     "height": 206
    },
    "id": "7bf0bd6b",
    "outputId": "9a65780e-fb2e-4b9f-eeb3-bbbd097ed52c"
   },
   "outputs": [
    {
     "data": {
      "text/html": [
       "<div>\n",
       "<style scoped>\n",
       "    .dataframe tbody tr th:only-of-type {\n",
       "        vertical-align: middle;\n",
       "    }\n",
       "\n",
       "    .dataframe tbody tr th {\n",
       "        vertical-align: top;\n",
       "    }\n",
       "\n",
       "    .dataframe thead th {\n",
       "        text-align: right;\n",
       "    }\n",
       "</style>\n",
       "<table border=\"1\" class=\"dataframe\">\n",
       "  <thead>\n",
       "    <tr style=\"text-align: right;\">\n",
       "      <th></th>\n",
       "      <th>ATP</th>\n",
       "      <th>Location</th>\n",
       "      <th>Tournament</th>\n",
       "      <th>Date</th>\n",
       "      <th>Series</th>\n",
       "      <th>Court</th>\n",
       "      <th>Surface</th>\n",
       "      <th>Round</th>\n",
       "      <th>Best of</th>\n",
       "    </tr>\n",
       "  </thead>\n",
       "  <tbody>\n",
       "    <tr>\n",
       "      <th>0</th>\n",
       "      <td>1</td>\n",
       "      <td>Brisbane</td>\n",
       "      <td>Brisbane International</td>\n",
       "      <td>2017-01-01</td>\n",
       "      <td>ATP250</td>\n",
       "      <td>Outdoor</td>\n",
       "      <td>Hard</td>\n",
       "      <td>1st Round</td>\n",
       "      <td>3</td>\n",
       "    </tr>\n",
       "    <tr>\n",
       "      <th>1</th>\n",
       "      <td>1</td>\n",
       "      <td>Brisbane</td>\n",
       "      <td>Brisbane International</td>\n",
       "      <td>2017-01-02</td>\n",
       "      <td>ATP250</td>\n",
       "      <td>Outdoor</td>\n",
       "      <td>Hard</td>\n",
       "      <td>1st Round</td>\n",
       "      <td>3</td>\n",
       "    </tr>\n",
       "    <tr>\n",
       "      <th>2</th>\n",
       "      <td>1</td>\n",
       "      <td>Brisbane</td>\n",
       "      <td>Brisbane International</td>\n",
       "      <td>2017-01-02</td>\n",
       "      <td>ATP250</td>\n",
       "      <td>Outdoor</td>\n",
       "      <td>Hard</td>\n",
       "      <td>1st Round</td>\n",
       "      <td>3</td>\n",
       "    </tr>\n",
       "    <tr>\n",
       "      <th>3</th>\n",
       "      <td>1</td>\n",
       "      <td>Brisbane</td>\n",
       "      <td>Brisbane International</td>\n",
       "      <td>2017-01-02</td>\n",
       "      <td>ATP250</td>\n",
       "      <td>Outdoor</td>\n",
       "      <td>Hard</td>\n",
       "      <td>1st Round</td>\n",
       "      <td>3</td>\n",
       "    </tr>\n",
       "    <tr>\n",
       "      <th>4</th>\n",
       "      <td>1</td>\n",
       "      <td>Brisbane</td>\n",
       "      <td>Brisbane International</td>\n",
       "      <td>2017-01-02</td>\n",
       "      <td>ATP250</td>\n",
       "      <td>Outdoor</td>\n",
       "      <td>Hard</td>\n",
       "      <td>1st Round</td>\n",
       "      <td>3</td>\n",
       "    </tr>\n",
       "  </tbody>\n",
       "</table>\n",
       "</div>"
      ],
      "text/plain": [
       "   ATP  Location              Tournament        Date  Series    Court Surface  \\\n",
       "0    1  Brisbane  Brisbane International  2017-01-01  ATP250  Outdoor    Hard   \n",
       "1    1  Brisbane  Brisbane International  2017-01-02  ATP250  Outdoor    Hard   \n",
       "2    1  Brisbane  Brisbane International  2017-01-02  ATP250  Outdoor    Hard   \n",
       "3    1  Brisbane  Brisbane International  2017-01-02  ATP250  Outdoor    Hard   \n",
       "4    1  Brisbane  Brisbane International  2017-01-02  ATP250  Outdoor    Hard   \n",
       "\n",
       "       Round  Best of  \n",
       "0  1st Round        3  \n",
       "1  1st Round        3  \n",
       "2  1st Round        3  \n",
       "3  1st Round        3  \n",
       "4  1st Round        3  "
      ]
     },
     "execution_count": 9,
     "metadata": {},
     "output_type": "execute_result"
    }
   ],
   "source": [
    "data[['ATP', 'Location', 'Tournament', 'Date', 'Series', 'Court', 'Surface','Round', 'Best of']].head()"
   ]
  },
  {
   "cell_type": "code",
   "execution_count": 10,
   "id": "c46b1cd5",
   "metadata": {
    "colab": {
     "base_uri": "https://localhost:8080/"
    },
    "id": "504772b3",
    "outputId": "492265b4-93cc-48f2-b0cf-27580db657b1"
   },
   "outputs": [
    {
     "data": {
      "text/plain": [
       "Melbourne    867\n",
       "Paris        856\n",
       "New York     731\n",
       "London       550\n",
       "Miami        369\n",
       "            ... \n",
       "Parma         26\n",
       "Mallorca      25\n",
       "Sardinia      25\n",
       "Zhuhai        25\n",
       "Turin         14\n",
       "Name: Location, Length: 83, dtype: int64"
      ]
     },
     "execution_count": 10,
     "metadata": {},
     "output_type": "execute_result"
    }
   ],
   "source": [
    "data[\"Location\"].value_counts()"
   ]
  },
  {
   "cell_type": "code",
   "execution_count": 11,
   "id": "39238185",
   "metadata": {
    "colab": {
     "base_uri": "https://localhost:8080/"
    },
    "id": "0521e1e7",
    "outputId": "c2cbe5d6-7c30-44d6-f527-338575197d42"
   },
   "outputs": [],
   "source": [
    "# data.drop(['ATP','Location','Tournament','Round','Best of','Series'],axis=1,inplace=True)\n",
    "data.drop(['ATP','Best of','Series'],axis=1,inplace=True)"
   ]
  },
  {
   "cell_type": "code",
   "execution_count": null,
   "id": "c71a8d9b",
   "metadata": {},
   "outputs": [],
   "source": []
  },
  {
   "cell_type": "code",
   "execution_count": 12,
   "id": "e441277c",
   "metadata": {
    "colab": {
     "base_uri": "https://localhost:8080/",
     "height": 236
    },
    "id": "8ec4673f",
    "outputId": "fa9e6690-2616-4740-e5a0-7ec76ace19f4"
   },
   "outputs": [
    {
     "data": {
      "text/html": [
       "<div>\n",
       "<style scoped>\n",
       "    .dataframe tbody tr th:only-of-type {\n",
       "        vertical-align: middle;\n",
       "    }\n",
       "\n",
       "    .dataframe tbody tr th {\n",
       "        vertical-align: top;\n",
       "    }\n",
       "\n",
       "    .dataframe thead th {\n",
       "        text-align: right;\n",
       "    }\n",
       "</style>\n",
       "<table border=\"1\" class=\"dataframe\">\n",
       "  <thead>\n",
       "    <tr style=\"text-align: right;\">\n",
       "      <th></th>\n",
       "      <th>Location</th>\n",
       "      <th>Tournament</th>\n",
       "      <th>Date</th>\n",
       "      <th>Court</th>\n",
       "      <th>Surface</th>\n",
       "      <th>Round</th>\n",
       "      <th>Winner</th>\n",
       "      <th>Loser</th>\n",
       "      <th>WRank</th>\n",
       "      <th>LRank</th>\n",
       "      <th>...</th>\n",
       "      <th>L2</th>\n",
       "      <th>W3</th>\n",
       "      <th>L3</th>\n",
       "      <th>W4</th>\n",
       "      <th>L4</th>\n",
       "      <th>W5</th>\n",
       "      <th>L5</th>\n",
       "      <th>Wsets</th>\n",
       "      <th>Lsets</th>\n",
       "      <th>Comment</th>\n",
       "    </tr>\n",
       "  </thead>\n",
       "  <tbody>\n",
       "    <tr>\n",
       "      <th>0</th>\n",
       "      <td>Brisbane</td>\n",
       "      <td>Brisbane International</td>\n",
       "      <td>2017-01-01</td>\n",
       "      <td>Outdoor</td>\n",
       "      <td>Hard</td>\n",
       "      <td>1st Round</td>\n",
       "      <td>Thompson J.</td>\n",
       "      <td>Ymer E.</td>\n",
       "      <td>79.0</td>\n",
       "      <td>160.0</td>\n",
       "      <td>...</td>\n",
       "      <td>2.0</td>\n",
       "      <td>NaN</td>\n",
       "      <td>NaN</td>\n",
       "      <td>NaN</td>\n",
       "      <td>NaN</td>\n",
       "      <td>NaN</td>\n",
       "      <td>NaN</td>\n",
       "      <td>2.0</td>\n",
       "      <td>0.0</td>\n",
       "      <td>Completed</td>\n",
       "    </tr>\n",
       "    <tr>\n",
       "      <th>1</th>\n",
       "      <td>Brisbane</td>\n",
       "      <td>Brisbane International</td>\n",
       "      <td>2017-01-02</td>\n",
       "      <td>Outdoor</td>\n",
       "      <td>Hard</td>\n",
       "      <td>1st Round</td>\n",
       "      <td>Mahut N.</td>\n",
       "      <td>Robert S.</td>\n",
       "      <td>39.0</td>\n",
       "      <td>54.0</td>\n",
       "      <td>...</td>\n",
       "      <td>3.0</td>\n",
       "      <td>6.0</td>\n",
       "      <td>4.0</td>\n",
       "      <td>NaN</td>\n",
       "      <td>NaN</td>\n",
       "      <td>NaN</td>\n",
       "      <td>NaN</td>\n",
       "      <td>2.0</td>\n",
       "      <td>1.0</td>\n",
       "      <td>Completed</td>\n",
       "    </tr>\n",
       "    <tr>\n",
       "      <th>2</th>\n",
       "      <td>Brisbane</td>\n",
       "      <td>Brisbane International</td>\n",
       "      <td>2017-01-02</td>\n",
       "      <td>Outdoor</td>\n",
       "      <td>Hard</td>\n",
       "      <td>1st Round</td>\n",
       "      <td>Ferrer D.</td>\n",
       "      <td>Tomic B.</td>\n",
       "      <td>21.0</td>\n",
       "      <td>26.0</td>\n",
       "      <td>...</td>\n",
       "      <td>5.0</td>\n",
       "      <td>NaN</td>\n",
       "      <td>NaN</td>\n",
       "      <td>NaN</td>\n",
       "      <td>NaN</td>\n",
       "      <td>NaN</td>\n",
       "      <td>NaN</td>\n",
       "      <td>2.0</td>\n",
       "      <td>0.0</td>\n",
       "      <td>Completed</td>\n",
       "    </tr>\n",
       "    <tr>\n",
       "      <th>3</th>\n",
       "      <td>Brisbane</td>\n",
       "      <td>Brisbane International</td>\n",
       "      <td>2017-01-02</td>\n",
       "      <td>Outdoor</td>\n",
       "      <td>Hard</td>\n",
       "      <td>1st Round</td>\n",
       "      <td>Edmund K.</td>\n",
       "      <td>Escobedo E.</td>\n",
       "      <td>45.0</td>\n",
       "      <td>141.0</td>\n",
       "      <td>...</td>\n",
       "      <td>6.0</td>\n",
       "      <td>NaN</td>\n",
       "      <td>NaN</td>\n",
       "      <td>NaN</td>\n",
       "      <td>NaN</td>\n",
       "      <td>NaN</td>\n",
       "      <td>NaN</td>\n",
       "      <td>2.0</td>\n",
       "      <td>0.0</td>\n",
       "      <td>Completed</td>\n",
       "    </tr>\n",
       "    <tr>\n",
       "      <th>4</th>\n",
       "      <td>Brisbane</td>\n",
       "      <td>Brisbane International</td>\n",
       "      <td>2017-01-02</td>\n",
       "      <td>Outdoor</td>\n",
       "      <td>Hard</td>\n",
       "      <td>1st Round</td>\n",
       "      <td>Dimitrov G.</td>\n",
       "      <td>Johnson S.</td>\n",
       "      <td>17.0</td>\n",
       "      <td>33.0</td>\n",
       "      <td>...</td>\n",
       "      <td>3.0</td>\n",
       "      <td>NaN</td>\n",
       "      <td>NaN</td>\n",
       "      <td>NaN</td>\n",
       "      <td>NaN</td>\n",
       "      <td>NaN</td>\n",
       "      <td>NaN</td>\n",
       "      <td>2.0</td>\n",
       "      <td>0.0</td>\n",
       "      <td>Completed</td>\n",
       "    </tr>\n",
       "  </tbody>\n",
       "</table>\n",
       "<p>5 rows × 25 columns</p>\n",
       "</div>"
      ],
      "text/plain": [
       "   Location              Tournament        Date    Court Surface      Round  \\\n",
       "0  Brisbane  Brisbane International  2017-01-01  Outdoor    Hard  1st Round   \n",
       "1  Brisbane  Brisbane International  2017-01-02  Outdoor    Hard  1st Round   \n",
       "2  Brisbane  Brisbane International  2017-01-02  Outdoor    Hard  1st Round   \n",
       "3  Brisbane  Brisbane International  2017-01-02  Outdoor    Hard  1st Round   \n",
       "4  Brisbane  Brisbane International  2017-01-02  Outdoor    Hard  1st Round   \n",
       "\n",
       "        Winner        Loser  WRank  LRank  ...   L2   W3   L3  W4  L4  W5  L5  \\\n",
       "0  Thompson J.      Ymer E.   79.0  160.0  ...  2.0  NaN  NaN NaN NaN NaN NaN   \n",
       "1     Mahut N.    Robert S.   39.0   54.0  ...  3.0  6.0  4.0 NaN NaN NaN NaN   \n",
       "2    Ferrer D.     Tomic B.   21.0   26.0  ...  5.0  NaN  NaN NaN NaN NaN NaN   \n",
       "3    Edmund K.  Escobedo E.   45.0  141.0  ...  6.0  NaN  NaN NaN NaN NaN NaN   \n",
       "4  Dimitrov G.   Johnson S.   17.0   33.0  ...  3.0  NaN  NaN NaN NaN NaN NaN   \n",
       "\n",
       "   Wsets  Lsets    Comment  \n",
       "0    2.0    0.0  Completed  \n",
       "1    2.0    1.0  Completed  \n",
       "2    2.0    0.0  Completed  \n",
       "3    2.0    0.0  Completed  \n",
       "4    2.0    0.0  Completed  \n",
       "\n",
       "[5 rows x 25 columns]"
      ]
     },
     "execution_count": 12,
     "metadata": {},
     "output_type": "execute_result"
    }
   ],
   "source": [
    "data.head()"
   ]
  },
  {
   "cell_type": "markdown",
   "id": "7ae0dca8",
   "metadata": {},
   "source": [
    "#### Creamos variables para los ganadores y perdedores."
   ]
  },
  {
   "cell_type": "code",
   "execution_count": 13,
   "id": "566e466c",
   "metadata": {
    "id": "12f36cc1"
   },
   "outputs": [],
   "source": [
    "win_lose_data = data[['Winner', 'Loser', 'WRank', 'LRank', 'WPts', 'LPts','W1', 'L1', 'W2', 'L2', 'W3', 'L3', 'W4', 'L4', 'W5', 'L5', 'Wsets','Lsets']]\n",
    "winner_data = win_lose_data[['WRank','WPts','W1','W2','W3','W4','W5','Wsets']]\n",
    "loser_data = win_lose_data[['LRank','LPts','L1','L2','L3','L4','L5','Lsets']]\n"
   ]
  },
  {
   "cell_type": "markdown",
   "id": "7e71af63",
   "metadata": {
    "id": "b7a6ad33"
   },
   "source": [
    "#### De las columnas de `'player_a'` y `'player_b'` para la segunda randomizamos los nombres"
   ]
  },
  {
   "cell_type": "code",
   "execution_count": 14,
   "id": "eee8ad3d",
   "metadata": {
    "colab": {
     "base_uri": "https://localhost:8080/"
    },
    "id": "4683851d",
    "outputId": "b0b78a9e-d937-4015-8925-1779c45496bf"
   },
   "outputs": [
    {
     "data": {
      "text/plain": [
       "0        Ymer E.\n",
       "1       Mahut N.\n",
       "2       Tomic B.\n",
       "3    Escobedo E.\n",
       "4     Johnson S.\n",
       "Name: player_a, dtype: object"
      ]
     },
     "execution_count": 14,
     "metadata": {},
     "output_type": "execute_result"
    }
   ],
   "source": [
    "player_a = win_lose_data[[\"Winner\",\"Loser\"]].apply(lambda x: choice(x),axis=1)\n",
    "player_a.head()\n",
    "win_lose_data[\"player_a\"] = player_a\n",
    "win_lose_data[\"player_a\"].head()"
   ]
  },
  {
   "cell_type": "code",
   "execution_count": 15,
   "id": "eac0354f",
   "metadata": {
    "colab": {
     "base_uri": "https://localhost:8080/"
    },
    "id": "a822bb68",
    "outputId": "b8a69985-54f6-4185-db42-accfc1134288"
   },
   "outputs": [
    {
     "data": {
      "text/plain": [
       "0    Thompson J.\n",
       "1      Robert S.\n",
       "2      Ferrer D.\n",
       "3      Edmund K.\n",
       "4    Dimitrov G.\n",
       "Name: player_b, dtype: object"
      ]
     },
     "execution_count": 15,
     "metadata": {},
     "output_type": "execute_result"
    }
   ],
   "source": [
    "win_lose_data[\"player_b\"]=np.where((win_lose_data[\"player_a\"]==win_lose_data[\"Winner\"]),win_lose_data[\"Loser\"],win_lose_data[\"Winner\"])\n",
    "win_lose_data[\"player_b\"].head()"
   ]
  },
  {
   "cell_type": "code",
   "execution_count": 16,
   "id": "a2853fc4",
   "metadata": {
    "colab": {
     "base_uri": "https://localhost:8080/",
     "height": 206
    },
    "id": "c4ca70e7",
    "outputId": "fc6334c4-e3d4-4b1b-a614-1b08ee06d675"
   },
   "outputs": [
    {
     "data": {
      "text/html": [
       "<div>\n",
       "<style scoped>\n",
       "    .dataframe tbody tr th:only-of-type {\n",
       "        vertical-align: middle;\n",
       "    }\n",
       "\n",
       "    .dataframe tbody tr th {\n",
       "        vertical-align: top;\n",
       "    }\n",
       "\n",
       "    .dataframe thead th {\n",
       "        text-align: right;\n",
       "    }\n",
       "</style>\n",
       "<table border=\"1\" class=\"dataframe\">\n",
       "  <thead>\n",
       "    <tr style=\"text-align: right;\">\n",
       "      <th></th>\n",
       "      <th>Winner</th>\n",
       "      <th>Loser</th>\n",
       "      <th>player_a</th>\n",
       "      <th>player_b</th>\n",
       "    </tr>\n",
       "  </thead>\n",
       "  <tbody>\n",
       "    <tr>\n",
       "      <th>0</th>\n",
       "      <td>Thompson J.</td>\n",
       "      <td>Ymer E.</td>\n",
       "      <td>Ymer E.</td>\n",
       "      <td>Thompson J.</td>\n",
       "    </tr>\n",
       "    <tr>\n",
       "      <th>1</th>\n",
       "      <td>Mahut N.</td>\n",
       "      <td>Robert S.</td>\n",
       "      <td>Mahut N.</td>\n",
       "      <td>Robert S.</td>\n",
       "    </tr>\n",
       "    <tr>\n",
       "      <th>2</th>\n",
       "      <td>Ferrer D.</td>\n",
       "      <td>Tomic B.</td>\n",
       "      <td>Tomic B.</td>\n",
       "      <td>Ferrer D.</td>\n",
       "    </tr>\n",
       "    <tr>\n",
       "      <th>3</th>\n",
       "      <td>Edmund K.</td>\n",
       "      <td>Escobedo E.</td>\n",
       "      <td>Escobedo E.</td>\n",
       "      <td>Edmund K.</td>\n",
       "    </tr>\n",
       "    <tr>\n",
       "      <th>4</th>\n",
       "      <td>Dimitrov G.</td>\n",
       "      <td>Johnson S.</td>\n",
       "      <td>Johnson S.</td>\n",
       "      <td>Dimitrov G.</td>\n",
       "    </tr>\n",
       "  </tbody>\n",
       "</table>\n",
       "</div>"
      ],
      "text/plain": [
       "        Winner        Loser     player_a     player_b\n",
       "0  Thompson J.      Ymer E.      Ymer E.  Thompson J.\n",
       "1     Mahut N.    Robert S.     Mahut N.    Robert S.\n",
       "2    Ferrer D.     Tomic B.     Tomic B.    Ferrer D.\n",
       "3    Edmund K.  Escobedo E.  Escobedo E.    Edmund K.\n",
       "4  Dimitrov G.   Johnson S.   Johnson S.  Dimitrov G."
      ]
     },
     "execution_count": 16,
     "metadata": {},
     "output_type": "execute_result"
    }
   ],
   "source": [
    "win_lose_data[[\"Winner\",\"Loser\",\"player_a\",\"player_b\"]].head()"
   ]
  },
  {
   "cell_type": "code",
   "execution_count": 17,
   "id": "08e19348",
   "metadata": {
    "id": "a506a364"
   },
   "outputs": [],
   "source": [
    "col_a=['A_Rank', 'A_Pts', 'A_Set_1', 'A_Set_2', 'A_Set_3', 'A_Set_4', 'A_Set_5', 'A_Sets_won']\n",
    "col_b=['B_Rank', 'B_Pts', 'B_Set_1', 'B_Set_2', 'B_Set_3', 'B_Set_4', 'B_Set_5', 'B_Sets_won']\n",
    "col_ = [\"Rank\",\"Pts\",\"Set_1\",\"Set_2\",\"Set_3\",\"Set_4\",\"Set_5\",\"Sets_won\"]"
   ]
  },
  {
   "cell_type": "code",
   "execution_count": 18,
   "id": "dd67fa58",
   "metadata": {
    "colab": {
     "base_uri": "https://localhost:8080/"
    },
    "id": "504148cc",
    "outputId": "6bfe3b82-6d2d-4ff3-fefc-384a907bd914"
   },
   "outputs": [],
   "source": [
    "for i in range(len(col_a)):\n",
    "    temp_col_name = col_a[i]\n",
    "    temp_winner = winner_data.iloc[:,i]\n",
    "    temp_loser = loser_data.iloc[:,i] \n",
    "    win_lose_data[temp_col_name] = np.where((win_lose_data[\"player_a\"]==win_lose_data[\"Winner\"]),temp_winner,temp_loser)    "
   ]
  },
  {
   "cell_type": "code",
   "execution_count": 19,
   "id": "796b4f6a",
   "metadata": {
    "id": "6adbaf8e"
   },
   "outputs": [],
   "source": [
    "for i in range(len(col_b)):\n",
    "    temp_col_name = col_b[i]\n",
    "    temp_winner = winner_data.iloc[:,i]\n",
    "    temp_loser = loser_data.iloc[:,i] \n",
    "    win_lose_data[temp_col_name] = np.where((win_lose_data[\"player_b\"]==win_lose_data[\"Winner\"]),temp_winner,temp_loser)"
   ]
  },
  {
   "cell_type": "code",
   "execution_count": 20,
   "id": "5d7ab5ba",
   "metadata": {
    "colab": {
     "base_uri": "https://localhost:8080/",
     "height": 424
    },
    "id": "92ecef31",
    "outputId": "aabe64dd-c74f-4868-b8a7-0b6c73ccb743"
   },
   "outputs": [
    {
     "data": {
      "text/html": [
       "<div>\n",
       "<style scoped>\n",
       "    .dataframe tbody tr th:only-of-type {\n",
       "        vertical-align: middle;\n",
       "    }\n",
       "\n",
       "    .dataframe tbody tr th {\n",
       "        vertical-align: top;\n",
       "    }\n",
       "\n",
       "    .dataframe thead th {\n",
       "        text-align: right;\n",
       "    }\n",
       "</style>\n",
       "<table border=\"1\" class=\"dataframe\">\n",
       "  <thead>\n",
       "    <tr style=\"text-align: right;\">\n",
       "      <th></th>\n",
       "      <th>Winner</th>\n",
       "      <th>Loser</th>\n",
       "      <th>WRank</th>\n",
       "      <th>LRank</th>\n",
       "      <th>WPts</th>\n",
       "      <th>LPts</th>\n",
       "      <th>W1</th>\n",
       "      <th>L1</th>\n",
       "      <th>W2</th>\n",
       "      <th>L2</th>\n",
       "      <th>...</th>\n",
       "      <th>A_Set_5</th>\n",
       "      <th>A_Sets_won</th>\n",
       "      <th>B_Rank</th>\n",
       "      <th>B_Pts</th>\n",
       "      <th>B_Set_1</th>\n",
       "      <th>B_Set_2</th>\n",
       "      <th>B_Set_3</th>\n",
       "      <th>B_Set_4</th>\n",
       "      <th>B_Set_5</th>\n",
       "      <th>B_Sets_won</th>\n",
       "    </tr>\n",
       "  </thead>\n",
       "  <tbody>\n",
       "    <tr>\n",
       "      <th>0</th>\n",
       "      <td>Thompson J.</td>\n",
       "      <td>Ymer E.</td>\n",
       "      <td>79.0</td>\n",
       "      <td>160.0</td>\n",
       "      <td>689.0</td>\n",
       "      <td>372.0</td>\n",
       "      <td>6.0</td>\n",
       "      <td>3.0</td>\n",
       "      <td>6.0</td>\n",
       "      <td>2.0</td>\n",
       "      <td>...</td>\n",
       "      <td>NaN</td>\n",
       "      <td>0.0</td>\n",
       "      <td>79.0</td>\n",
       "      <td>689.0</td>\n",
       "      <td>6.0</td>\n",
       "      <td>6.0</td>\n",
       "      <td>NaN</td>\n",
       "      <td>NaN</td>\n",
       "      <td>NaN</td>\n",
       "      <td>2.0</td>\n",
       "    </tr>\n",
       "    <tr>\n",
       "      <th>1</th>\n",
       "      <td>Mahut N.</td>\n",
       "      <td>Robert S.</td>\n",
       "      <td>39.0</td>\n",
       "      <td>54.0</td>\n",
       "      <td>1102.0</td>\n",
       "      <td>854.0</td>\n",
       "      <td>4.0</td>\n",
       "      <td>6.0</td>\n",
       "      <td>6.0</td>\n",
       "      <td>3.0</td>\n",
       "      <td>...</td>\n",
       "      <td>NaN</td>\n",
       "      <td>2.0</td>\n",
       "      <td>54.0</td>\n",
       "      <td>854.0</td>\n",
       "      <td>6.0</td>\n",
       "      <td>3.0</td>\n",
       "      <td>4.0</td>\n",
       "      <td>NaN</td>\n",
       "      <td>NaN</td>\n",
       "      <td>1.0</td>\n",
       "    </tr>\n",
       "    <tr>\n",
       "      <th>2</th>\n",
       "      <td>Ferrer D.</td>\n",
       "      <td>Tomic B.</td>\n",
       "      <td>21.0</td>\n",
       "      <td>26.0</td>\n",
       "      <td>1785.0</td>\n",
       "      <td>1465.0</td>\n",
       "      <td>6.0</td>\n",
       "      <td>3.0</td>\n",
       "      <td>7.0</td>\n",
       "      <td>5.0</td>\n",
       "      <td>...</td>\n",
       "      <td>NaN</td>\n",
       "      <td>0.0</td>\n",
       "      <td>21.0</td>\n",
       "      <td>1785.0</td>\n",
       "      <td>6.0</td>\n",
       "      <td>7.0</td>\n",
       "      <td>NaN</td>\n",
       "      <td>NaN</td>\n",
       "      <td>NaN</td>\n",
       "      <td>2.0</td>\n",
       "    </tr>\n",
       "    <tr>\n",
       "      <th>3</th>\n",
       "      <td>Edmund K.</td>\n",
       "      <td>Escobedo E.</td>\n",
       "      <td>45.0</td>\n",
       "      <td>141.0</td>\n",
       "      <td>1001.0</td>\n",
       "      <td>443.0</td>\n",
       "      <td>7.0</td>\n",
       "      <td>6.0</td>\n",
       "      <td>7.0</td>\n",
       "      <td>6.0</td>\n",
       "      <td>...</td>\n",
       "      <td>NaN</td>\n",
       "      <td>0.0</td>\n",
       "      <td>45.0</td>\n",
       "      <td>1001.0</td>\n",
       "      <td>7.0</td>\n",
       "      <td>7.0</td>\n",
       "      <td>NaN</td>\n",
       "      <td>NaN</td>\n",
       "      <td>NaN</td>\n",
       "      <td>2.0</td>\n",
       "    </tr>\n",
       "    <tr>\n",
       "      <th>4</th>\n",
       "      <td>Dimitrov G.</td>\n",
       "      <td>Johnson S.</td>\n",
       "      <td>17.0</td>\n",
       "      <td>33.0</td>\n",
       "      <td>2035.0</td>\n",
       "      <td>1320.0</td>\n",
       "      <td>6.0</td>\n",
       "      <td>2.0</td>\n",
       "      <td>6.0</td>\n",
       "      <td>3.0</td>\n",
       "      <td>...</td>\n",
       "      <td>NaN</td>\n",
       "      <td>0.0</td>\n",
       "      <td>17.0</td>\n",
       "      <td>2035.0</td>\n",
       "      <td>6.0</td>\n",
       "      <td>6.0</td>\n",
       "      <td>NaN</td>\n",
       "      <td>NaN</td>\n",
       "      <td>NaN</td>\n",
       "      <td>2.0</td>\n",
       "    </tr>\n",
       "  </tbody>\n",
       "</table>\n",
       "<p>5 rows × 36 columns</p>\n",
       "</div>"
      ],
      "text/plain": [
       "        Winner        Loser  WRank  LRank    WPts    LPts   W1   L1   W2   L2  \\\n",
       "0  Thompson J.      Ymer E.   79.0  160.0   689.0   372.0  6.0  3.0  6.0  2.0   \n",
       "1     Mahut N.    Robert S.   39.0   54.0  1102.0   854.0  4.0  6.0  6.0  3.0   \n",
       "2    Ferrer D.     Tomic B.   21.0   26.0  1785.0  1465.0  6.0  3.0  7.0  5.0   \n",
       "3    Edmund K.  Escobedo E.   45.0  141.0  1001.0   443.0  7.0  6.0  7.0  6.0   \n",
       "4  Dimitrov G.   Johnson S.   17.0   33.0  2035.0  1320.0  6.0  2.0  6.0  3.0   \n",
       "\n",
       "   ...  A_Set_5  A_Sets_won  B_Rank   B_Pts  B_Set_1  B_Set_2  B_Set_3  \\\n",
       "0  ...      NaN         0.0    79.0   689.0      6.0      6.0      NaN   \n",
       "1  ...      NaN         2.0    54.0   854.0      6.0      3.0      4.0   \n",
       "2  ...      NaN         0.0    21.0  1785.0      6.0      7.0      NaN   \n",
       "3  ...      NaN         0.0    45.0  1001.0      7.0      7.0      NaN   \n",
       "4  ...      NaN         0.0    17.0  2035.0      6.0      6.0      NaN   \n",
       "\n",
       "   B_Set_4 B_Set_5 B_Sets_won  \n",
       "0      NaN     NaN        2.0  \n",
       "1      NaN     NaN        1.0  \n",
       "2      NaN     NaN        2.0  \n",
       "3      NaN     NaN        2.0  \n",
       "4      NaN     NaN        2.0  \n",
       "\n",
       "[5 rows x 36 columns]"
      ]
     },
     "execution_count": 20,
     "metadata": {},
     "output_type": "execute_result"
    }
   ],
   "source": [
    "win_lose_data.head()"
   ]
  },
  {
   "cell_type": "code",
   "execution_count": 21,
   "id": "4af262d7",
   "metadata": {
    "colab": {
     "base_uri": "https://localhost:8080/"
    },
    "id": "59fecbf9",
    "outputId": "e521d734-809c-43f6-aba9-776486a5fe53"
   },
   "outputs": [
    {
     "data": {
      "text/plain": [
       "Index(['Winner', 'Loser', 'WRank', 'LRank', 'WPts', 'LPts', 'W1', 'L1', 'W2',\n",
       "       'L2', 'W3', 'L3', 'W4', 'L4', 'W5', 'L5', 'Wsets', 'Lsets', 'player_a',\n",
       "       'player_b', 'A_Rank', 'A_Pts', 'A_Set_1', 'A_Set_2', 'A_Set_3',\n",
       "       'A_Set_4', 'A_Set_5', 'A_Sets_won', 'B_Rank', 'B_Pts', 'B_Set_1',\n",
       "       'B_Set_2', 'B_Set_3', 'B_Set_4', 'B_Set_5', 'B_Sets_won'],\n",
       "      dtype='object')"
      ]
     },
     "execution_count": 21,
     "metadata": {},
     "output_type": "execute_result"
    }
   ],
   "source": [
    "win_lose_data.columns"
   ]
  },
  {
   "cell_type": "code",
   "execution_count": 22,
   "id": "cf97eb53",
   "metadata": {},
   "outputs": [],
   "source": [
    "win_lose_data[\"Rank_dif_AB\"] = win_lose_data.A_Rank - win_lose_data.B_Rank\t\n",
    "win_lose_data[\"Pts_dif_AB\"] = win_lose_data.A_Pts-win_lose_data.B_Pts"
   ]
  },
  {
   "cell_type": "code",
   "execution_count": null,
   "id": "ad441020",
   "metadata": {},
   "outputs": [],
   "source": []
  },
  {
   "cell_type": "code",
   "execution_count": 23,
   "id": "4416fa97",
   "metadata": {
    "colab": {
     "base_uri": "https://localhost:8080/"
    },
    "id": "b16e9ab8",
    "outputId": "71e7a51b-87e6-46d7-e1bd-2e2e05a74ec7"
   },
   "outputs": [
    {
     "data": {
      "text/plain": [
       "Index(['Location', 'Tournament', 'Date', 'Court', 'Surface', 'Round', 'Winner',\n",
       "       'Loser', 'WRank', 'LRank', 'WPts', 'LPts', 'W1', 'L1', 'W2', 'L2', 'W3',\n",
       "       'L3', 'W4', 'L4', 'W5', 'L5', 'Wsets', 'Lsets', 'Comment'],\n",
       "      dtype='object')"
      ]
     },
     "execution_count": 23,
     "metadata": {},
     "output_type": "execute_result"
    }
   ],
   "source": [
    "data.columns"
   ]
  },
  {
   "cell_type": "code",
   "execution_count": 24,
   "id": "9aa93a23",
   "metadata": {
    "id": "3f254fcb"
   },
   "outputs": [],
   "source": [
    "data_2 = data.merge(win_lose_data).drop(['A_Rank','B_Rank','A_Pts','B_Pts','Loser', 'WRank', 'LRank', 'WPts', 'LPts','W1', 'L1', 'W2', 'L2', 'W3', 'L3', 'W4', 'L4', 'W5', 'L5', 'Wsets','Lsets'],axis=1)"
   ]
  },
  {
   "cell_type": "code",
   "execution_count": 25,
   "id": "7b257242",
   "metadata": {
    "colab": {
     "base_uri": "https://localhost:8080/",
     "height": 366
    },
    "id": "7c3bf576",
    "outputId": "83ab1812-46c8-4830-a32a-64829a81ad59"
   },
   "outputs": [
    {
     "data": {
      "text/html": [
       "<div>\n",
       "<style scoped>\n",
       "    .dataframe tbody tr th:only-of-type {\n",
       "        vertical-align: middle;\n",
       "    }\n",
       "\n",
       "    .dataframe tbody tr th {\n",
       "        vertical-align: top;\n",
       "    }\n",
       "\n",
       "    .dataframe thead th {\n",
       "        text-align: right;\n",
       "    }\n",
       "</style>\n",
       "<table border=\"1\" class=\"dataframe\">\n",
       "  <thead>\n",
       "    <tr style=\"text-align: right;\">\n",
       "      <th></th>\n",
       "      <th>Location</th>\n",
       "      <th>Tournament</th>\n",
       "      <th>Date</th>\n",
       "      <th>Court</th>\n",
       "      <th>Surface</th>\n",
       "      <th>Round</th>\n",
       "      <th>Winner</th>\n",
       "      <th>Comment</th>\n",
       "      <th>player_a</th>\n",
       "      <th>player_b</th>\n",
       "      <th>...</th>\n",
       "      <th>A_Set_5</th>\n",
       "      <th>A_Sets_won</th>\n",
       "      <th>B_Set_1</th>\n",
       "      <th>B_Set_2</th>\n",
       "      <th>B_Set_3</th>\n",
       "      <th>B_Set_4</th>\n",
       "      <th>B_Set_5</th>\n",
       "      <th>B_Sets_won</th>\n",
       "      <th>Rank_dif_AB</th>\n",
       "      <th>Pts_dif_AB</th>\n",
       "    </tr>\n",
       "  </thead>\n",
       "  <tbody>\n",
       "    <tr>\n",
       "      <th>0</th>\n",
       "      <td>Brisbane</td>\n",
       "      <td>Brisbane International</td>\n",
       "      <td>2017-01-01</td>\n",
       "      <td>Outdoor</td>\n",
       "      <td>Hard</td>\n",
       "      <td>1st Round</td>\n",
       "      <td>Thompson J.</td>\n",
       "      <td>Completed</td>\n",
       "      <td>Ymer E.</td>\n",
       "      <td>Thompson J.</td>\n",
       "      <td>...</td>\n",
       "      <td>NaN</td>\n",
       "      <td>0.0</td>\n",
       "      <td>6.0</td>\n",
       "      <td>6.0</td>\n",
       "      <td>NaN</td>\n",
       "      <td>NaN</td>\n",
       "      <td>NaN</td>\n",
       "      <td>2.0</td>\n",
       "      <td>81.0</td>\n",
       "      <td>-317.0</td>\n",
       "    </tr>\n",
       "    <tr>\n",
       "      <th>1</th>\n",
       "      <td>Brisbane</td>\n",
       "      <td>Brisbane International</td>\n",
       "      <td>2017-01-02</td>\n",
       "      <td>Outdoor</td>\n",
       "      <td>Hard</td>\n",
       "      <td>1st Round</td>\n",
       "      <td>Mahut N.</td>\n",
       "      <td>Completed</td>\n",
       "      <td>Mahut N.</td>\n",
       "      <td>Robert S.</td>\n",
       "      <td>...</td>\n",
       "      <td>NaN</td>\n",
       "      <td>2.0</td>\n",
       "      <td>6.0</td>\n",
       "      <td>3.0</td>\n",
       "      <td>4.0</td>\n",
       "      <td>NaN</td>\n",
       "      <td>NaN</td>\n",
       "      <td>1.0</td>\n",
       "      <td>-15.0</td>\n",
       "      <td>248.0</td>\n",
       "    </tr>\n",
       "    <tr>\n",
       "      <th>2</th>\n",
       "      <td>Brisbane</td>\n",
       "      <td>Brisbane International</td>\n",
       "      <td>2017-01-02</td>\n",
       "      <td>Outdoor</td>\n",
       "      <td>Hard</td>\n",
       "      <td>1st Round</td>\n",
       "      <td>Ferrer D.</td>\n",
       "      <td>Completed</td>\n",
       "      <td>Tomic B.</td>\n",
       "      <td>Ferrer D.</td>\n",
       "      <td>...</td>\n",
       "      <td>NaN</td>\n",
       "      <td>0.0</td>\n",
       "      <td>6.0</td>\n",
       "      <td>7.0</td>\n",
       "      <td>NaN</td>\n",
       "      <td>NaN</td>\n",
       "      <td>NaN</td>\n",
       "      <td>2.0</td>\n",
       "      <td>5.0</td>\n",
       "      <td>-320.0</td>\n",
       "    </tr>\n",
       "    <tr>\n",
       "      <th>3</th>\n",
       "      <td>Brisbane</td>\n",
       "      <td>Brisbane International</td>\n",
       "      <td>2017-01-02</td>\n",
       "      <td>Outdoor</td>\n",
       "      <td>Hard</td>\n",
       "      <td>1st Round</td>\n",
       "      <td>Edmund K.</td>\n",
       "      <td>Completed</td>\n",
       "      <td>Escobedo E.</td>\n",
       "      <td>Edmund K.</td>\n",
       "      <td>...</td>\n",
       "      <td>NaN</td>\n",
       "      <td>0.0</td>\n",
       "      <td>7.0</td>\n",
       "      <td>7.0</td>\n",
       "      <td>NaN</td>\n",
       "      <td>NaN</td>\n",
       "      <td>NaN</td>\n",
       "      <td>2.0</td>\n",
       "      <td>96.0</td>\n",
       "      <td>-558.0</td>\n",
       "    </tr>\n",
       "    <tr>\n",
       "      <th>4</th>\n",
       "      <td>Brisbane</td>\n",
       "      <td>Brisbane International</td>\n",
       "      <td>2017-01-02</td>\n",
       "      <td>Outdoor</td>\n",
       "      <td>Hard</td>\n",
       "      <td>1st Round</td>\n",
       "      <td>Dimitrov G.</td>\n",
       "      <td>Completed</td>\n",
       "      <td>Johnson S.</td>\n",
       "      <td>Dimitrov G.</td>\n",
       "      <td>...</td>\n",
       "      <td>NaN</td>\n",
       "      <td>0.0</td>\n",
       "      <td>6.0</td>\n",
       "      <td>6.0</td>\n",
       "      <td>NaN</td>\n",
       "      <td>NaN</td>\n",
       "      <td>NaN</td>\n",
       "      <td>2.0</td>\n",
       "      <td>16.0</td>\n",
       "      <td>-715.0</td>\n",
       "    </tr>\n",
       "  </tbody>\n",
       "</table>\n",
       "<p>5 rows × 24 columns</p>\n",
       "</div>"
      ],
      "text/plain": [
       "   Location              Tournament        Date    Court Surface      Round  \\\n",
       "0  Brisbane  Brisbane International  2017-01-01  Outdoor    Hard  1st Round   \n",
       "1  Brisbane  Brisbane International  2017-01-02  Outdoor    Hard  1st Round   \n",
       "2  Brisbane  Brisbane International  2017-01-02  Outdoor    Hard  1st Round   \n",
       "3  Brisbane  Brisbane International  2017-01-02  Outdoor    Hard  1st Round   \n",
       "4  Brisbane  Brisbane International  2017-01-02  Outdoor    Hard  1st Round   \n",
       "\n",
       "        Winner    Comment     player_a     player_b  ...  A_Set_5  A_Sets_won  \\\n",
       "0  Thompson J.  Completed      Ymer E.  Thompson J.  ...      NaN         0.0   \n",
       "1     Mahut N.  Completed     Mahut N.    Robert S.  ...      NaN         2.0   \n",
       "2    Ferrer D.  Completed     Tomic B.    Ferrer D.  ...      NaN         0.0   \n",
       "3    Edmund K.  Completed  Escobedo E.    Edmund K.  ...      NaN         0.0   \n",
       "4  Dimitrov G.  Completed   Johnson S.  Dimitrov G.  ...      NaN         0.0   \n",
       "\n",
       "   B_Set_1  B_Set_2  B_Set_3  B_Set_4  B_Set_5  B_Sets_won  Rank_dif_AB  \\\n",
       "0      6.0      6.0      NaN      NaN      NaN         2.0         81.0   \n",
       "1      6.0      3.0      4.0      NaN      NaN         1.0        -15.0   \n",
       "2      6.0      7.0      NaN      NaN      NaN         2.0          5.0   \n",
       "3      7.0      7.0      NaN      NaN      NaN         2.0         96.0   \n",
       "4      6.0      6.0      NaN      NaN      NaN         2.0         16.0   \n",
       "\n",
       "   Pts_dif_AB  \n",
       "0      -317.0  \n",
       "1       248.0  \n",
       "2      -320.0  \n",
       "3      -558.0  \n",
       "4      -715.0  \n",
       "\n",
       "[5 rows x 24 columns]"
      ]
     },
     "execution_count": 25,
     "metadata": {},
     "output_type": "execute_result"
    }
   ],
   "source": [
    "data_2.head()"
   ]
  },
  {
   "cell_type": "code",
   "execution_count": 26,
   "id": "a91a1907",
   "metadata": {
    "id": "bce3089e"
   },
   "outputs": [],
   "source": [
    "# data_2.to_csv('dataset_tennis_2.csv')"
   ]
  },
  {
   "cell_type": "code",
   "execution_count": 27,
   "id": "37b36f61",
   "metadata": {
    "id": "952dd8fe"
   },
   "outputs": [],
   "source": [
    "# victorias ultimas 1/3/5\n",
    "# victorias contra mismo ultimas 1/3/5\n",
    "# sets jugados ultimos 1/3/5 partidos\n"
   ]
  },
  {
   "cell_type": "code",
   "execution_count": 28,
   "id": "c70c78a4",
   "metadata": {
    "id": "2fce2235"
   },
   "outputs": [],
   "source": [
    "mask_winner_a = (data_2['Winner'] == data_2['player_a'])"
   ]
  },
  {
   "cell_type": "code",
   "execution_count": 29,
   "id": "e03fe7bb",
   "metadata": {
    "id": "9809e2d2"
   },
   "outputs": [],
   "source": [
    "data_2['Winner_a'] = np.NaN\n",
    "data_2['Winner_a'].fillna(0,inplace=True)\n",
    "data_2.loc[mask_winner_a,'Winner_a'] = 1"
   ]
  },
  {
   "cell_type": "code",
   "execution_count": 30,
   "id": "52da193b",
   "metadata": {
    "colab": {
     "base_uri": "https://localhost:8080/"
    },
    "id": "22513d27",
    "outputId": "4118577c-3b19-411e-b370-db2a87ebf4ce"
   },
   "outputs": [
    {
     "data": {
      "text/plain": [
       "1.0    5989\n",
       "0.0    5857\n",
       "Name: Winner_a, dtype: int64"
      ]
     },
     "execution_count": 30,
     "metadata": {},
     "output_type": "execute_result"
    }
   ],
   "source": [
    "# quedó bien balanceado A y B\n",
    "data_2['Winner_a'].value_counts()"
   ]
  },
  {
   "cell_type": "markdown",
   "id": "5cca2fb7",
   "metadata": {},
   "source": [
    "#### Completamos Sets vacios con \"0\""
   ]
  },
  {
   "cell_type": "code",
   "execution_count": 31,
   "id": "b99560ad",
   "metadata": {
    "id": "47847258"
   },
   "outputs": [],
   "source": [
    "columnas_sets= ['A_Set_1', 'A_Set_2', 'A_Set_3', 'A_Set_4','A_Set_5', 'B_Set_1', 'B_Set_2','B_Set_3', 'B_Set_4', 'B_Set_5']\n",
    "data_2[columnas_sets] = data_2[columnas_sets].fillna(0)"
   ]
  },
  {
   "cell_type": "markdown",
   "id": "b8fdee1c",
   "metadata": {
    "id": "497f1ad9"
   },
   "source": [
    "### Agregamos la cantidad de games ganados por cada jugador"
   ]
  },
  {
   "cell_type": "code",
   "execution_count": 32,
   "id": "9889c3c6",
   "metadata": {
    "id": "8895c8d1"
   },
   "outputs": [],
   "source": [
    "# data_2['A_games_won'] = data_2['A_Set_1']+ data_2['A_Set_2']+ data_2['A_Set_3']+ data_2['A_Set_4']+data_2['A_Set_5']"
   ]
  },
  {
   "cell_type": "code",
   "execution_count": 33,
   "id": "4e43f8a4",
   "metadata": {
    "id": "2720c04e"
   },
   "outputs": [],
   "source": [
    "# data_2['B_games_won'] = data_2['B_Set_1']+ data_2['B_Set_2']+ data_2['B_Set_3']+ data_2['B_Set_4']+data_2['B_Set_5']"
   ]
  },
  {
   "cell_type": "markdown",
   "id": "ae8381c9",
   "metadata": {
    "id": "51928570"
   },
   "source": [
    "### Construimos la columna Target"
   ]
  },
  {
   "cell_type": "code",
   "execution_count": 34,
   "id": "39531c96",
   "metadata": {
    "id": "ad58e473"
   },
   "outputs": [],
   "source": [
    "data_2['Target'] = 'B'"
   ]
  },
  {
   "cell_type": "code",
   "execution_count": 35,
   "id": "0e359453",
   "metadata": {
    "id": "2c0fe2f5"
   },
   "outputs": [],
   "source": [
    "mask_a = data_2['Winner'] == data_2 ['player_a']"
   ]
  },
  {
   "cell_type": "code",
   "execution_count": 36,
   "id": "3eafef4a",
   "metadata": {
    "id": "1d6f49ea"
   },
   "outputs": [],
   "source": [
    "data_2.loc[mask_a,'Target'] = 'A'"
   ]
  },
  {
   "cell_type": "code",
   "execution_count": 37,
   "id": "dfbc2ff9",
   "metadata": {
    "id": "d411515f"
   },
   "outputs": [],
   "source": [
    "data_2[\"A_sets_played\"] = data_2.B_Sets_won + data_2.A_Sets_won\n",
    "data_2[\"B_sets_played\"] = data_2.B_Sets_won + data_2.A_Sets_won"
   ]
  },
  {
   "cell_type": "code",
   "execution_count": 38,
   "id": "59e385b3",
   "metadata": {
    "id": "6cced1ab"
   },
   "outputs": [],
   "source": [
    "data_2[\"Date\"] = pd.to_datetime(data_2.Date)"
   ]
  },
  {
   "cell_type": "markdown",
   "id": "67321192",
   "metadata": {},
   "source": [
    "### Ordenamos el Dataset por Fecha (más antiguo a más reciente)"
   ]
  },
  {
   "cell_type": "code",
   "execution_count": 39,
   "id": "32a7e47b",
   "metadata": {},
   "outputs": [],
   "source": [
    "# Ordenamos el dataframe por Fecha\n",
    "data_2 = data_2.sort_values(by='Date')"
   ]
  },
  {
   "cell_type": "markdown",
   "id": "eb5f617e",
   "metadata": {},
   "source": [
    "#### Completamos Cantidad de Sets Ganados"
   ]
  },
  {
   "cell_type": "code",
   "execution_count": 40,
   "id": "2c1a3f52",
   "metadata": {
    "id": "d411515f"
   },
   "outputs": [],
   "source": [
    "data_2[\"A_sets_played\"] = data_2.B_Sets_won + data_2.A_Sets_won\n",
    "data_2[\"B_sets_played\"] = data_2.B_Sets_won + data_2.A_Sets_won"
   ]
  },
  {
   "cell_type": "code",
   "execution_count": 41,
   "id": "b9c15c5c",
   "metadata": {
    "id": "6cced1ab"
   },
   "outputs": [],
   "source": [
    "data_2[\"Date\"] = pd.to_datetime(data_2.Date)"
   ]
  },
  {
   "cell_type": "code",
   "execution_count": 42,
   "id": "bf909f30",
   "metadata": {},
   "outputs": [
    {
     "data": {
      "text/html": [
       "<div>\n",
       "<style scoped>\n",
       "    .dataframe tbody tr th:only-of-type {\n",
       "        vertical-align: middle;\n",
       "    }\n",
       "\n",
       "    .dataframe tbody tr th {\n",
       "        vertical-align: top;\n",
       "    }\n",
       "\n",
       "    .dataframe thead th {\n",
       "        text-align: right;\n",
       "    }\n",
       "</style>\n",
       "<table border=\"1\" class=\"dataframe\">\n",
       "  <thead>\n",
       "    <tr style=\"text-align: right;\">\n",
       "      <th></th>\n",
       "      <th>Location</th>\n",
       "      <th>Tournament</th>\n",
       "      <th>Date</th>\n",
       "      <th>Court</th>\n",
       "      <th>Surface</th>\n",
       "      <th>Round</th>\n",
       "      <th>Winner</th>\n",
       "      <th>Comment</th>\n",
       "      <th>player_a</th>\n",
       "      <th>player_b</th>\n",
       "      <th>...</th>\n",
       "      <th>B_Set_3</th>\n",
       "      <th>B_Set_4</th>\n",
       "      <th>B_Set_5</th>\n",
       "      <th>B_Sets_won</th>\n",
       "      <th>Rank_dif_AB</th>\n",
       "      <th>Pts_dif_AB</th>\n",
       "      <th>Winner_a</th>\n",
       "      <th>Target</th>\n",
       "      <th>A_sets_played</th>\n",
       "      <th>B_sets_played</th>\n",
       "    </tr>\n",
       "  </thead>\n",
       "  <tbody>\n",
       "    <tr>\n",
       "      <th>0</th>\n",
       "      <td>Brisbane</td>\n",
       "      <td>Brisbane International</td>\n",
       "      <td>2017-01-01</td>\n",
       "      <td>Outdoor</td>\n",
       "      <td>Hard</td>\n",
       "      <td>1st Round</td>\n",
       "      <td>Thompson J.</td>\n",
       "      <td>Completed</td>\n",
       "      <td>Ymer E.</td>\n",
       "      <td>Thompson J.</td>\n",
       "      <td>...</td>\n",
       "      <td>0.0</td>\n",
       "      <td>0.0</td>\n",
       "      <td>0.0</td>\n",
       "      <td>2.0</td>\n",
       "      <td>81.0</td>\n",
       "      <td>-317.0</td>\n",
       "      <td>0.0</td>\n",
       "      <td>B</td>\n",
       "      <td>2.0</td>\n",
       "      <td>2.0</td>\n",
       "    </tr>\n",
       "    <tr>\n",
       "      <th>56</th>\n",
       "      <td>Doha</td>\n",
       "      <td>Qatar Exxon Mobil Open</td>\n",
       "      <td>2017-01-02</td>\n",
       "      <td>Outdoor</td>\n",
       "      <td>Hard</td>\n",
       "      <td>1st Round</td>\n",
       "      <td>Djokovic N.</td>\n",
       "      <td>Completed</td>\n",
       "      <td>Djokovic N.</td>\n",
       "      <td>Struff J.L.</td>\n",
       "      <td>...</td>\n",
       "      <td>0.0</td>\n",
       "      <td>0.0</td>\n",
       "      <td>0.0</td>\n",
       "      <td>0.0</td>\n",
       "      <td>-61.0</td>\n",
       "      <td>11022.0</td>\n",
       "      <td>1.0</td>\n",
       "      <td>A</td>\n",
       "      <td>2.0</td>\n",
       "      <td>2.0</td>\n",
       "    </tr>\n",
       "    <tr>\n",
       "      <th>55</th>\n",
       "      <td>Doha</td>\n",
       "      <td>Qatar Exxon Mobil Open</td>\n",
       "      <td>2017-01-02</td>\n",
       "      <td>Outdoor</td>\n",
       "      <td>Hard</td>\n",
       "      <td>1st Round</td>\n",
       "      <td>Almagro N.</td>\n",
       "      <td>Completed</td>\n",
       "      <td>Almagro N.</td>\n",
       "      <td>Lorenzi P.</td>\n",
       "      <td>...</td>\n",
       "      <td>3.0</td>\n",
       "      <td>0.0</td>\n",
       "      <td>0.0</td>\n",
       "      <td>1.0</td>\n",
       "      <td>4.0</td>\n",
       "      <td>-77.0</td>\n",
       "      <td>1.0</td>\n",
       "      <td>A</td>\n",
       "      <td>3.0</td>\n",
       "      <td>3.0</td>\n",
       "    </tr>\n",
       "    <tr>\n",
       "      <th>54</th>\n",
       "      <td>Doha</td>\n",
       "      <td>Qatar Exxon Mobil Open</td>\n",
       "      <td>2017-01-02</td>\n",
       "      <td>Outdoor</td>\n",
       "      <td>Hard</td>\n",
       "      <td>1st Round</td>\n",
       "      <td>Vesely J.</td>\n",
       "      <td>Completed</td>\n",
       "      <td>Vesely J.</td>\n",
       "      <td>Yuksel A.</td>\n",
       "      <td>...</td>\n",
       "      <td>0.0</td>\n",
       "      <td>0.0</td>\n",
       "      <td>0.0</td>\n",
       "      <td>0.0</td>\n",
       "      <td>-452.0</td>\n",
       "      <td>775.0</td>\n",
       "      <td>1.0</td>\n",
       "      <td>A</td>\n",
       "      <td>2.0</td>\n",
       "      <td>2.0</td>\n",
       "    </tr>\n",
       "    <tr>\n",
       "      <th>53</th>\n",
       "      <td>Doha</td>\n",
       "      <td>Qatar Exxon Mobil Open</td>\n",
       "      <td>2017-01-02</td>\n",
       "      <td>Outdoor</td>\n",
       "      <td>Hard</td>\n",
       "      <td>1st Round</td>\n",
       "      <td>Brown D.</td>\n",
       "      <td>Completed</td>\n",
       "      <td>Bagnis F.</td>\n",
       "      <td>Brown D.</td>\n",
       "      <td>...</td>\n",
       "      <td>6.0</td>\n",
       "      <td>0.0</td>\n",
       "      <td>0.0</td>\n",
       "      <td>2.0</td>\n",
       "      <td>-16.0</td>\n",
       "      <td>125.0</td>\n",
       "      <td>0.0</td>\n",
       "      <td>B</td>\n",
       "      <td>3.0</td>\n",
       "      <td>3.0</td>\n",
       "    </tr>\n",
       "  </tbody>\n",
       "</table>\n",
       "<p>5 rows × 28 columns</p>\n",
       "</div>"
      ],
      "text/plain": [
       "    Location              Tournament       Date    Court Surface      Round  \\\n",
       "0   Brisbane  Brisbane International 2017-01-01  Outdoor    Hard  1st Round   \n",
       "56      Doha  Qatar Exxon Mobil Open 2017-01-02  Outdoor    Hard  1st Round   \n",
       "55      Doha  Qatar Exxon Mobil Open 2017-01-02  Outdoor    Hard  1st Round   \n",
       "54      Doha  Qatar Exxon Mobil Open 2017-01-02  Outdoor    Hard  1st Round   \n",
       "53      Doha  Qatar Exxon Mobil Open 2017-01-02  Outdoor    Hard  1st Round   \n",
       "\n",
       "         Winner    Comment     player_a     player_b  ...  B_Set_3  B_Set_4  \\\n",
       "0   Thompson J.  Completed      Ymer E.  Thompson J.  ...      0.0      0.0   \n",
       "56  Djokovic N.  Completed  Djokovic N.  Struff J.L.  ...      0.0      0.0   \n",
       "55   Almagro N.  Completed   Almagro N.   Lorenzi P.  ...      3.0      0.0   \n",
       "54    Vesely J.  Completed    Vesely J.    Yuksel A.  ...      0.0      0.0   \n",
       "53     Brown D.  Completed    Bagnis F.     Brown D.  ...      6.0      0.0   \n",
       "\n",
       "    B_Set_5  B_Sets_won  Rank_dif_AB  Pts_dif_AB  Winner_a  Target  \\\n",
       "0       0.0         2.0         81.0      -317.0       0.0       B   \n",
       "56      0.0         0.0        -61.0     11022.0       1.0       A   \n",
       "55      0.0         1.0          4.0       -77.0       1.0       A   \n",
       "54      0.0         0.0       -452.0       775.0       1.0       A   \n",
       "53      0.0         2.0        -16.0       125.0       0.0       B   \n",
       "\n",
       "    A_sets_played  B_sets_played  \n",
       "0             2.0            2.0  \n",
       "56            2.0            2.0  \n",
       "55            3.0            3.0  \n",
       "54            2.0            2.0  \n",
       "53            3.0            3.0  \n",
       "\n",
       "[5 rows x 28 columns]"
      ]
     },
     "execution_count": 42,
     "metadata": {},
     "output_type": "execute_result"
    }
   ],
   "source": [
    "data_2.head()"
   ]
  },
  {
   "cell_type": "code",
   "execution_count": null,
   "id": "3530c028",
   "metadata": {},
   "outputs": [],
   "source": []
  },
  {
   "cell_type": "code",
   "execution_count": null,
   "id": "9cf0469e",
   "metadata": {},
   "outputs": [],
   "source": []
  },
  {
   "cell_type": "code",
   "execution_count": 43,
   "id": "04277a82",
   "metadata": {},
   "outputs": [],
   "source": [
    "# [('Location', 0), ('Tournament', 1), ('Date', 2), ('Court', 3), ('Surface', 4), ('Round', 5),\n",
    "#  ('Winner', 6), ('Comment', 7), ('player_a', 8), ('player_b', 9), ('A_Rank', 10), ('A_Pts', 11),\n",
    "#  ('A_Set_1', 12), ('A_Set_2', 13), ('A_Set_3', 14), ('A_Set_4', 15), ('A_Set_5', 16), ('A_Sets_won', 17),\n",
    "#  ('B_Rank', 18), ('B_Pts', 19), ('B_Set_1', 20), ('B_Set_2', 21), ('B_Set_3', 22), ('B_Set_4', 23),\n",
    "#  ('B_Set_5', 24), ('B_Sets_won', 25), ('Winner_a', 26), ('A_games_won', 27), ('B_games_won', 28), ('Target', 29), \n",
    "#  ('A_sets_played', 30),\n",
    "#  ('B_sets_played', 31), ('Player_a+b', 32)]"
   ]
  },
  {
   "cell_type": "markdown",
   "id": "0c7169fe",
   "metadata": {},
   "source": [
    "### Construct a tuple for the two players playing and filter them alphabetically"
   ]
  },
  {
   "cell_type": "code",
   "execution_count": 44,
   "id": "28becf0c",
   "metadata": {},
   "outputs": [],
   "source": [
    "data_2[\"player_tuple\"] = list(zip(data_2.player_a,data_2.player_b))"
   ]
  },
  {
   "cell_type": "code",
   "execution_count": 45,
   "id": "18a00367",
   "metadata": {},
   "outputs": [],
   "source": [
    "data_2[\"player_tuple\"] = data_2[\"player_tuple\"].apply(lambda x: tuple(sorted(list(x))))"
   ]
  },
  {
   "cell_type": "code",
   "execution_count": 46,
   "id": "f5c9e991",
   "metadata": {},
   "outputs": [
    {
     "data": {
      "text/plain": [
       "0             (Thompson J., Ymer E.)\n",
       "56        (Djokovic N., Struff J.L.)\n",
       "55          (Almagro N., Lorenzi P.)\n",
       "54            (Vesely J., Yuksel A.)\n",
       "53             (Bagnis F., Brown D.)\n",
       "                    ...             \n",
       "11785      (Norrie C., Tsitsipas S.)\n",
       "11844       (Martinez P., Tabilo A.)\n",
       "11843    (Baez S., Ramos-Vinolas A.)\n",
       "11787          (Nadal R., Norrie C.)\n",
       "11845         (Baez S., Martinez P.)\n",
       "Name: player_tuple, Length: 11846, dtype: object"
      ]
     },
     "execution_count": 46,
     "metadata": {},
     "output_type": "execute_result"
    }
   ],
   "source": [
    "data_2[\"player_tuple\"]"
   ]
  },
  {
   "cell_type": "code",
   "execution_count": null,
   "id": "7c8d0812",
   "metadata": {},
   "outputs": [],
   "source": []
  },
  {
   "cell_type": "code",
   "execution_count": null,
   "id": "6153af03",
   "metadata": {},
   "outputs": [],
   "source": []
  },
  {
   "cell_type": "markdown",
   "id": "a95af815",
   "metadata": {},
   "source": [
    "### Construct a dictionary to keep track of individual players win details"
   ]
  },
  {
   "cell_type": "code",
   "execution_count": 47,
   "id": "0ee024f2",
   "metadata": {},
   "outputs": [],
   "source": [
    "names_a = list(np.unique(data_2.player_a))\n",
    "names_b = list(np.unique(data_2.player_b))\n",
    "names_unique = list(np.unique(names_a+names_b))\n"
   ]
  },
  {
   "cell_type": "code",
   "execution_count": 48,
   "id": "a09a0fd0",
   "metadata": {},
   "outputs": [],
   "source": [
    "players_dict={name:{\"last_game_won\":0,\"games_won_last_3\":list(),\"games_won_last_5\":list(),\"streak\":0} for name in names_unique}"
   ]
  },
  {
   "cell_type": "code",
   "execution_count": 49,
   "id": "09e519de",
   "metadata": {},
   "outputs": [],
   "source": [
    "tmp_a = \"_player_a\"\n",
    "tmp_b = \"_player_b\"\n",
    "\n",
    "last_1 = \"last_game_won\"\n",
    "last_3 = \"games_won_last_3\"\n",
    "last_5 = \"games_won_last_5\"\n",
    "streak = \"streak\"\n",
    "\n",
    "tmp_last_1_a = last_1 + tmp_a\n",
    "tmp_last_3_a = last_3 + tmp_a\n",
    "tmp_last_5_a = last_5 + tmp_a\n",
    "tmp_streak_a = streak + tmp_a\n",
    "\n",
    "tmp_last_1_b = last_1 + tmp_b\n",
    "tmp_last_3_b = last_3 + tmp_b\n",
    "tmp_last_5_b = last_5 + tmp_b\n",
    "tmp_streak_b = streak + tmp_b\n"
   ]
  },
  {
   "cell_type": "code",
   "execution_count": 50,
   "id": "1b35dd25",
   "metadata": {},
   "outputs": [],
   "source": [
    "def set_dict_winner(player):\n",
    "    '''\n",
    "    update dict winner\n",
    "    '''\n",
    "    players_dict[player][last_1] = 1\n",
    "    \n",
    "    players_dict[player][last_3].append(1)   \n",
    "    players_dict[player][last_3] = players_dict[player][last_3][-3:]\n",
    "    \n",
    "    players_dict[player][last_5].append(1)\n",
    "    players_dict[player][last_5] = players_dict[player][last_5][-5:]\n",
    "    \n",
    "    players_dict[player][streak] +=1\n",
    "    \n",
    "    \n",
    "def set_dict_loser(player):\n",
    "    '''\n",
    "    update dict loser\n",
    "    '''\n",
    "    players_dict[player][last_1] = 0\n",
    "    \n",
    "    players_dict[player][last_3].append(0)   \n",
    "    players_dict[player][last_3] = players_dict[player][last_3][-3:]\n",
    "    \n",
    "    players_dict[player][last_5].append(0)\n",
    "    players_dict[player][last_5] = players_dict[player][last_5][-5:]  \n",
    "    players_dict[player][streak] = 0"
   ]
  },
  {
   "cell_type": "code",
   "execution_count": 51,
   "id": "b0a8ca1a",
   "metadata": {},
   "outputs": [],
   "source": [
    "def zero_div_error(x):\n",
    "    '''\n",
    "    soluciona problema cuando la lista esta vacia\n",
    "    '''\n",
    "    try:\n",
    "        return sum(x)/len(x)*100\n",
    "    except ZeroDivisionError:\n",
    "        return 0"
   ]
  },
  {
   "cell_type": "code",
   "execution_count": 52,
   "id": "97af97dd",
   "metadata": {},
   "outputs": [],
   "source": [
    "%%capture\n",
    "for i,j in data_2.iterrows():\n",
    "    \n",
    "    tmp_winner = j[6]\n",
    "    tmp_player_a = j[8]\n",
    "    tmp_player_b = j[9]\n",
    "        \n",
    "    #wins 1/3/5    \n",
    "    data_2.loc[i, tmp_last_1_a] = players_dict[tmp_player_a][last_1] \n",
    "    data_2.loc[i, tmp_last_3_a] = zero_div_error(players_dict[tmp_player_a][last_3])\n",
    "    data_2.loc[i, tmp_last_5_a] = zero_div_error(players_dict[tmp_player_a][last_5])\n",
    "\n",
    "    data_2.loc[i,tmp_last_1_b] = players_dict[tmp_player_b][last_1] \n",
    "    data_2.loc[i,tmp_last_3_b] = zero_div_error(players_dict[tmp_player_b][last_3])\n",
    "    data_2.loc[i,tmp_last_5_b] = zero_div_error(players_dict[tmp_player_b][last_5])\n",
    "    \n",
    "    #streaks\n",
    "    tmp_streak_a\n",
    "    data_2.loc[i,tmp_streak_a] = players_dict[tmp_player_a][streak] \n",
    "    data_2.loc[i,tmp_streak_b] = players_dict[tmp_player_b][streak] \n",
    "    \n",
    "    if tmp_winner == tmp_player_a: \n",
    "        set_dict_winner(tmp_player_a)\n",
    "        set_dict_loser(tmp_player_b)\n",
    "    else:\n",
    "        set_dict_winner(tmp_player_b)\n",
    "        set_dict_loser(tmp_player_a)\n"
   ]
  },
  {
   "cell_type": "code",
   "execution_count": 53,
   "id": "fb0d30a1",
   "metadata": {},
   "outputs": [
    {
     "data": {
      "text/html": [
       "<div>\n",
       "<style scoped>\n",
       "    .dataframe tbody tr th:only-of-type {\n",
       "        vertical-align: middle;\n",
       "    }\n",
       "\n",
       "    .dataframe tbody tr th {\n",
       "        vertical-align: top;\n",
       "    }\n",
       "\n",
       "    .dataframe thead th {\n",
       "        text-align: right;\n",
       "    }\n",
       "</style>\n",
       "<table border=\"1\" class=\"dataframe\">\n",
       "  <thead>\n",
       "    <tr style=\"text-align: right;\">\n",
       "      <th></th>\n",
       "      <th>player_a</th>\n",
       "      <th>player_b</th>\n",
       "      <th>Winner</th>\n",
       "      <th>last_game_won_player_a</th>\n",
       "      <th>games_won_last_3_player_a</th>\n",
       "      <th>games_won_last_5_player_a</th>\n",
       "      <th>last_game_won_player_b</th>\n",
       "      <th>games_won_last_3_player_b</th>\n",
       "      <th>games_won_last_5_player_b</th>\n",
       "      <th>streak_player_a</th>\n",
       "      <th>streak_player_b</th>\n",
       "    </tr>\n",
       "  </thead>\n",
       "  <tbody>\n",
       "    <tr>\n",
       "      <th>0</th>\n",
       "      <td>Ymer E.</td>\n",
       "      <td>Thompson J.</td>\n",
       "      <td>Thompson J.</td>\n",
       "      <td>0.0</td>\n",
       "      <td>0.0</td>\n",
       "      <td>0.0</td>\n",
       "      <td>0.0</td>\n",
       "      <td>0.0</td>\n",
       "      <td>0.0</td>\n",
       "      <td>0.0</td>\n",
       "      <td>0.0</td>\n",
       "    </tr>\n",
       "    <tr>\n",
       "      <th>56</th>\n",
       "      <td>Djokovic N.</td>\n",
       "      <td>Struff J.L.</td>\n",
       "      <td>Djokovic N.</td>\n",
       "      <td>0.0</td>\n",
       "      <td>0.0</td>\n",
       "      <td>0.0</td>\n",
       "      <td>0.0</td>\n",
       "      <td>0.0</td>\n",
       "      <td>0.0</td>\n",
       "      <td>0.0</td>\n",
       "      <td>0.0</td>\n",
       "    </tr>\n",
       "    <tr>\n",
       "      <th>55</th>\n",
       "      <td>Almagro N.</td>\n",
       "      <td>Lorenzi P.</td>\n",
       "      <td>Almagro N.</td>\n",
       "      <td>0.0</td>\n",
       "      <td>0.0</td>\n",
       "      <td>0.0</td>\n",
       "      <td>0.0</td>\n",
       "      <td>0.0</td>\n",
       "      <td>0.0</td>\n",
       "      <td>0.0</td>\n",
       "      <td>0.0</td>\n",
       "    </tr>\n",
       "    <tr>\n",
       "      <th>54</th>\n",
       "      <td>Vesely J.</td>\n",
       "      <td>Yuksel A.</td>\n",
       "      <td>Vesely J.</td>\n",
       "      <td>0.0</td>\n",
       "      <td>0.0</td>\n",
       "      <td>0.0</td>\n",
       "      <td>0.0</td>\n",
       "      <td>0.0</td>\n",
       "      <td>0.0</td>\n",
       "      <td>0.0</td>\n",
       "      <td>0.0</td>\n",
       "    </tr>\n",
       "    <tr>\n",
       "      <th>53</th>\n",
       "      <td>Bagnis F.</td>\n",
       "      <td>Brown D.</td>\n",
       "      <td>Brown D.</td>\n",
       "      <td>0.0</td>\n",
       "      <td>0.0</td>\n",
       "      <td>0.0</td>\n",
       "      <td>0.0</td>\n",
       "      <td>0.0</td>\n",
       "      <td>0.0</td>\n",
       "      <td>0.0</td>\n",
       "      <td>0.0</td>\n",
       "    </tr>\n",
       "  </tbody>\n",
       "</table>\n",
       "</div>"
      ],
      "text/plain": [
       "       player_a     player_b       Winner  last_game_won_player_a  \\\n",
       "0       Ymer E.  Thompson J.  Thompson J.                     0.0   \n",
       "56  Djokovic N.  Struff J.L.  Djokovic N.                     0.0   \n",
       "55   Almagro N.   Lorenzi P.   Almagro N.                     0.0   \n",
       "54    Vesely J.    Yuksel A.    Vesely J.                     0.0   \n",
       "53    Bagnis F.     Brown D.     Brown D.                     0.0   \n",
       "\n",
       "    games_won_last_3_player_a  games_won_last_5_player_a  \\\n",
       "0                         0.0                        0.0   \n",
       "56                        0.0                        0.0   \n",
       "55                        0.0                        0.0   \n",
       "54                        0.0                        0.0   \n",
       "53                        0.0                        0.0   \n",
       "\n",
       "    last_game_won_player_b  games_won_last_3_player_b  \\\n",
       "0                      0.0                        0.0   \n",
       "56                     0.0                        0.0   \n",
       "55                     0.0                        0.0   \n",
       "54                     0.0                        0.0   \n",
       "53                     0.0                        0.0   \n",
       "\n",
       "    games_won_last_5_player_b  streak_player_a  streak_player_b  \n",
       "0                         0.0              0.0              0.0  \n",
       "56                        0.0              0.0              0.0  \n",
       "55                        0.0              0.0              0.0  \n",
       "54                        0.0              0.0              0.0  \n",
       "53                        0.0              0.0              0.0  "
      ]
     },
     "execution_count": 53,
     "metadata": {},
     "output_type": "execute_result"
    }
   ],
   "source": [
    "data_2[['player_a', 'player_b','Winner','last_game_won_player_a', 'games_won_last_3_player_a',\n",
    "       'games_won_last_5_player_a', 'last_game_won_player_b',\n",
    "       'games_won_last_3_player_b', 'games_won_last_5_player_b','streak_player_a', 'streak_player_b']].head()"
   ]
  },
  {
   "cell_type": "code",
   "execution_count": 54,
   "id": "d8c26722",
   "metadata": {},
   "outputs": [
    {
     "data": {
      "text/plain": [
       "Index(['Location', 'Tournament', 'Date', 'Court', 'Surface', 'Round', 'Winner',\n",
       "       'Comment', 'player_a', 'player_b', 'A_Set_1', 'A_Set_2', 'A_Set_3',\n",
       "       'A_Set_4', 'A_Set_5', 'A_Sets_won', 'B_Set_1', 'B_Set_2', 'B_Set_3',\n",
       "       'B_Set_4', 'B_Set_5', 'B_Sets_won', 'Rank_dif_AB', 'Pts_dif_AB',\n",
       "       'Winner_a', 'Target', 'A_sets_played', 'B_sets_played', 'player_tuple',\n",
       "       'last_game_won_player_a', 'games_won_last_3_player_a',\n",
       "       'games_won_last_5_player_a', 'last_game_won_player_b',\n",
       "       'games_won_last_3_player_b', 'games_won_last_5_player_b',\n",
       "       'streak_player_a', 'streak_player_b'],\n",
       "      dtype='object')"
      ]
     },
     "execution_count": 54,
     "metadata": {},
     "output_type": "execute_result"
    }
   ],
   "source": [
    "data_2.columns"
   ]
  },
  {
   "cell_type": "markdown",
   "id": "5d8a8a50",
   "metadata": {},
   "source": [
    "### Construct a dictionary to keep track of matches between two players"
   ]
  },
  {
   "cell_type": "code",
   "execution_count": 55,
   "id": "bddcd089",
   "metadata": {},
   "outputs": [],
   "source": [
    "#data_2[\"player_tuple\"]"
   ]
  },
  {
   "cell_type": "code",
   "execution_count": 56,
   "id": "34b68750",
   "metadata": {},
   "outputs": [],
   "source": [
    "matches_unique = np.unique(data_2.player_tuple)"
   ]
  },
  {
   "cell_type": "code",
   "execution_count": 57,
   "id": "4fc1fe21",
   "metadata": {},
   "outputs": [
    {
     "data": {
      "text/plain": [
       "('Ahouda A.', 'Granollers M.')"
      ]
     },
     "execution_count": 57,
     "metadata": {},
     "output_type": "execute_result"
    }
   ],
   "source": [
    "matches_unique[0]"
   ]
  },
  {
   "cell_type": "code",
   "execution_count": 58,
   "id": "45d3b346",
   "metadata": {},
   "outputs": [
    {
     "data": {
      "text/plain": [
       "28"
      ]
     },
     "execution_count": 58,
     "metadata": {},
     "output_type": "execute_result"
    }
   ],
   "source": [
    "data_2.columns.get_loc('player_tuple')"
   ]
  },
  {
   "cell_type": "code",
   "execution_count": 59,
   "id": "d86ece20",
   "metadata": {},
   "outputs": [],
   "source": [
    "one_v_one_matches = {pair:{\"last_match\":None,\"hist_winner\":list()} for pair in matches_unique}"
   ]
  },
  {
   "cell_type": "code",
   "execution_count": 60,
   "id": "42b440cb",
   "metadata": {},
   "outputs": [],
   "source": [
    "def a_win_rate(tmp_a:str(),hist_games:list()):\n",
    "    '''\n",
    "    genera el winrate para a vs b\n",
    "    '''\n",
    "    a_wins = hist_games.count(tmp_a)\n",
    "    n_games = len(hist_games)\n",
    "    try:\n",
    "        win_rate = a_wins/n_games\n",
    "    except ZeroDivisionError:\n",
    "        win_rate = 0\n",
    "    return win_rate\n",
    "    \n",
    "    "
   ]
  },
  {
   "cell_type": "code",
   "execution_count": 61,
   "id": "ddf50978",
   "metadata": {},
   "outputs": [],
   "source": [
    "%%capture\n",
    "loc_tuple = data_2.columns.get_loc('player_tuple')\n",
    "for i,j in data_2.iterrows():\n",
    "    tmp_winner = j[6]\n",
    "    tmp_player_a = j[8]\n",
    "    tmp_player_b = j[9]\n",
    "    tmp_tuple= j[loc_tuple]\n",
    "    \n",
    "    #last_game\n",
    "    if one_v_one_matches[tmp_tuple][\"last_match\"] == tmp_player_a:\n",
    "        data_2.loc[i, \"who_won_last_game\"] = \"A\"  \n",
    "    elif one_v_one_matches[tmp_tuple][\"last_match\"] == tmp_player_b:\n",
    "        data_2.loc[i, \"who_won_last_game\"] = \"B\"\n",
    "    else:\n",
    "        data_2.loc[i, \"who_won_last_game\"] = 0\n",
    "    \n",
    "    \n",
    "    data_2.loc[i, \"A_win_rate_vs_B\"] = a_win_rate(tmp_player_a,one_v_one_matches[tmp_tuple][\"hist_winner\"])\n",
    "    data_2.loc[i, \"B_win_rate_vs_A\"] = a_win_rate(tmp_player_b,one_v_one_matches[tmp_tuple][\"hist_winner\"])\n",
    "    \n",
    "    \n",
    "    #update dict\n",
    "    one_v_one_matches[tmp_tuple][\"last_match\"] = tmp_winner \n",
    "    one_v_one_matches[tmp_tuple][\"hist_winner\"].append(tmp_winner)\n",
    "    \n",
    "    \n",
    "    "
   ]
  },
  {
   "cell_type": "code",
   "execution_count": 62,
   "id": "5a14c7eb",
   "metadata": {},
   "outputs": [
    {
     "data": {
      "text/plain": [
       "0     0\n",
       "56    0\n",
       "55    0\n",
       "54    0\n",
       "53    0\n",
       "Name: who_won_last_game, dtype: object"
      ]
     },
     "execution_count": 62,
     "metadata": {},
     "output_type": "execute_result"
    }
   ],
   "source": [
    "data_2[\"who_won_last_game\"].head()"
   ]
  },
  {
   "cell_type": "code",
   "execution_count": 63,
   "id": "2925fdc9",
   "metadata": {},
   "outputs": [],
   "source": [
    "data_2.loc[data_2[\"who_won_last_game\"].isna(),\"who_won_last_game\"] = 0\n"
   ]
  },
  {
   "cell_type": "code",
   "execution_count": 64,
   "id": "17548764",
   "metadata": {},
   "outputs": [],
   "source": [
    "tmp_df = pd.get_dummies(data_2.who_won_last_game,drop_first=True)\n"
   ]
  },
  {
   "cell_type": "code",
   "execution_count": 65,
   "id": "7f7be84b",
   "metadata": {},
   "outputs": [],
   "source": [
    "data_2.drop(\"who_won_last_game\",axis=1,inplace=True)"
   ]
  },
  {
   "cell_type": "code",
   "execution_count": 66,
   "id": "3d224cd9",
   "metadata": {},
   "outputs": [],
   "source": [
    "data_2[\"A_won_last\"] = tmp_df[\"A\"]\n",
    "data_2[\"B_won_last\"] = tmp_df[\"B\"]\n"
   ]
  },
  {
   "cell_type": "code",
   "execution_count": 67,
   "id": "9bf05d07",
   "metadata": {},
   "outputs": [
    {
     "data": {
      "text/plain": [
       "Index(['Location', 'Tournament', 'Date', 'Court', 'Surface', 'Round', 'Winner',\n",
       "       'Comment', 'player_a', 'player_b', 'A_Set_1', 'A_Set_2', 'A_Set_3',\n",
       "       'A_Set_4', 'A_Set_5', 'A_Sets_won', 'B_Set_1', 'B_Set_2', 'B_Set_3',\n",
       "       'B_Set_4', 'B_Set_5', 'B_Sets_won', 'Rank_dif_AB', 'Pts_dif_AB',\n",
       "       'Winner_a', 'Target', 'A_sets_played', 'B_sets_played', 'player_tuple',\n",
       "       'last_game_won_player_a', 'games_won_last_3_player_a',\n",
       "       'games_won_last_5_player_a', 'last_game_won_player_b',\n",
       "       'games_won_last_3_player_b', 'games_won_last_5_player_b',\n",
       "       'streak_player_a', 'streak_player_b', 'A_win_rate_vs_B',\n",
       "       'B_win_rate_vs_A', 'A_won_last', 'B_won_last'],\n",
       "      dtype='object')"
      ]
     },
     "execution_count": 67,
     "metadata": {},
     "output_type": "execute_result"
    }
   ],
   "source": [
    "data_2.columns"
   ]
  },
  {
   "cell_type": "code",
   "execution_count": null,
   "id": "8185d631",
   "metadata": {},
   "outputs": [],
   "source": []
  },
  {
   "cell_type": "code",
   "execution_count": null,
   "id": "c07c46a6",
   "metadata": {},
   "outputs": [],
   "source": []
  },
  {
   "cell_type": "markdown",
   "id": "b49ca913",
   "metadata": {},
   "source": [
    "# Fuzzy Matching \n",
    "### Ahora lo comentamos ya que el resultado de esto lo exportamos a un excel para no tener que ejecutarlo cada vez que corremos la notebook"
   ]
  },
  {
   "cell_type": "code",
   "execution_count": 68,
   "id": "15fea13b",
   "metadata": {
    "colab": {
     "base_uri": "https://localhost:8080/"
    },
    "id": "82b3d8dd",
    "outputId": "d5df85b7-a648-4151-9968-34ca6bbb32a5"
   },
   "outputs": [],
   "source": [
    "# data_player = pd.read_csv('atp_players.csv')\n",
    "# data_player.info()"
   ]
  },
  {
   "cell_type": "code",
   "execution_count": 69,
   "id": "9d7d89ed",
   "metadata": {
    "id": "1e83d63e"
   },
   "outputs": [],
   "source": [
    "# data_player['name_first'] = data_player['name_first'].astype('str')\n",
    "# data_player['name_last'] = data_player['name_last'].astype('str')\n",
    "# data_player['full name'] = data_player.apply(lambda x: x['name_last'] + \" \" +x['name_first'][:1]+\".\",axis=1)"
   ]
  },
  {
   "cell_type": "code",
   "execution_count": 70,
   "id": "8a88798f",
   "metadata": {
    "id": "e3816758"
   },
   "outputs": [],
   "source": [
    "# data_player.drop(['player_id','name_first','name_last','wikidata_id'],axis=1,inplace=True)\n",
    "# # data_player = data_player.dropna()\n",
    "# data_player.drop_duplicates('full name',inplace=True)\n",
    "# data_player.set_index('full name',inplace=True)"
   ]
  },
  {
   "cell_type": "code",
   "execution_count": 71,
   "id": "9284cc43",
   "metadata": {
    "colab": {
     "base_uri": "https://localhost:8080/",
     "height": 454
    },
    "id": "d1ff4264",
    "outputId": "98cb1f31-5eee-4bb0-b402-5baa6171a8cc"
   },
   "outputs": [],
   "source": [
    "# data_player.head()"
   ]
  },
  {
   "cell_type": "code",
   "execution_count": 72,
   "id": "dbb83a92",
   "metadata": {
    "id": "f19db8c3"
   },
   "outputs": [],
   "source": [
    "# # # Clean player lists\n",
    "# Player_A_cleaned = [player for player in data_2[\"player_a\"].unique() if not(pd.isnull(player))]\n",
    "# Player_B_cleaned = [player for player in data_2[\"player_b\"].unique() if not(pd.isnull(player))]\n",
    "# Player_data_cleaned = [player for player in data_player.index]"
   ]
  },
  {
   "cell_type": "code",
   "execution_count": 73,
   "id": "b71ca978",
   "metadata": {
    "id": "687cc718"
   },
   "outputs": [],
   "source": [
    "# # Perform fuzzy string matching\n",
    "# tuples_list = [max([(fuzz.token_set_ratio(i,j),j) for j in Player_data_cleaned]) for i in Player_A_cleaned]\n",
    "\n",
    "# # Unpack list of tuples into two lists\n",
    "# similarity_score, fuzzy_match = map(list,zip(*tuples_list))\n",
    "\n",
    "# # Create pandas DataFrame\n",
    "# player_a_fuzzy = pd.DataFrame({\"list_A\":Player_A_cleaned, \"fuzzy match\": fuzzy_match, \"similarity score\":similarity_score})"
   ]
  },
  {
   "cell_type": "code",
   "execution_count": 74,
   "id": "42abe6cb",
   "metadata": {
    "id": "b4613b7e"
   },
   "outputs": [],
   "source": [
    "# # Perform fuzzy string matching\n",
    "# tuples_list = [max([(fuzz.token_set_ratio(i,j),j) for j in Player_data_cleaned]) for i in Player_B_cleaned]\n",
    "\n",
    "# # Unpack list of tuples into two lists\n",
    "# similarity_score, fuzzy_match = map(list,zip(*tuples_list))\n",
    "\n",
    "# # Create pandas DataFrame\n",
    "# player_b_fuzzy = pd.DataFrame({\"list_B\":Player_B_cleaned, \"fuzzy match\": fuzzy_match, \"similarity score\":similarity_score})"
   ]
  },
  {
   "cell_type": "code",
   "execution_count": 75,
   "id": "5ef9bde6",
   "metadata": {
    "id": "49001722"
   },
   "outputs": [],
   "source": [
    "# data_player_a_cleaned = player_a_fuzzy.merge(data_player,left_on='fuzzy match',right_on='full name',how='left')\n",
    "# data_player_a_cleaned = data_player_a_cleaned.rename(columns={'list_A':'player_name'})\n",
    "# data_player_a_cleaned.drop(columns=['fuzzy match','similarity score'],inplace=True)"
   ]
  },
  {
   "cell_type": "code",
   "execution_count": 76,
   "id": "da19ec43",
   "metadata": {
    "id": "84dabb26"
   },
   "outputs": [],
   "source": [
    "# data_player_b_cleaned = player_b_fuzzy.merge(data_player,left_on='fuzzy match',right_on='full name',how='left')\n",
    "# data_player_b_cleaned = data_player_b_cleaned.rename(columns={'list_B':'player_name'})\n",
    "# data_player_b_cleaned.drop(columns=['fuzzy match','similarity score'],inplace=True)"
   ]
  },
  {
   "cell_type": "code",
   "execution_count": 77,
   "id": "4d2ba177",
   "metadata": {
    "id": "9f6a0a15"
   },
   "outputs": [],
   "source": [
    "# data_player_b_cleaned = data_player_b_cleaned.rename(columns={'list_B':'player_name'})"
   ]
  },
  {
   "cell_type": "code",
   "execution_count": 78,
   "id": "86b34e86",
   "metadata": {
    "id": "2f3f929a"
   },
   "outputs": [],
   "source": [
    "# data_player_cleaned = pd.concat([data_player_a_cleaned,data_player_b_cleaned])\n",
    "# data_player_cleaned.drop_duplicates(inplace=True)\n",
    "# data_player_cleaned.head()"
   ]
  },
  {
   "cell_type": "code",
   "execution_count": null,
   "id": "0ee64a1b",
   "metadata": {
    "id": "bbb0ee15"
   },
   "outputs": [],
   "source": []
  },
  {
   "cell_type": "markdown",
   "id": "6ad167ba",
   "metadata": {
    "id": "b065cb21"
   },
   "source": [
    "### Hay que completar los nulos de los datos de jugadores para que no contaminen luego el dataset principal"
   ]
  },
  {
   "cell_type": "markdown",
   "id": "8e1747dd",
   "metadata": {
    "id": "62a2d67b"
   },
   "source": [
    "#### En el caso de la mano hábil los nulos serían los casos que figuran como 'U'"
   ]
  },
  {
   "cell_type": "code",
   "execution_count": 79,
   "id": "aca307fe",
   "metadata": {
    "id": "c9f864b3"
   },
   "outputs": [],
   "source": [
    "# (data_player_cleaned['hand'] == 'U').sum()/data_player_cleaned.shape[0]"
   ]
  },
  {
   "cell_type": "code",
   "execution_count": 80,
   "id": "dcc9cbed",
   "metadata": {
    "id": "de5ae4a8"
   },
   "outputs": [],
   "source": [
    "# hand_null = (data_player_cleaned['hand'] == 'U')\n",
    "# data_player_cleaned.loc[hand_null,'hand'] = 'R'"
   ]
  },
  {
   "cell_type": "markdown",
   "id": "88fd8ac7",
   "metadata": {
    "id": "06febb27"
   },
   "source": [
    "#### Completamos con la mediana las fechas de nacimiento"
   ]
  },
  {
   "cell_type": "code",
   "execution_count": 81,
   "id": "5f69a63b",
   "metadata": {
    "id": "0362d523"
   },
   "outputs": [],
   "source": [
    "# (data_player_cleaned['dob'].isnull()).sum()/data_player_cleaned.shape[0]"
   ]
  },
  {
   "cell_type": "code",
   "execution_count": 82,
   "id": "9dc88dd3",
   "metadata": {
    "id": "1a3f2a93"
   },
   "outputs": [],
   "source": [
    "# data_player_cleaned['dob'].fillna(data_player_cleaned['dob'].median().astype('int'),inplace=True)"
   ]
  },
  {
   "cell_type": "markdown",
   "id": "99b6968a",
   "metadata": {
    "id": "ecdfd0c4"
   },
   "source": [
    "#### Completamos con la media la altura"
   ]
  },
  {
   "cell_type": "code",
   "execution_count": 83,
   "id": "79d7b52f",
   "metadata": {
    "id": "937fab11"
   },
   "outputs": [],
   "source": [
    "# (data_player_cleaned['height'].isnull()).sum()/data_player_cleaned.shape[0]"
   ]
  },
  {
   "cell_type": "code",
   "execution_count": 84,
   "id": "8443cac5",
   "metadata": {
    "id": "39e87b01"
   },
   "outputs": [],
   "source": [
    "# data_player_cleaned['height'].fillna(np.mean(data_player_cleaned['height']),inplace=True)"
   ]
  },
  {
   "cell_type": "code",
   "execution_count": 85,
   "id": "109bd903",
   "metadata": {},
   "outputs": [],
   "source": [
    "# data_player_cleaned.to_csv('data_player_cleaned.csv')"
   ]
  },
  {
   "cell_type": "code",
   "execution_count": 86,
   "id": "c4111955",
   "metadata": {
    "id": "c6368cf7"
   },
   "outputs": [],
   "source": [
    "data_player_cleaned = pd.read_csv('data_player_cleaned.csv')\n",
    "data_player_cleaned.drop(columns=['Unnamed: 0'],inplace=True)"
   ]
  },
  {
   "cell_type": "code",
   "execution_count": 87,
   "id": "8812d3fa",
   "metadata": {},
   "outputs": [
    {
     "data": {
      "text/html": [
       "<div>\n",
       "<style scoped>\n",
       "    .dataframe tbody tr th:only-of-type {\n",
       "        vertical-align: middle;\n",
       "    }\n",
       "\n",
       "    .dataframe tbody tr th {\n",
       "        vertical-align: top;\n",
       "    }\n",
       "\n",
       "    .dataframe thead th {\n",
       "        text-align: right;\n",
       "    }\n",
       "</style>\n",
       "<table border=\"1\" class=\"dataframe\">\n",
       "  <thead>\n",
       "    <tr style=\"text-align: right;\">\n",
       "      <th></th>\n",
       "      <th>player_name</th>\n",
       "      <th>hand</th>\n",
       "      <th>dob</th>\n",
       "      <th>ioc</th>\n",
       "      <th>height</th>\n",
       "    </tr>\n",
       "  </thead>\n",
       "  <tbody>\n",
       "    <tr>\n",
       "      <th>0</th>\n",
       "      <td>Thompson J.</td>\n",
       "      <td>R</td>\n",
       "      <td>19920927</td>\n",
       "      <td>USA</td>\n",
       "      <td>186.514815</td>\n",
       "    </tr>\n",
       "    <tr>\n",
       "      <th>1</th>\n",
       "      <td>Mayer F.</td>\n",
       "      <td>R</td>\n",
       "      <td>19831005</td>\n",
       "      <td>GER</td>\n",
       "      <td>190.000000</td>\n",
       "    </tr>\n",
       "    <tr>\n",
       "      <th>2</th>\n",
       "      <td>Djokovic N.</td>\n",
       "      <td>R</td>\n",
       "      <td>19870522</td>\n",
       "      <td>SRB</td>\n",
       "      <td>188.000000</td>\n",
       "    </tr>\n",
       "    <tr>\n",
       "      <th>3</th>\n",
       "      <td>Almagro N.</td>\n",
       "      <td>R</td>\n",
       "      <td>19850821</td>\n",
       "      <td>ESP</td>\n",
       "      <td>183.000000</td>\n",
       "    </tr>\n",
       "    <tr>\n",
       "      <th>4</th>\n",
       "      <td>Vesely J.</td>\n",
       "      <td>L</td>\n",
       "      <td>19930710</td>\n",
       "      <td>CZE</td>\n",
       "      <td>198.000000</td>\n",
       "    </tr>\n",
       "    <tr>\n",
       "      <th>...</th>\n",
       "      <td>...</td>\n",
       "      <td>...</td>\n",
       "      <td>...</td>\n",
       "      <td>...</td>\n",
       "      <td>...</td>\n",
       "    </tr>\n",
       "    <tr>\n",
       "      <th>516</th>\n",
       "      <td>Borg L.</td>\n",
       "      <td>R</td>\n",
       "      <td>20030515</td>\n",
       "      <td>SWE</td>\n",
       "      <td>183.000000</td>\n",
       "    </tr>\n",
       "    <tr>\n",
       "      <th>517</th>\n",
       "      <td>Hijikata R.</td>\n",
       "      <td>R</td>\n",
       "      <td>20010223</td>\n",
       "      <td>AUS</td>\n",
       "      <td>186.514815</td>\n",
       "    </tr>\n",
       "    <tr>\n",
       "      <th>518</th>\n",
       "      <td>Moroni G.M.</td>\n",
       "      <td>R</td>\n",
       "      <td>19980213</td>\n",
       "      <td>ITA</td>\n",
       "      <td>186.514815</td>\n",
       "    </tr>\n",
       "    <tr>\n",
       "      <th>519</th>\n",
       "      <td>Chakravarthi C.</td>\n",
       "      <td>R</td>\n",
       "      <td>19990102</td>\n",
       "      <td>USA</td>\n",
       "      <td>186.514815</td>\n",
       "    </tr>\n",
       "    <tr>\n",
       "      <th>520</th>\n",
       "      <td>Shang J.</td>\n",
       "      <td>R</td>\n",
       "      <td>20050202</td>\n",
       "      <td>CHN</td>\n",
       "      <td>186.514815</td>\n",
       "    </tr>\n",
       "  </tbody>\n",
       "</table>\n",
       "<p>521 rows × 5 columns</p>\n",
       "</div>"
      ],
      "text/plain": [
       "         player_name hand       dob  ioc      height\n",
       "0        Thompson J.    R  19920927  USA  186.514815\n",
       "1           Mayer F.    R  19831005  GER  190.000000\n",
       "2        Djokovic N.    R  19870522  SRB  188.000000\n",
       "3         Almagro N.    R  19850821  ESP  183.000000\n",
       "4          Vesely J.    L  19930710  CZE  198.000000\n",
       "..               ...  ...       ...  ...         ...\n",
       "516          Borg L.    R  20030515  SWE  183.000000\n",
       "517      Hijikata R.    R  20010223  AUS  186.514815\n",
       "518      Moroni G.M.    R  19980213  ITA  186.514815\n",
       "519  Chakravarthi C.    R  19990102  USA  186.514815\n",
       "520         Shang J.    R  20050202  CHN  186.514815\n",
       "\n",
       "[521 rows x 5 columns]"
      ]
     },
     "execution_count": 87,
     "metadata": {},
     "output_type": "execute_result"
    }
   ],
   "source": [
    "data_player_cleaned"
   ]
  },
  {
   "cell_type": "code",
   "execution_count": 88,
   "id": "802fd3b6",
   "metadata": {
    "id": "8d296a2e"
   },
   "outputs": [],
   "source": [
    "data_2 = data_2.merge(data_player_cleaned,left_on='player_a',right_on='player_name',how='left')\n",
    "data_2 = data_2.rename(columns={'hand':'A_hand','dob':'A_dob','ioc':'A_Nationality','height':'A_height'})"
   ]
  },
  {
   "cell_type": "code",
   "execution_count": 89,
   "id": "99145bf6",
   "metadata": {
    "id": "3f32293d"
   },
   "outputs": [],
   "source": [
    "data_2 = data_2.merge(data_player_cleaned,left_on='player_b',right_on='player_name',how='left')\n",
    "data_2 = data_2.rename(columns={'hand':'B_hand','dob':'B_dob','ioc':'B_Nationality','height':'B_height'})"
   ]
  },
  {
   "cell_type": "code",
   "execution_count": 90,
   "id": "392e8e9a",
   "metadata": {},
   "outputs": [],
   "source": [
    "data_2['A_dob'] = pd.to_datetime(data_2['A_dob'],format='%Y%m%d')\n",
    "data_2['B_dob'] = pd.to_datetime(data_2['B_dob'],format='%Y%m%d')\n",
    "data_2['Date'] =  pd.to_datetime(data_2['Date'],format='%Y%m%d')"
   ]
  },
  {
   "cell_type": "markdown",
   "id": "6bd95d80",
   "metadata": {},
   "source": [
    "#### Calculamos la edad de los jugadores"
   ]
  },
  {
   "cell_type": "code",
   "execution_count": 91,
   "id": "61a467a4",
   "metadata": {},
   "outputs": [],
   "source": [
    "from datetime import datetime\n",
    "import math\n",
    "data_2['age_A'] = ((data_2['Date'])-(data_2['A_dob'])).dt.days/365\n",
    "data_2['age_A'] = data_2['age_A'].apply(lambda x: math.floor(x))\n",
    "\n",
    "data_2['age_B'] = ((data_2['Date'])-(data_2['B_dob'])).dt.days/365\n",
    "data_2['age_B'] = data_2['age_B'].apply(lambda x: math.floor(x))"
   ]
  },
  {
   "cell_type": "code",
   "execution_count": 92,
   "id": "fed90bc3",
   "metadata": {},
   "outputs": [],
   "source": [
    "data_2['dif_age_AB']=data_2['age_A']-data_2['age_B']\n",
    "data_2['dif_height_AB']=data_2['A_height']-data_2['B_height']\n",
    "data_2.drop(columns=[\"age_A\",\"A_height\",\"age_B\",\"B_height\"],inplace=True)"
   ]
  },
  {
   "cell_type": "markdown",
   "id": "cd1d3671",
   "metadata": {},
   "source": [
    "#### Calculamos si los jugadores son locales"
   ]
  },
  {
   "cell_type": "code",
   "execution_count": 93,
   "id": "7941d4be",
   "metadata": {},
   "outputs": [
    {
     "data": {
      "text/html": [
       "<div>\n",
       "<style scoped>\n",
       "    .dataframe tbody tr th:only-of-type {\n",
       "        vertical-align: middle;\n",
       "    }\n",
       "\n",
       "    .dataframe tbody tr th {\n",
       "        vertical-align: top;\n",
       "    }\n",
       "\n",
       "    .dataframe thead th {\n",
       "        text-align: right;\n",
       "    }\n",
       "</style>\n",
       "<table border=\"1\" class=\"dataframe\">\n",
       "  <thead>\n",
       "    <tr style=\"text-align: right;\">\n",
       "      <th></th>\n",
       "      <th>Location</th>\n",
       "      <th>Country</th>\n",
       "    </tr>\n",
       "  </thead>\n",
       "  <tbody>\n",
       "    <tr>\n",
       "      <th>0</th>\n",
       "      <td>Brisbane</td>\n",
       "      <td>AUS</td>\n",
       "    </tr>\n",
       "    <tr>\n",
       "      <th>1</th>\n",
       "      <td>Chennai</td>\n",
       "      <td>IND</td>\n",
       "    </tr>\n",
       "    <tr>\n",
       "      <th>2</th>\n",
       "      <td>Doha</td>\n",
       "      <td>QAT</td>\n",
       "    </tr>\n",
       "    <tr>\n",
       "      <th>3</th>\n",
       "      <td>Auckland</td>\n",
       "      <td>NZL</td>\n",
       "    </tr>\n",
       "    <tr>\n",
       "      <th>4</th>\n",
       "      <td>Sydney</td>\n",
       "      <td>AUS</td>\n",
       "    </tr>\n",
       "    <tr>\n",
       "      <th>...</th>\n",
       "      <td>...</td>\n",
       "      <td>...</td>\n",
       "    </tr>\n",
       "    <tr>\n",
       "      <th>78</th>\n",
       "      <td>Parma</td>\n",
       "      <td>ITA</td>\n",
       "    </tr>\n",
       "    <tr>\n",
       "      <th>79</th>\n",
       "      <td>Mallorca</td>\n",
       "      <td>ESP</td>\n",
       "    </tr>\n",
       "    <tr>\n",
       "      <th>80</th>\n",
       "      <td>San Diego</td>\n",
       "      <td>USA</td>\n",
       "    </tr>\n",
       "    <tr>\n",
       "      <th>81</th>\n",
       "      <td>Turin</td>\n",
       "      <td>ITA</td>\n",
       "    </tr>\n",
       "    <tr>\n",
       "      <th>82</th>\n",
       "      <td>Dallas</td>\n",
       "      <td>USA</td>\n",
       "    </tr>\n",
       "  </tbody>\n",
       "</table>\n",
       "<p>83 rows × 2 columns</p>\n",
       "</div>"
      ],
      "text/plain": [
       "     Location Country\n",
       "0    Brisbane     AUS\n",
       "1     Chennai     IND\n",
       "2        Doha     QAT\n",
       "3    Auckland     NZL\n",
       "4      Sydney     AUS\n",
       "..        ...     ...\n",
       "78      Parma     ITA\n",
       "79   Mallorca     ESP\n",
       "80  San Diego     USA\n",
       "81      Turin     ITA\n",
       "82     Dallas     USA\n",
       "\n",
       "[83 rows x 2 columns]"
      ]
     },
     "execution_count": 93,
     "metadata": {},
     "output_type": "execute_result"
    }
   ],
   "source": [
    "locations = pd.read_csv('Locations.csv',sep=';')\n",
    "locations"
   ]
  },
  {
   "cell_type": "code",
   "execution_count": 94,
   "id": "a40841ed",
   "metadata": {},
   "outputs": [],
   "source": [
    "data_2 = data_2.merge(locations,left_on='Location',right_on='Location',how='left')\n"
   ]
  },
  {
   "cell_type": "code",
   "execution_count": 95,
   "id": "cbfc2048",
   "metadata": {},
   "outputs": [],
   "source": [
    "data_2['A_local'] = 0\n",
    "data_2['B_local'] = 0"
   ]
  },
  {
   "cell_type": "code",
   "execution_count": 96,
   "id": "97f4f38e",
   "metadata": {},
   "outputs": [],
   "source": [
    "mask_a_local = data_2['A_Nationality']==data_2['Country']\n",
    "mask_b_local = data_2['B_Nationality']==data_2['Country']"
   ]
  },
  {
   "cell_type": "code",
   "execution_count": 97,
   "id": "0da44cbf",
   "metadata": {},
   "outputs": [],
   "source": [
    "data_2.loc[mask_a_local,'A_local'] = 1\n",
    "data_2.loc[mask_b_local,'B_local'] = 1"
   ]
  },
  {
   "cell_type": "code",
   "execution_count": null,
   "id": "52d1adb0",
   "metadata": {},
   "outputs": [],
   "source": []
  },
  {
   "cell_type": "code",
   "execution_count": 98,
   "id": "be84111d",
   "metadata": {},
   "outputs": [
    {
     "data": {
      "text/plain": [
       "Index(['Location', 'Tournament', 'Date', 'Court', 'Surface', 'Round', 'Winner',\n",
       "       'Comment', 'player_a', 'player_b', 'A_Set_1', 'A_Set_2', 'A_Set_3',\n",
       "       'A_Set_4', 'A_Set_5', 'A_Sets_won', 'B_Set_1', 'B_Set_2', 'B_Set_3',\n",
       "       'B_Set_4', 'B_Set_5', 'B_Sets_won', 'Rank_dif_AB', 'Pts_dif_AB',\n",
       "       'Winner_a', 'Target', 'A_sets_played', 'B_sets_played', 'player_tuple',\n",
       "       'last_game_won_player_a', 'games_won_last_3_player_a',\n",
       "       'games_won_last_5_player_a', 'last_game_won_player_b',\n",
       "       'games_won_last_3_player_b', 'games_won_last_5_player_b',\n",
       "       'streak_player_a', 'streak_player_b', 'A_win_rate_vs_B',\n",
       "       'B_win_rate_vs_A', 'A_won_last', 'B_won_last', 'player_name_x',\n",
       "       'A_hand', 'A_dob', 'A_Nationality', 'player_name_y', 'B_hand', 'B_dob',\n",
       "       'B_Nationality', 'dif_age_AB', 'dif_height_AB', 'Country', 'A_local',\n",
       "       'B_local'],\n",
       "      dtype='object')"
      ]
     },
     "execution_count": 98,
     "metadata": {},
     "output_type": "execute_result"
    }
   ],
   "source": [
    "data_2.columns"
   ]
  },
  {
   "cell_type": "code",
   "execution_count": 99,
   "id": "315d45b1",
   "metadata": {
    "id": "6f44732e"
   },
   "outputs": [],
   "source": [
    "data_2.drop(columns=['Date','Tournament','A_Set_1',\n",
    "       'A_Set_2', 'A_Set_3', 'A_Set_4', 'A_Set_5', 'A_Sets_won',\n",
    "#         'A_games_won', 'B_games_won',\n",
    "        'B_Set_1', 'B_Set_2', 'B_Set_3', 'B_Set_4', 'B_Set_5',\n",
    "       'B_Sets_won', 'Winner_a', 'Court','Surface', \n",
    "        'Location','Round','A_Nationality','B_Nationality',\n",
    "       'A_sets_played', 'B_sets_played', 'player_tuple','Winner','Comment','Winner_a','player_name_x','player_name_y','player_tuple','player_a','player_b','A_dob','B_dob','Country'],inplace=True)"
   ]
  },
  {
   "cell_type": "code",
   "execution_count": 100,
   "id": "34eb82cf",
   "metadata": {},
   "outputs": [
    {
     "data": {
      "text/plain": [
       "Index(['Rank_dif_AB', 'Pts_dif_AB', 'Target', 'last_game_won_player_a',\n",
       "       'games_won_last_3_player_a', 'games_won_last_5_player_a',\n",
       "       'last_game_won_player_b', 'games_won_last_3_player_b',\n",
       "       'games_won_last_5_player_b', 'streak_player_a', 'streak_player_b',\n",
       "       'A_win_rate_vs_B', 'B_win_rate_vs_A', 'A_won_last', 'B_won_last',\n",
       "       'A_hand', 'B_hand', 'dif_age_AB', 'dif_height_AB', 'A_local',\n",
       "       'B_local'],\n",
       "      dtype='object')"
      ]
     },
     "execution_count": 100,
     "metadata": {},
     "output_type": "execute_result"
    }
   ],
   "source": [
    "data_2.columns"
   ]
  },
  {
   "cell_type": "code",
   "execution_count": 101,
   "id": "a2270463",
   "metadata": {},
   "outputs": [
    {
     "data": {
      "text/html": [
       "<div>\n",
       "<style scoped>\n",
       "    .dataframe tbody tr th:only-of-type {\n",
       "        vertical-align: middle;\n",
       "    }\n",
       "\n",
       "    .dataframe tbody tr th {\n",
       "        vertical-align: top;\n",
       "    }\n",
       "\n",
       "    .dataframe thead th {\n",
       "        text-align: right;\n",
       "    }\n",
       "</style>\n",
       "<table border=\"1\" class=\"dataframe\">\n",
       "  <thead>\n",
       "    <tr style=\"text-align: right;\">\n",
       "      <th></th>\n",
       "      <th>Rank_dif_AB</th>\n",
       "      <th>Pts_dif_AB</th>\n",
       "      <th>Target</th>\n",
       "      <th>last_game_won_player_a</th>\n",
       "      <th>games_won_last_3_player_a</th>\n",
       "      <th>games_won_last_5_player_a</th>\n",
       "      <th>last_game_won_player_b</th>\n",
       "      <th>games_won_last_3_player_b</th>\n",
       "      <th>games_won_last_5_player_b</th>\n",
       "      <th>streak_player_a</th>\n",
       "      <th>...</th>\n",
       "      <th>A_win_rate_vs_B</th>\n",
       "      <th>B_win_rate_vs_A</th>\n",
       "      <th>A_won_last</th>\n",
       "      <th>B_won_last</th>\n",
       "      <th>A_hand</th>\n",
       "      <th>B_hand</th>\n",
       "      <th>dif_age_AB</th>\n",
       "      <th>dif_height_AB</th>\n",
       "      <th>A_local</th>\n",
       "      <th>B_local</th>\n",
       "    </tr>\n",
       "  </thead>\n",
       "  <tbody>\n",
       "    <tr>\n",
       "      <th>0</th>\n",
       "      <td>81.0</td>\n",
       "      <td>-317.0</td>\n",
       "      <td>B</td>\n",
       "      <td>0.0</td>\n",
       "      <td>0.0</td>\n",
       "      <td>0.0</td>\n",
       "      <td>0.0</td>\n",
       "      <td>0.0</td>\n",
       "      <td>0.0</td>\n",
       "      <td>0.0</td>\n",
       "      <td>...</td>\n",
       "      <td>0.0</td>\n",
       "      <td>0.0</td>\n",
       "      <td>0</td>\n",
       "      <td>0</td>\n",
       "      <td>R</td>\n",
       "      <td>R</td>\n",
       "      <td>-4</td>\n",
       "      <td>-3.514815</td>\n",
       "      <td>0</td>\n",
       "      <td>0</td>\n",
       "    </tr>\n",
       "    <tr>\n",
       "      <th>1</th>\n",
       "      <td>-61.0</td>\n",
       "      <td>11022.0</td>\n",
       "      <td>A</td>\n",
       "      <td>0.0</td>\n",
       "      <td>0.0</td>\n",
       "      <td>0.0</td>\n",
       "      <td>0.0</td>\n",
       "      <td>0.0</td>\n",
       "      <td>0.0</td>\n",
       "      <td>0.0</td>\n",
       "      <td>...</td>\n",
       "      <td>0.0</td>\n",
       "      <td>0.0</td>\n",
       "      <td>0</td>\n",
       "      <td>0</td>\n",
       "      <td>R</td>\n",
       "      <td>R</td>\n",
       "      <td>3</td>\n",
       "      <td>-5.000000</td>\n",
       "      <td>0</td>\n",
       "      <td>0</td>\n",
       "    </tr>\n",
       "    <tr>\n",
       "      <th>2</th>\n",
       "      <td>4.0</td>\n",
       "      <td>-77.0</td>\n",
       "      <td>A</td>\n",
       "      <td>0.0</td>\n",
       "      <td>0.0</td>\n",
       "      <td>0.0</td>\n",
       "      <td>0.0</td>\n",
       "      <td>0.0</td>\n",
       "      <td>0.0</td>\n",
       "      <td>0.0</td>\n",
       "      <td>...</td>\n",
       "      <td>0.0</td>\n",
       "      <td>0.0</td>\n",
       "      <td>0</td>\n",
       "      <td>0</td>\n",
       "      <td>R</td>\n",
       "      <td>R</td>\n",
       "      <td>-4</td>\n",
       "      <td>0.000000</td>\n",
       "      <td>0</td>\n",
       "      <td>0</td>\n",
       "    </tr>\n",
       "    <tr>\n",
       "      <th>3</th>\n",
       "      <td>-452.0</td>\n",
       "      <td>775.0</td>\n",
       "      <td>A</td>\n",
       "      <td>0.0</td>\n",
       "      <td>0.0</td>\n",
       "      <td>0.0</td>\n",
       "      <td>0.0</td>\n",
       "      <td>0.0</td>\n",
       "      <td>0.0</td>\n",
       "      <td>0.0</td>\n",
       "      <td>...</td>\n",
       "      <td>0.0</td>\n",
       "      <td>0.0</td>\n",
       "      <td>0</td>\n",
       "      <td>0</td>\n",
       "      <td>L</td>\n",
       "      <td>L</td>\n",
       "      <td>-3</td>\n",
       "      <td>11.485185</td>\n",
       "      <td>0</td>\n",
       "      <td>0</td>\n",
       "    </tr>\n",
       "    <tr>\n",
       "      <th>4</th>\n",
       "      <td>-16.0</td>\n",
       "      <td>125.0</td>\n",
       "      <td>B</td>\n",
       "      <td>0.0</td>\n",
       "      <td>0.0</td>\n",
       "      <td>0.0</td>\n",
       "      <td>0.0</td>\n",
       "      <td>0.0</td>\n",
       "      <td>0.0</td>\n",
       "      <td>0.0</td>\n",
       "      <td>...</td>\n",
       "      <td>0.0</td>\n",
       "      <td>0.0</td>\n",
       "      <td>0</td>\n",
       "      <td>0</td>\n",
       "      <td>L</td>\n",
       "      <td>R</td>\n",
       "      <td>-20</td>\n",
       "      <td>-3.514815</td>\n",
       "      <td>0</td>\n",
       "      <td>0</td>\n",
       "    </tr>\n",
       "  </tbody>\n",
       "</table>\n",
       "<p>5 rows × 21 columns</p>\n",
       "</div>"
      ],
      "text/plain": [
       "   Rank_dif_AB  Pts_dif_AB Target  last_game_won_player_a  \\\n",
       "0         81.0      -317.0      B                     0.0   \n",
       "1        -61.0     11022.0      A                     0.0   \n",
       "2          4.0       -77.0      A                     0.0   \n",
       "3       -452.0       775.0      A                     0.0   \n",
       "4        -16.0       125.0      B                     0.0   \n",
       "\n",
       "   games_won_last_3_player_a  games_won_last_5_player_a  \\\n",
       "0                        0.0                        0.0   \n",
       "1                        0.0                        0.0   \n",
       "2                        0.0                        0.0   \n",
       "3                        0.0                        0.0   \n",
       "4                        0.0                        0.0   \n",
       "\n",
       "   last_game_won_player_b  games_won_last_3_player_b  \\\n",
       "0                     0.0                        0.0   \n",
       "1                     0.0                        0.0   \n",
       "2                     0.0                        0.0   \n",
       "3                     0.0                        0.0   \n",
       "4                     0.0                        0.0   \n",
       "\n",
       "   games_won_last_5_player_b  streak_player_a  ...  A_win_rate_vs_B  \\\n",
       "0                        0.0              0.0  ...              0.0   \n",
       "1                        0.0              0.0  ...              0.0   \n",
       "2                        0.0              0.0  ...              0.0   \n",
       "3                        0.0              0.0  ...              0.0   \n",
       "4                        0.0              0.0  ...              0.0   \n",
       "\n",
       "   B_win_rate_vs_A  A_won_last  B_won_last  A_hand B_hand dif_age_AB  \\\n",
       "0              0.0           0           0       R      R         -4   \n",
       "1              0.0           0           0       R      R          3   \n",
       "2              0.0           0           0       R      R         -4   \n",
       "3              0.0           0           0       L      L         -3   \n",
       "4              0.0           0           0       L      R        -20   \n",
       "\n",
       "   dif_height_AB  A_local  B_local  \n",
       "0      -3.514815        0        0  \n",
       "1      -5.000000        0        0  \n",
       "2       0.000000        0        0  \n",
       "3      11.485185        0        0  \n",
       "4      -3.514815        0        0  \n",
       "\n",
       "[5 rows x 21 columns]"
      ]
     },
     "execution_count": 101,
     "metadata": {},
     "output_type": "execute_result"
    }
   ],
   "source": [
    "data_2.head(5)"
   ]
  },
  {
   "cell_type": "code",
   "execution_count": 102,
   "id": "ce89640d",
   "metadata": {},
   "outputs": [
    {
     "data": {
      "text/plain": [
       "['Rank_dif_AB',\n",
       " 'Pts_dif_AB',\n",
       " 'Target',\n",
       " 'last_game_won_player_a',\n",
       " 'games_won_last_3_player_a',\n",
       " 'games_won_last_5_player_a',\n",
       " 'last_game_won_player_b',\n",
       " 'games_won_last_3_player_b',\n",
       " 'games_won_last_5_player_b',\n",
       " 'streak_player_a',\n",
       " 'streak_player_b',\n",
       " 'A_win_rate_vs_B',\n",
       " 'B_win_rate_vs_A',\n",
       " 'A_won_last',\n",
       " 'B_won_last',\n",
       " 'A_hand',\n",
       " 'B_hand',\n",
       " 'dif_age_AB',\n",
       " 'dif_height_AB',\n",
       " 'A_local',\n",
       " 'B_local']"
      ]
     },
     "execution_count": 102,
     "metadata": {},
     "output_type": "execute_result"
    }
   ],
   "source": [
    "list(data_2.columns)"
   ]
  },
  {
   "cell_type": "code",
   "execution_count": 103,
   "id": "f7b3dc23",
   "metadata": {},
   "outputs": [
    {
     "name": "stdout",
     "output_type": "stream",
     "text": [
      "<class 'pandas.core.frame.DataFrame'>\n",
      "Int64Index: 11846 entries, 0 to 11845\n",
      "Data columns (total 21 columns):\n",
      " #   Column                     Non-Null Count  Dtype  \n",
      "---  ------                     --------------  -----  \n",
      " 0   Rank_dif_AB                11811 non-null  float64\n",
      " 1   Pts_dif_AB                 11812 non-null  float64\n",
      " 2   Target                     11846 non-null  object \n",
      " 3   last_game_won_player_a     11846 non-null  float64\n",
      " 4   games_won_last_3_player_a  11846 non-null  float64\n",
      " 5   games_won_last_5_player_a  11846 non-null  float64\n",
      " 6   last_game_won_player_b     11846 non-null  float64\n",
      " 7   games_won_last_3_player_b  11846 non-null  float64\n",
      " 8   games_won_last_5_player_b  11846 non-null  float64\n",
      " 9   streak_player_a            11846 non-null  float64\n",
      " 10  streak_player_b            11846 non-null  float64\n",
      " 11  A_win_rate_vs_B            11846 non-null  float64\n",
      " 12  B_win_rate_vs_A            11846 non-null  float64\n",
      " 13  A_won_last                 11846 non-null  uint8  \n",
      " 14  B_won_last                 11846 non-null  uint8  \n",
      " 15  A_hand                     11846 non-null  object \n",
      " 16  B_hand                     11846 non-null  object \n",
      " 17  dif_age_AB                 11846 non-null  int64  \n",
      " 18  dif_height_AB              11846 non-null  float64\n",
      " 19  A_local                    11846 non-null  int64  \n",
      " 20  B_local                    11846 non-null  int64  \n",
      "dtypes: float64(13), int64(3), object(3), uint8(2)\n",
      "memory usage: 1.8+ MB\n"
     ]
    }
   ],
   "source": [
    "data_2.info()"
   ]
  },
  {
   "cell_type": "code",
   "execution_count": 104,
   "id": "8fd3e434",
   "metadata": {},
   "outputs": [],
   "source": [
    "data_2 = data_2.dropna()"
   ]
  },
  {
   "cell_type": "markdown",
   "id": "f125769c",
   "metadata": {},
   "source": [
    "## Armado del modelo de Clasificación"
   ]
  },
  {
   "cell_type": "markdown",
   "id": "9e16c0cb",
   "metadata": {},
   "source": [
    "#### Preprocesamiento"
   ]
  },
  {
   "cell_type": "code",
   "execution_count": 105,
   "id": "48a13774",
   "metadata": {},
   "outputs": [
    {
     "data": {
      "text/html": [
       "<div>\n",
       "<style scoped>\n",
       "    .dataframe tbody tr th:only-of-type {\n",
       "        vertical-align: middle;\n",
       "    }\n",
       "\n",
       "    .dataframe tbody tr th {\n",
       "        vertical-align: top;\n",
       "    }\n",
       "\n",
       "    .dataframe thead th {\n",
       "        text-align: right;\n",
       "    }\n",
       "</style>\n",
       "<table border=\"1\" class=\"dataframe\">\n",
       "  <thead>\n",
       "    <tr style=\"text-align: right;\">\n",
       "      <th></th>\n",
       "      <th>A_hand_R</th>\n",
       "      <th>B_hand_R</th>\n",
       "    </tr>\n",
       "  </thead>\n",
       "  <tbody>\n",
       "    <tr>\n",
       "      <th>0</th>\n",
       "      <td>1</td>\n",
       "      <td>1</td>\n",
       "    </tr>\n",
       "    <tr>\n",
       "      <th>1</th>\n",
       "      <td>1</td>\n",
       "      <td>1</td>\n",
       "    </tr>\n",
       "    <tr>\n",
       "      <th>2</th>\n",
       "      <td>1</td>\n",
       "      <td>1</td>\n",
       "    </tr>\n",
       "    <tr>\n",
       "      <th>3</th>\n",
       "      <td>0</td>\n",
       "      <td>0</td>\n",
       "    </tr>\n",
       "    <tr>\n",
       "      <th>4</th>\n",
       "      <td>0</td>\n",
       "      <td>1</td>\n",
       "    </tr>\n",
       "    <tr>\n",
       "      <th>...</th>\n",
       "      <td>...</td>\n",
       "      <td>...</td>\n",
       "    </tr>\n",
       "    <tr>\n",
       "      <th>11841</th>\n",
       "      <td>1</td>\n",
       "      <td>0</td>\n",
       "    </tr>\n",
       "    <tr>\n",
       "      <th>11842</th>\n",
       "      <td>0</td>\n",
       "      <td>1</td>\n",
       "    </tr>\n",
       "    <tr>\n",
       "      <th>11843</th>\n",
       "      <td>0</td>\n",
       "      <td>1</td>\n",
       "    </tr>\n",
       "    <tr>\n",
       "      <th>11844</th>\n",
       "      <td>0</td>\n",
       "      <td>0</td>\n",
       "    </tr>\n",
       "    <tr>\n",
       "      <th>11845</th>\n",
       "      <td>1</td>\n",
       "      <td>1</td>\n",
       "    </tr>\n",
       "  </tbody>\n",
       "</table>\n",
       "<p>11811 rows × 2 columns</p>\n",
       "</div>"
      ],
      "text/plain": [
       "       A_hand_R  B_hand_R\n",
       "0             1         1\n",
       "1             1         1\n",
       "2             1         1\n",
       "3             0         0\n",
       "4             0         1\n",
       "...         ...       ...\n",
       "11841         1         0\n",
       "11842         0         1\n",
       "11843         0         1\n",
       "11844         0         0\n",
       "11845         1         1\n",
       "\n",
       "[11811 rows x 2 columns]"
      ]
     },
     "execution_count": 105,
     "metadata": {},
     "output_type": "execute_result"
    }
   ],
   "source": [
    "dummies = ['A_hand','B_hand']\n",
    "dummies_data = pd.get_dummies(data_2[dummies],drop_first=True)\n",
    "dummies_data"
   ]
  },
  {
   "cell_type": "code",
   "execution_count": 106,
   "id": "2814efb0",
   "metadata": {},
   "outputs": [
    {
     "data": {
      "text/html": [
       "<div>\n",
       "<style scoped>\n",
       "    .dataframe tbody tr th:only-of-type {\n",
       "        vertical-align: middle;\n",
       "    }\n",
       "\n",
       "    .dataframe tbody tr th {\n",
       "        vertical-align: top;\n",
       "    }\n",
       "\n",
       "    .dataframe thead th {\n",
       "        text-align: right;\n",
       "    }\n",
       "</style>\n",
       "<table border=\"1\" class=\"dataframe\">\n",
       "  <thead>\n",
       "    <tr style=\"text-align: right;\">\n",
       "      <th></th>\n",
       "      <th>Rank_dif_AB</th>\n",
       "      <th>Pts_dif_AB</th>\n",
       "      <th>Target</th>\n",
       "      <th>last_game_won_player_a</th>\n",
       "      <th>games_won_last_3_player_a</th>\n",
       "      <th>games_won_last_5_player_a</th>\n",
       "      <th>last_game_won_player_b</th>\n",
       "      <th>games_won_last_3_player_b</th>\n",
       "      <th>games_won_last_5_player_b</th>\n",
       "      <th>streak_player_a</th>\n",
       "      <th>...</th>\n",
       "      <th>A_win_rate_vs_B</th>\n",
       "      <th>B_win_rate_vs_A</th>\n",
       "      <th>A_won_last</th>\n",
       "      <th>B_won_last</th>\n",
       "      <th>dif_age_AB</th>\n",
       "      <th>dif_height_AB</th>\n",
       "      <th>A_local</th>\n",
       "      <th>B_local</th>\n",
       "      <th>A_hand_R</th>\n",
       "      <th>B_hand_R</th>\n",
       "    </tr>\n",
       "  </thead>\n",
       "  <tbody>\n",
       "    <tr>\n",
       "      <th>0</th>\n",
       "      <td>81.0</td>\n",
       "      <td>-317.0</td>\n",
       "      <td>B</td>\n",
       "      <td>0.0</td>\n",
       "      <td>0.0</td>\n",
       "      <td>0.0</td>\n",
       "      <td>0.0</td>\n",
       "      <td>0.0</td>\n",
       "      <td>0.0</td>\n",
       "      <td>0.0</td>\n",
       "      <td>...</td>\n",
       "      <td>0.0</td>\n",
       "      <td>0.0</td>\n",
       "      <td>0</td>\n",
       "      <td>0</td>\n",
       "      <td>-4</td>\n",
       "      <td>-3.514815</td>\n",
       "      <td>0</td>\n",
       "      <td>0</td>\n",
       "      <td>1</td>\n",
       "      <td>1</td>\n",
       "    </tr>\n",
       "    <tr>\n",
       "      <th>1</th>\n",
       "      <td>-61.0</td>\n",
       "      <td>11022.0</td>\n",
       "      <td>A</td>\n",
       "      <td>0.0</td>\n",
       "      <td>0.0</td>\n",
       "      <td>0.0</td>\n",
       "      <td>0.0</td>\n",
       "      <td>0.0</td>\n",
       "      <td>0.0</td>\n",
       "      <td>0.0</td>\n",
       "      <td>...</td>\n",
       "      <td>0.0</td>\n",
       "      <td>0.0</td>\n",
       "      <td>0</td>\n",
       "      <td>0</td>\n",
       "      <td>3</td>\n",
       "      <td>-5.000000</td>\n",
       "      <td>0</td>\n",
       "      <td>0</td>\n",
       "      <td>1</td>\n",
       "      <td>1</td>\n",
       "    </tr>\n",
       "    <tr>\n",
       "      <th>2</th>\n",
       "      <td>4.0</td>\n",
       "      <td>-77.0</td>\n",
       "      <td>A</td>\n",
       "      <td>0.0</td>\n",
       "      <td>0.0</td>\n",
       "      <td>0.0</td>\n",
       "      <td>0.0</td>\n",
       "      <td>0.0</td>\n",
       "      <td>0.0</td>\n",
       "      <td>0.0</td>\n",
       "      <td>...</td>\n",
       "      <td>0.0</td>\n",
       "      <td>0.0</td>\n",
       "      <td>0</td>\n",
       "      <td>0</td>\n",
       "      <td>-4</td>\n",
       "      <td>0.000000</td>\n",
       "      <td>0</td>\n",
       "      <td>0</td>\n",
       "      <td>1</td>\n",
       "      <td>1</td>\n",
       "    </tr>\n",
       "    <tr>\n",
       "      <th>3</th>\n",
       "      <td>-452.0</td>\n",
       "      <td>775.0</td>\n",
       "      <td>A</td>\n",
       "      <td>0.0</td>\n",
       "      <td>0.0</td>\n",
       "      <td>0.0</td>\n",
       "      <td>0.0</td>\n",
       "      <td>0.0</td>\n",
       "      <td>0.0</td>\n",
       "      <td>0.0</td>\n",
       "      <td>...</td>\n",
       "      <td>0.0</td>\n",
       "      <td>0.0</td>\n",
       "      <td>0</td>\n",
       "      <td>0</td>\n",
       "      <td>-3</td>\n",
       "      <td>11.485185</td>\n",
       "      <td>0</td>\n",
       "      <td>0</td>\n",
       "      <td>0</td>\n",
       "      <td>0</td>\n",
       "    </tr>\n",
       "    <tr>\n",
       "      <th>4</th>\n",
       "      <td>-16.0</td>\n",
       "      <td>125.0</td>\n",
       "      <td>B</td>\n",
       "      <td>0.0</td>\n",
       "      <td>0.0</td>\n",
       "      <td>0.0</td>\n",
       "      <td>0.0</td>\n",
       "      <td>0.0</td>\n",
       "      <td>0.0</td>\n",
       "      <td>0.0</td>\n",
       "      <td>...</td>\n",
       "      <td>0.0</td>\n",
       "      <td>0.0</td>\n",
       "      <td>0</td>\n",
       "      <td>0</td>\n",
       "      <td>-20</td>\n",
       "      <td>-3.514815</td>\n",
       "      <td>0</td>\n",
       "      <td>0</td>\n",
       "      <td>0</td>\n",
       "      <td>1</td>\n",
       "    </tr>\n",
       "  </tbody>\n",
       "</table>\n",
       "<p>5 rows × 21 columns</p>\n",
       "</div>"
      ],
      "text/plain": [
       "   Rank_dif_AB  Pts_dif_AB Target  last_game_won_player_a  \\\n",
       "0         81.0      -317.0      B                     0.0   \n",
       "1        -61.0     11022.0      A                     0.0   \n",
       "2          4.0       -77.0      A                     0.0   \n",
       "3       -452.0       775.0      A                     0.0   \n",
       "4        -16.0       125.0      B                     0.0   \n",
       "\n",
       "   games_won_last_3_player_a  games_won_last_5_player_a  \\\n",
       "0                        0.0                        0.0   \n",
       "1                        0.0                        0.0   \n",
       "2                        0.0                        0.0   \n",
       "3                        0.0                        0.0   \n",
       "4                        0.0                        0.0   \n",
       "\n",
       "   last_game_won_player_b  games_won_last_3_player_b  \\\n",
       "0                     0.0                        0.0   \n",
       "1                     0.0                        0.0   \n",
       "2                     0.0                        0.0   \n",
       "3                     0.0                        0.0   \n",
       "4                     0.0                        0.0   \n",
       "\n",
       "   games_won_last_5_player_b  streak_player_a  ...  A_win_rate_vs_B  \\\n",
       "0                        0.0              0.0  ...              0.0   \n",
       "1                        0.0              0.0  ...              0.0   \n",
       "2                        0.0              0.0  ...              0.0   \n",
       "3                        0.0              0.0  ...              0.0   \n",
       "4                        0.0              0.0  ...              0.0   \n",
       "\n",
       "   B_win_rate_vs_A  A_won_last  B_won_last  dif_age_AB  dif_height_AB  \\\n",
       "0              0.0           0           0          -4      -3.514815   \n",
       "1              0.0           0           0           3      -5.000000   \n",
       "2              0.0           0           0          -4       0.000000   \n",
       "3              0.0           0           0          -3      11.485185   \n",
       "4              0.0           0           0         -20      -3.514815   \n",
       "\n",
       "   A_local  B_local  A_hand_R  B_hand_R  \n",
       "0        0        0         1         1  \n",
       "1        0        0         1         1  \n",
       "2        0        0         1         1  \n",
       "3        0        0         0         0  \n",
       "4        0        0         0         1  \n",
       "\n",
       "[5 rows x 21 columns]"
      ]
     },
     "execution_count": 106,
     "metadata": {},
     "output_type": "execute_result"
    }
   ],
   "source": [
    "data_2 = pd.concat([data_2,dummies_data],axis=1).drop(dummies,axis=1)\n",
    "data_2.head(5)\n",
    "# data_2 = data_2.drop(columns=dummies)"
   ]
  },
  {
   "cell_type": "code",
   "execution_count": 107,
   "id": "4e94f8a9",
   "metadata": {},
   "outputs": [],
   "source": [
    "# print('#columnas:',data_2.shape[1])\n",
    "# print(data_2.columns)"
   ]
  },
  {
   "cell_type": "code",
   "execution_count": 108,
   "id": "0eb22abd",
   "metadata": {},
   "outputs": [],
   "source": [
    "from sklearn.preprocessing import StandardScaler\n",
    "from sklearn.model_selection import train_test_split, cross_val_score\n",
    "from sklearn.linear_model import LogisticRegression\n",
    "from sklearn.metrics import accuracy_score, confusion_matrix"
   ]
  },
  {
   "cell_type": "code",
   "execution_count": 109,
   "id": "d20e2003",
   "metadata": {},
   "outputs": [],
   "source": [
    "X = data_2.drop(columns=['Target'])\n",
    "y = data_2['Target']\n",
    "y = data_2[\"Target\"].apply(lambda x: 1 if x==\"A\" else 0)"
   ]
  },
  {
   "cell_type": "code",
   "execution_count": 110,
   "id": "4e6f31b0",
   "metadata": {},
   "outputs": [],
   "source": [
    "X_train, X_test, y_train, y_test = train_test_split(X, y, random_state=42,stratify=y)"
   ]
  },
  {
   "cell_type": "code",
   "execution_count": 111,
   "id": "5087f31c",
   "metadata": {},
   "outputs": [
    {
     "data": {
      "text/plain": [
       "StandardScaler()"
      ]
     },
     "execution_count": 111,
     "metadata": {},
     "output_type": "execute_result"
    }
   ],
   "source": [
    "scaler = StandardScaler()\n",
    "scaler"
   ]
  },
  {
   "cell_type": "code",
   "execution_count": 112,
   "id": "22639ae8",
   "metadata": {},
   "outputs": [],
   "source": [
    "X_train_scaled = scaler.fit_transform(X_train)"
   ]
  },
  {
   "cell_type": "code",
   "execution_count": 113,
   "id": "9966f66f",
   "metadata": {},
   "outputs": [],
   "source": [
    "X_test_scaled = scaler.transform(X_test)"
   ]
  },
  {
   "cell_type": "code",
   "execution_count": null,
   "id": "bbce6d89",
   "metadata": {},
   "outputs": [],
   "source": []
  },
  {
   "cell_type": "markdown",
   "id": "ec0af83d",
   "metadata": {},
   "source": [
    "<a id=\"fit\"></a>\n",
    "#### Regresión Logística"
   ]
  },
  {
   "cell_type": "code",
   "execution_count": 114,
   "id": "d3a54b85",
   "metadata": {},
   "outputs": [],
   "source": [
    "from sklearn.model_selection import GridSearchCV\n",
    "from sklearn.model_selection import StratifiedKFold\n",
    "import warnings\n",
    "warnings.filterwarnings('ignore')\n",
    "\n",
    "parameters = {\n",
    "    'penalty' : ['l1','l2'], \n",
    "    'C'       : np.logspace(-3,3,7),\n",
    "    'solver'  : ['newton-cg', 'lbfgs', 'liblinear'],\n",
    "}\n",
    "\n",
    "folds=StratifiedKFold(n_splits=10, random_state=19, shuffle=True)"
   ]
  },
  {
   "cell_type": "code",
   "execution_count": 115,
   "id": "e476ac44",
   "metadata": {},
   "outputs": [],
   "source": [
    "logreg = LogisticRegression(random_state=1)"
   ]
  },
  {
   "cell_type": "code",
   "execution_count": 116,
   "id": "9008d4e1",
   "metadata": {},
   "outputs": [],
   "source": [
    "clf = GridSearchCV(logreg,                    # model\n",
    "       param_grid = parameters,   # hyperparameters\n",
    "       scoring='accuracy',        # metric for scoring\n",
    "       cv=folds)                     # number of folds"
   ]
  },
  {
   "cell_type": "code",
   "execution_count": 117,
   "id": "a045718d",
   "metadata": {},
   "outputs": [
    {
     "data": {
      "text/plain": [
       "GridSearchCV(cv=StratifiedKFold(n_splits=10, random_state=19, shuffle=True),\n",
       "             estimator=LogisticRegression(random_state=1),\n",
       "             param_grid={'C': array([1.e-03, 1.e-02, 1.e-01, 1.e+00, 1.e+01, 1.e+02, 1.e+03]),\n",
       "                         'penalty': ['l1', 'l2'],\n",
       "                         'solver': ['newton-cg', 'lbfgs', 'liblinear']},\n",
       "             scoring='accuracy')"
      ]
     },
     "execution_count": 117,
     "metadata": {},
     "output_type": "execute_result"
    }
   ],
   "source": [
    "clf.fit(X_train_scaled,y_train)"
   ]
  },
  {
   "cell_type": "code",
   "execution_count": 118,
   "id": "74f54347",
   "metadata": {},
   "outputs": [
    {
     "name": "stdout",
     "output_type": "stream",
     "text": [
      "Tuned Hyperparameters : {'C': 0.1, 'penalty': 'l1', 'solver': 'liblinear'}\n",
      "Accuracy : 0.6448416676231651\n"
     ]
    }
   ],
   "source": [
    "print(\"Tuned Hyperparameters :\", clf.best_params_)\n",
    "print(\"Accuracy :\",clf.best_score_)"
   ]
  },
  {
   "cell_type": "markdown",
   "id": "708f4b41",
   "metadata": {},
   "source": [
    "#### Obtenemos lo siguiente en el primer intento:\n",
    "#### Tuned Hyperparameters : {'C': 0.01, 'penalty': 'l2', 'solver': 'lbfgs'}\n",
    "#### Accuracy : 0.6450628100649143"
   ]
  },
  {
   "cell_type": "markdown",
   "id": "e6976360",
   "metadata": {},
   "source": [
    "<a id=\"eval\"></a>\n",
    "### Evaluación del modelo en testeo\n"
   ]
  },
  {
   "cell_type": "code",
   "execution_count": 119,
   "id": "c7ef6934",
   "metadata": {},
   "outputs": [
    {
     "name": "stdout",
     "output_type": "stream",
     "text": [
      "Accuracy: 0.6322384016254656\n"
     ]
    }
   ],
   "source": [
    "logreg = LogisticRegression(random_state=1)\n",
    "logreg.fit(X_train_scaled,y_train)\n",
    "y_pred = logreg.predict(X_test_scaled)\n",
    "print(\"Accuracy:\",accuracy_score(y_test,y_pred))"
   ]
  },
  {
   "cell_type": "markdown",
   "id": "12287ea1",
   "metadata": {},
   "source": [
    "##### Optimizando Hiperparámetros"
   ]
  },
  {
   "cell_type": "code",
   "execution_count": 120,
   "id": "bdab2e75",
   "metadata": {},
   "outputs": [
    {
     "name": "stdout",
     "output_type": "stream",
     "text": [
      "Accuracy: 0.6322384016254656\n"
     ]
    }
   ],
   "source": [
    "logreg = LogisticRegression(C = 0.01, \n",
    "                            penalty = 'l2', \n",
    "                            solver = 'lbfgs',random_state=1)\n",
    "logreg.fit(X_train_scaled,y_train)\n",
    "y_pred = logreg.predict(X_test_scaled)\n",
    "print(\"Accuracy:\",accuracy_score(y_test,y_pred))"
   ]
  },
  {
   "cell_type": "code",
   "execution_count": 121,
   "id": "3765523e",
   "metadata": {},
   "outputs": [
    {
     "data": {
      "text/plain": [
       "Text(0.5, 15.0, 'predichos')"
      ]
     },
     "execution_count": 121,
     "metadata": {},
     "output_type": "execute_result"
    },
    {
     "data": {
      "image/png": "[encoded data removed]",
      "text/plain": [
       "<Figure size 432x288 with 2 Axes>"
      ]
     },
     "metadata": {
      "needs_background": "light"
     },
     "output_type": "display_data"
    }
   ],
   "source": [
    "import seaborn as sns\n",
    "import matplotlib.pyplot as plt\n",
    "%matplotlib inline\n",
    "sns.heatmap(confusion_matrix(y_test,y_pred),annot=True,fmt='2g')\n",
    "plt.ylabel('reales')\n",
    "plt.xlabel('predichos')"
   ]
  },
  {
   "cell_type": "code",
   "execution_count": 122,
   "id": "dea3aa22",
   "metadata": {},
   "outputs": [],
   "source": [
    "coeficientes = pd.DataFrame(list(zip(abs(logreg.coef_[0]),X.columns))).sort_values(by=0,ascending=False)"
   ]
  },
  {
   "cell_type": "code",
   "execution_count": 123,
   "id": "0b7d3f5d",
   "metadata": {},
   "outputs": [],
   "source": [
    "coeficientes.rename(columns={0:'coef',1:'feature'},inplace=True)"
   ]
  },
  {
   "cell_type": "code",
   "execution_count": 124,
   "id": "99184000",
   "metadata": {},
   "outputs": [
    {
     "data": {
      "text/html": [
       "<div>\n",
       "<style scoped>\n",
       "    .dataframe tbody tr th:only-of-type {\n",
       "        vertical-align: middle;\n",
       "    }\n",
       "\n",
       "    .dataframe tbody tr th {\n",
       "        vertical-align: top;\n",
       "    }\n",
       "\n",
       "    .dataframe thead th {\n",
       "        text-align: right;\n",
       "    }\n",
       "</style>\n",
       "<table border=\"1\" class=\"dataframe\">\n",
       "  <thead>\n",
       "    <tr style=\"text-align: right;\">\n",
       "      <th></th>\n",
       "      <th>coef</th>\n",
       "      <th>feature</th>\n",
       "    </tr>\n",
       "  </thead>\n",
       "  <tbody>\n",
       "    <tr>\n",
       "      <th>1</th>\n",
       "      <td>0.582229</td>\n",
       "      <td>Pts_dif_AB</td>\n",
       "    </tr>\n",
       "    <tr>\n",
       "      <th>0</th>\n",
       "      <td>0.267212</td>\n",
       "      <td>Rank_dif_AB</td>\n",
       "    </tr>\n",
       "    <tr>\n",
       "      <th>4</th>\n",
       "      <td>0.121435</td>\n",
       "      <td>games_won_last_5_player_a</td>\n",
       "    </tr>\n",
       "    <tr>\n",
       "      <th>7</th>\n",
       "      <td>0.111217</td>\n",
       "      <td>games_won_last_5_player_b</td>\n",
       "    </tr>\n",
       "    <tr>\n",
       "      <th>10</th>\n",
       "      <td>0.092254</td>\n",
       "      <td>A_win_rate_vs_B</td>\n",
       "    </tr>\n",
       "    <tr>\n",
       "      <th>11</th>\n",
       "      <td>0.080681</td>\n",
       "      <td>B_win_rate_vs_A</td>\n",
       "    </tr>\n",
       "    <tr>\n",
       "      <th>15</th>\n",
       "      <td>0.073513</td>\n",
       "      <td>dif_height_AB</td>\n",
       "    </tr>\n",
       "    <tr>\n",
       "      <th>3</th>\n",
       "      <td>0.049157</td>\n",
       "      <td>games_won_last_3_player_a</td>\n",
       "    </tr>\n",
       "    <tr>\n",
       "      <th>6</th>\n",
       "      <td>0.048874</td>\n",
       "      <td>games_won_last_3_player_b</td>\n",
       "    </tr>\n",
       "    <tr>\n",
       "      <th>13</th>\n",
       "      <td>0.041834</td>\n",
       "      <td>B_won_last</td>\n",
       "    </tr>\n",
       "  </tbody>\n",
       "</table>\n",
       "</div>"
      ],
      "text/plain": [
       "        coef                    feature\n",
       "1   0.582229                 Pts_dif_AB\n",
       "0   0.267212                Rank_dif_AB\n",
       "4   0.121435  games_won_last_5_player_a\n",
       "7   0.111217  games_won_last_5_player_b\n",
       "10  0.092254            A_win_rate_vs_B\n",
       "11  0.080681            B_win_rate_vs_A\n",
       "15  0.073513              dif_height_AB\n",
       "3   0.049157  games_won_last_3_player_a\n",
       "6   0.048874  games_won_last_3_player_b\n",
       "13  0.041834                 B_won_last"
      ]
     },
     "execution_count": 124,
     "metadata": {},
     "output_type": "execute_result"
    }
   ],
   "source": [
    "coeficientes.head(10)"
   ]
  },
  {
   "cell_type": "markdown",
   "id": "ca4d5895",
   "metadata": {},
   "source": [
    "## Entrenando KNN"
   ]
  },
  {
   "cell_type": "code",
   "execution_count": 125,
   "id": "925986b5",
   "metadata": {},
   "outputs": [],
   "source": [
    "def scores_knn(X, y, start,stop,step):\n",
    "    \n",
    "    # Vamos a querer graficar los distintos valores del score de cross validation en función del hiperparámetro n_neighbors\n",
    "    # Para esto vamos a generar una lista de diccionarios que después se puede convertir fácilmente en DataFrame\n",
    "    \n",
    "    # Lista de diccionarios - la inicializamos vacío y por fuera del for loop para ir alimentándola en cada iteración\n",
    "    scores_para_df = []\n",
    "    \n",
    "    \n",
    "    for i in range(start,stop,step):\n",
    "        \n",
    "        # En cada iteración, instanciamos el modelo con un hiperparámetro distinto\n",
    "        model = KNeighborsClassifier(n_neighbors=i)\n",
    "\n",
    "        # cross_val_scores nos devuelve un array de 5 resultados, uno por cada partición que hizo automáticamente CV\n",
    "        kf = StratifiedKFold(n_splits=10, shuffle=True, random_state=10)\n",
    "        cv_scores = cross_val_score(model, X, y, cv=kf)\n",
    "\n",
    "        # Para cada valor de n_neighbours, creamos un diccionario con el valor de n_neighbours y la media y el desvío de los scores\n",
    "        dict_row_score = {'score_medio':np.mean(cv_scores),'score_std':np.std(cv_scores),'n_neighbours':i}\n",
    "\n",
    "        # Guardamos cada uno en la lista de diccionarios\n",
    "        scores_para_df.append(dict_row_score)\n",
    "    \n",
    "    # Creamos el DF a partir de la lista de resultados\n",
    "    df_scores = pd.DataFrame(scores_para_df)\n",
    "    \n",
    "    # Incorporamos los límites inferior y superior, restando y sumando el valor del desvío estándar, respectivamente\n",
    "    df_scores['limite_inferior'] = df_scores['score_medio'] - df_scores['score_std']\n",
    "    df_scores['limite_superior'] = df_scores['score_medio'] + df_scores['score_std']\n",
    "    \n",
    "    # Retornamos el DF\n",
    "    return df_scores"
   ]
  },
  {
   "cell_type": "code",
   "execution_count": 126,
   "id": "31110954",
   "metadata": {},
   "outputs": [
    {
     "data": {
      "text/html": [
       "<div>\n",
       "<style scoped>\n",
       "    .dataframe tbody tr th:only-of-type {\n",
       "        vertical-align: middle;\n",
       "    }\n",
       "\n",
       "    .dataframe tbody tr th {\n",
       "        vertical-align: top;\n",
       "    }\n",
       "\n",
       "    .dataframe thead th {\n",
       "        text-align: right;\n",
       "    }\n",
       "</style>\n",
       "<table border=\"1\" class=\"dataframe\">\n",
       "  <thead>\n",
       "    <tr style=\"text-align: right;\">\n",
       "      <th></th>\n",
       "      <th>score_medio</th>\n",
       "      <th>score_std</th>\n",
       "      <th>n_neighbours</th>\n",
       "      <th>limite_inferior</th>\n",
       "      <th>limite_superior</th>\n",
       "    </tr>\n",
       "  </thead>\n",
       "  <tbody>\n",
       "    <tr>\n",
       "      <th>0</th>\n",
       "      <td>0.553511</td>\n",
       "      <td>0.011095</td>\n",
       "      <td>1</td>\n",
       "      <td>0.542416</td>\n",
       "      <td>0.564606</td>\n",
       "    </tr>\n",
       "    <tr>\n",
       "      <th>1</th>\n",
       "      <td>0.556784</td>\n",
       "      <td>0.005373</td>\n",
       "      <td>2</td>\n",
       "      <td>0.551410</td>\n",
       "      <td>0.562157</td>\n",
       "    </tr>\n",
       "    <tr>\n",
       "      <th>2</th>\n",
       "      <td>0.567509</td>\n",
       "      <td>0.014735</td>\n",
       "      <td>3</td>\n",
       "      <td>0.552774</td>\n",
       "      <td>0.582244</td>\n",
       "    </tr>\n",
       "    <tr>\n",
       "      <th>3</th>\n",
       "      <td>0.572029</td>\n",
       "      <td>0.015325</td>\n",
       "      <td>4</td>\n",
       "      <td>0.556703</td>\n",
       "      <td>0.587354</td>\n",
       "    </tr>\n",
       "    <tr>\n",
       "      <th>4</th>\n",
       "      <td>0.575976</td>\n",
       "      <td>0.016092</td>\n",
       "      <td>5</td>\n",
       "      <td>0.559884</td>\n",
       "      <td>0.592068</td>\n",
       "    </tr>\n",
       "    <tr>\n",
       "      <th>5</th>\n",
       "      <td>0.579249</td>\n",
       "      <td>0.011849</td>\n",
       "      <td>6</td>\n",
       "      <td>0.567401</td>\n",
       "      <td>0.591098</td>\n",
       "    </tr>\n",
       "    <tr>\n",
       "      <th>6</th>\n",
       "      <td>0.582974</td>\n",
       "      <td>0.020995</td>\n",
       "      <td>7</td>\n",
       "      <td>0.561979</td>\n",
       "      <td>0.603969</td>\n",
       "    </tr>\n",
       "    <tr>\n",
       "      <th>7</th>\n",
       "      <td>0.587152</td>\n",
       "      <td>0.017764</td>\n",
       "      <td>8</td>\n",
       "      <td>0.569388</td>\n",
       "      <td>0.604915</td>\n",
       "    </tr>\n",
       "    <tr>\n",
       "      <th>8</th>\n",
       "      <td>0.587830</td>\n",
       "      <td>0.018551</td>\n",
       "      <td>9</td>\n",
       "      <td>0.569279</td>\n",
       "      <td>0.606381</td>\n",
       "    </tr>\n",
       "    <tr>\n",
       "      <th>9</th>\n",
       "      <td>0.588731</td>\n",
       "      <td>0.023463</td>\n",
       "      <td>10</td>\n",
       "      <td>0.565268</td>\n",
       "      <td>0.612195</td>\n",
       "    </tr>\n",
       "    <tr>\n",
       "      <th>10</th>\n",
       "      <td>0.592007</td>\n",
       "      <td>0.015022</td>\n",
       "      <td>11</td>\n",
       "      <td>0.576985</td>\n",
       "      <td>0.607028</td>\n",
       "    </tr>\n",
       "    <tr>\n",
       "      <th>11</th>\n",
       "      <td>0.593699</td>\n",
       "      <td>0.014950</td>\n",
       "      <td>12</td>\n",
       "      <td>0.578749</td>\n",
       "      <td>0.608649</td>\n",
       "    </tr>\n",
       "    <tr>\n",
       "      <th>12</th>\n",
       "      <td>0.593023</td>\n",
       "      <td>0.016592</td>\n",
       "      <td>13</td>\n",
       "      <td>0.576430</td>\n",
       "      <td>0.609615</td>\n",
       "    </tr>\n",
       "    <tr>\n",
       "      <th>13</th>\n",
       "      <td>0.591892</td>\n",
       "      <td>0.016277</td>\n",
       "      <td>14</td>\n",
       "      <td>0.575615</td>\n",
       "      <td>0.608169</td>\n",
       "    </tr>\n",
       "    <tr>\n",
       "      <th>14</th>\n",
       "      <td>0.592684</td>\n",
       "      <td>0.013556</td>\n",
       "      <td>15</td>\n",
       "      <td>0.579128</td>\n",
       "      <td>0.606240</td>\n",
       "    </tr>\n",
       "    <tr>\n",
       "      <th>15</th>\n",
       "      <td>0.598441</td>\n",
       "      <td>0.014861</td>\n",
       "      <td>16</td>\n",
       "      <td>0.583580</td>\n",
       "      <td>0.613301</td>\n",
       "    </tr>\n",
       "    <tr>\n",
       "      <th>16</th>\n",
       "      <td>0.597088</td>\n",
       "      <td>0.010599</td>\n",
       "      <td>17</td>\n",
       "      <td>0.586488</td>\n",
       "      <td>0.607687</td>\n",
       "    </tr>\n",
       "    <tr>\n",
       "      <th>17</th>\n",
       "      <td>0.596070</td>\n",
       "      <td>0.015974</td>\n",
       "      <td>18</td>\n",
       "      <td>0.580096</td>\n",
       "      <td>0.612044</td>\n",
       "    </tr>\n",
       "    <tr>\n",
       "      <th>18</th>\n",
       "      <td>0.600475</td>\n",
       "      <td>0.010443</td>\n",
       "      <td>19</td>\n",
       "      <td>0.590031</td>\n",
       "      <td>0.610918</td>\n",
       "    </tr>\n",
       "    <tr>\n",
       "      <th>19</th>\n",
       "      <td>0.598893</td>\n",
       "      <td>0.014401</td>\n",
       "      <td>20</td>\n",
       "      <td>0.584492</td>\n",
       "      <td>0.613294</td>\n",
       "    </tr>\n",
       "    <tr>\n",
       "      <th>20</th>\n",
       "      <td>0.603070</td>\n",
       "      <td>0.010185</td>\n",
       "      <td>21</td>\n",
       "      <td>0.592885</td>\n",
       "      <td>0.613255</td>\n",
       "    </tr>\n",
       "    <tr>\n",
       "      <th>21</th>\n",
       "      <td>0.602055</td>\n",
       "      <td>0.015863</td>\n",
       "      <td>22</td>\n",
       "      <td>0.586191</td>\n",
       "      <td>0.617918</td>\n",
       "    </tr>\n",
       "    <tr>\n",
       "      <th>22</th>\n",
       "      <td>0.604991</td>\n",
       "      <td>0.011098</td>\n",
       "      <td>23</td>\n",
       "      <td>0.593893</td>\n",
       "      <td>0.616090</td>\n",
       "    </tr>\n",
       "    <tr>\n",
       "      <th>23</th>\n",
       "      <td>0.604653</td>\n",
       "      <td>0.013017</td>\n",
       "      <td>24</td>\n",
       "      <td>0.591636</td>\n",
       "      <td>0.617670</td>\n",
       "    </tr>\n",
       "    <tr>\n",
       "      <th>24</th>\n",
       "      <td>0.603749</td>\n",
       "      <td>0.010676</td>\n",
       "      <td>25</td>\n",
       "      <td>0.593073</td>\n",
       "      <td>0.614425</td>\n",
       "    </tr>\n",
       "    <tr>\n",
       "      <th>25</th>\n",
       "      <td>0.602958</td>\n",
       "      <td>0.011140</td>\n",
       "      <td>26</td>\n",
       "      <td>0.591818</td>\n",
       "      <td>0.614099</td>\n",
       "    </tr>\n",
       "    <tr>\n",
       "      <th>26</th>\n",
       "      <td>0.606345</td>\n",
       "      <td>0.014415</td>\n",
       "      <td>27</td>\n",
       "      <td>0.591930</td>\n",
       "      <td>0.620759</td>\n",
       "    </tr>\n",
       "    <tr>\n",
       "      <th>27</th>\n",
       "      <td>0.603296</td>\n",
       "      <td>0.012196</td>\n",
       "      <td>28</td>\n",
       "      <td>0.591100</td>\n",
       "      <td>0.615492</td>\n",
       "    </tr>\n",
       "    <tr>\n",
       "      <th>28</th>\n",
       "      <td>0.608038</td>\n",
       "      <td>0.010835</td>\n",
       "      <td>29</td>\n",
       "      <td>0.597203</td>\n",
       "      <td>0.618873</td>\n",
       "    </tr>\n",
       "    <tr>\n",
       "      <th>29</th>\n",
       "      <td>0.606118</td>\n",
       "      <td>0.013671</td>\n",
       "      <td>30</td>\n",
       "      <td>0.592446</td>\n",
       "      <td>0.619789</td>\n",
       "    </tr>\n",
       "    <tr>\n",
       "      <th>30</th>\n",
       "      <td>0.609505</td>\n",
       "      <td>0.012013</td>\n",
       "      <td>31</td>\n",
       "      <td>0.597492</td>\n",
       "      <td>0.621519</td>\n",
       "    </tr>\n",
       "    <tr>\n",
       "      <th>31</th>\n",
       "      <td>0.602733</td>\n",
       "      <td>0.014506</td>\n",
       "      <td>32</td>\n",
       "      <td>0.588227</td>\n",
       "      <td>0.617239</td>\n",
       "    </tr>\n",
       "    <tr>\n",
       "      <th>32</th>\n",
       "      <td>0.609281</td>\n",
       "      <td>0.013164</td>\n",
       "      <td>33</td>\n",
       "      <td>0.596116</td>\n",
       "      <td>0.622445</td>\n",
       "    </tr>\n",
       "    <tr>\n",
       "      <th>33</th>\n",
       "      <td>0.604764</td>\n",
       "      <td>0.011833</td>\n",
       "      <td>34</td>\n",
       "      <td>0.592932</td>\n",
       "      <td>0.616597</td>\n",
       "    </tr>\n",
       "    <tr>\n",
       "      <th>34</th>\n",
       "      <td>0.610071</td>\n",
       "      <td>0.011707</td>\n",
       "      <td>35</td>\n",
       "      <td>0.598365</td>\n",
       "      <td>0.621778</td>\n",
       "    </tr>\n",
       "    <tr>\n",
       "      <th>35</th>\n",
       "      <td>0.606571</td>\n",
       "      <td>0.009737</td>\n",
       "      <td>36</td>\n",
       "      <td>0.596834</td>\n",
       "      <td>0.616308</td>\n",
       "    </tr>\n",
       "    <tr>\n",
       "      <th>36</th>\n",
       "      <td>0.609168</td>\n",
       "      <td>0.008717</td>\n",
       "      <td>37</td>\n",
       "      <td>0.600451</td>\n",
       "      <td>0.617884</td>\n",
       "    </tr>\n",
       "    <tr>\n",
       "      <th>37</th>\n",
       "      <td>0.608489</td>\n",
       "      <td>0.009399</td>\n",
       "      <td>38</td>\n",
       "      <td>0.599091</td>\n",
       "      <td>0.617888</td>\n",
       "    </tr>\n",
       "    <tr>\n",
       "      <th>38</th>\n",
       "      <td>0.609393</td>\n",
       "      <td>0.008130</td>\n",
       "      <td>39</td>\n",
       "      <td>0.601264</td>\n",
       "      <td>0.617523</td>\n",
       "    </tr>\n",
       "  </tbody>\n",
       "</table>\n",
       "</div>"
      ],
      "text/plain": [
       "    score_medio  score_std  n_neighbours  limite_inferior  limite_superior\n",
       "0      0.553511   0.011095             1         0.542416         0.564606\n",
       "1      0.556784   0.005373             2         0.551410         0.562157\n",
       "2      0.567509   0.014735             3         0.552774         0.582244\n",
       "3      0.572029   0.015325             4         0.556703         0.587354\n",
       "4      0.575976   0.016092             5         0.559884         0.592068\n",
       "5      0.579249   0.011849             6         0.567401         0.591098\n",
       "6      0.582974   0.020995             7         0.561979         0.603969\n",
       "7      0.587152   0.017764             8         0.569388         0.604915\n",
       "8      0.587830   0.018551             9         0.569279         0.606381\n",
       "9      0.588731   0.023463            10         0.565268         0.612195\n",
       "10     0.592007   0.015022            11         0.576985         0.607028\n",
       "11     0.593699   0.014950            12         0.578749         0.608649\n",
       "12     0.593023   0.016592            13         0.576430         0.609615\n",
       "13     0.591892   0.016277            14         0.575615         0.608169\n",
       "14     0.592684   0.013556            15         0.579128         0.606240\n",
       "15     0.598441   0.014861            16         0.583580         0.613301\n",
       "16     0.597088   0.010599            17         0.586488         0.607687\n",
       "17     0.596070   0.015974            18         0.580096         0.612044\n",
       "18     0.600475   0.010443            19         0.590031         0.610918\n",
       "19     0.598893   0.014401            20         0.584492         0.613294\n",
       "20     0.603070   0.010185            21         0.592885         0.613255\n",
       "21     0.602055   0.015863            22         0.586191         0.617918\n",
       "22     0.604991   0.011098            23         0.593893         0.616090\n",
       "23     0.604653   0.013017            24         0.591636         0.617670\n",
       "24     0.603749   0.010676            25         0.593073         0.614425\n",
       "25     0.602958   0.011140            26         0.591818         0.614099\n",
       "26     0.606345   0.014415            27         0.591930         0.620759\n",
       "27     0.603296   0.012196            28         0.591100         0.615492\n",
       "28     0.608038   0.010835            29         0.597203         0.618873\n",
       "29     0.606118   0.013671            30         0.592446         0.619789\n",
       "30     0.609505   0.012013            31         0.597492         0.621519\n",
       "31     0.602733   0.014506            32         0.588227         0.617239\n",
       "32     0.609281   0.013164            33         0.596116         0.622445\n",
       "33     0.604764   0.011833            34         0.592932         0.616597\n",
       "34     0.610071   0.011707            35         0.598365         0.621778\n",
       "35     0.606571   0.009737            36         0.596834         0.616308\n",
       "36     0.609168   0.008717            37         0.600451         0.617884\n",
       "37     0.608489   0.009399            38         0.599091         0.617888\n",
       "38     0.609393   0.008130            39         0.601264         0.617523"
      ]
     },
     "execution_count": 126,
     "metadata": {},
     "output_type": "execute_result"
    }
   ],
   "source": [
    "from sklearn.neighbors import KNeighborsClassifier\n",
    "#Probamos de 1 a n vecinos\n",
    "k_n = 40\n",
    "df_scores= scores_knn(X_train_scaled, y_train, 1, k_n, 1)\n",
    "df_scores\n",
    "\n",
    "# El mejor vecino fue 34"
   ]
  },
  {
   "cell_type": "markdown",
   "id": "6171f50e",
   "metadata": {},
   "source": [
    "<div class=\"alert alert-block alert-success\">\n",
    "<b>Observación:</b>    \n",
    "Va a depender de la cantidad de [neighbours] el tiempo de compilacion del modelo.\n",
    "</div>"
   ]
  },
  {
   "cell_type": "code",
   "execution_count": 127,
   "id": "56ba7c31",
   "metadata": {},
   "outputs": [
    {
     "data": {
      "image/png": "[encoded data removed]",
      "text/plain": [
       "<Figure size 432x288 with 1 Axes>"
      ]
     },
     "metadata": {
      "needs_background": "light"
     },
     "output_type": "display_data"
    }
   ],
   "source": [
    "import seaborn as sns\n",
    "import matplotlib.pyplot as plt\n",
    "%matplotlib inline\n",
    "\n",
    "# Visualizamos los resultados\n",
    "\n",
    "plt.plot(df_scores['n_neighbours'], df_scores['limite_inferior'], color='r')\n",
    "plt.plot(df_scores['n_neighbours'], df_scores['score_medio'], color='b')\n",
    "plt.plot(df_scores['n_neighbours'], df_scores['limite_superior'], color='r')\n",
    "plt.ylim(0.4, 1);"
   ]
  },
  {
   "cell_type": "markdown",
   "id": "c6f73e0e",
   "metadata": {},
   "source": [
    "#### Prediciendo sobre _test_"
   ]
  },
  {
   "cell_type": "code",
   "execution_count": 128,
   "id": "352f1aeb",
   "metadata": {},
   "outputs": [
    {
     "data": {
      "text/html": [
       "<div>\n",
       "<style scoped>\n",
       "    .dataframe tbody tr th:only-of-type {\n",
       "        vertical-align: middle;\n",
       "    }\n",
       "\n",
       "    .dataframe tbody tr th {\n",
       "        vertical-align: top;\n",
       "    }\n",
       "\n",
       "    .dataframe thead th {\n",
       "        text-align: right;\n",
       "    }\n",
       "</style>\n",
       "<table border=\"1\" class=\"dataframe\">\n",
       "  <thead>\n",
       "    <tr style=\"text-align: right;\">\n",
       "      <th></th>\n",
       "      <th>score_medio</th>\n",
       "      <th>score_std</th>\n",
       "      <th>n_neighbours</th>\n",
       "      <th>limite_inferior</th>\n",
       "      <th>limite_superior</th>\n",
       "    </tr>\n",
       "  </thead>\n",
       "  <tbody>\n",
       "    <tr>\n",
       "      <th>34</th>\n",
       "      <td>0.610071</td>\n",
       "      <td>0.011707</td>\n",
       "      <td>35</td>\n",
       "      <td>0.598365</td>\n",
       "      <td>0.621778</td>\n",
       "    </tr>\n",
       "  </tbody>\n",
       "</table>\n",
       "</div>"
      ],
      "text/plain": [
       "    score_medio  score_std  n_neighbours  limite_inferior  limite_superior\n",
       "34     0.610071   0.011707            35         0.598365         0.621778"
      ]
     },
     "execution_count": 128,
     "metadata": {},
     "output_type": "execute_result"
    }
   ],
   "source": [
    "# Identificamos el score máximo\n",
    "df_scores.loc[df_scores.score_medio == df_scores.score_medio.max()]"
   ]
  },
  {
   "cell_type": "code",
   "execution_count": 129,
   "id": "4f7f5c71",
   "metadata": {},
   "outputs": [
    {
     "name": "stdout",
     "output_type": "stream",
     "text": [
      "- El mejor K: 35\n"
     ]
    }
   ],
   "source": [
    "# Asignamos el valor del k óptimo a una variableÇ\n",
    "best_k = df_scores.loc[df_scores.score_medio == df_scores.score_medio.max(),'n_neighbours'].values[0]\n",
    "print('- El mejor K:',best_k)"
   ]
  },
  {
   "cell_type": "code",
   "execution_count": 130,
   "id": "d93fde07",
   "metadata": {},
   "outputs": [
    {
     "data": {
      "text/plain": [
       "KNeighborsClassifier(n_neighbors=35)"
      ]
     },
     "execution_count": 130,
     "metadata": {},
     "output_type": "execute_result"
    }
   ],
   "source": [
    "# Elegimos el modelo óptimo que nos había indicado cross validation\n",
    "model = KNeighborsClassifier(n_neighbors=best_k)\n",
    "\n",
    "# Lo ajustamos sobre datos de entrenamiento\n",
    "model.fit(X_train_scaled, y_train)"
   ]
  },
  {
   "cell_type": "code",
   "execution_count": 131,
   "id": "ae4c0c30",
   "metadata": {},
   "outputs": [
    {
     "data": {
      "text/plain": [
       "array([0, 0, 1, ..., 1, 0, 0], dtype=int64)"
      ]
     },
     "execution_count": 131,
     "metadata": {},
     "output_type": "execute_result"
    }
   ],
   "source": [
    "# Lo utilizamos para predecir en test\n",
    "y_pred = model.predict(X_test_scaled)\n",
    "y_pred"
   ]
  },
  {
   "cell_type": "code",
   "execution_count": 132,
   "id": "698cefce",
   "metadata": {},
   "outputs": [
    {
     "data": {
      "text/plain": [
       "0.606501862512699"
      ]
     },
     "execution_count": 132,
     "metadata": {},
     "output_type": "execute_result"
    }
   ],
   "source": [
    "# Computamos el accuracy score en test\n",
    "accuracy_score(y_test, y_pred)"
   ]
  },
  {
   "cell_type": "code",
   "execution_count": null,
   "id": "acb596cb",
   "metadata": {},
   "outputs": [],
   "source": []
  },
  {
   "cell_type": "code",
   "execution_count": 133,
   "id": "7fbc3a6e",
   "metadata": {},
   "outputs": [
    {
     "data": {
      "image/png": "[encoded data removed]",
      "text/plain": [
       "<Figure size 432x288 with 2 Axes>"
      ]
     },
     "metadata": {
      "needs_background": "light"
     },
     "output_type": "display_data"
    }
   ],
   "source": [
    "from sklearn.metrics import confusion_matrix\n",
    "\n",
    "# Graficamos la matriz de confusión\n",
    "sns.heatmap(confusion_matrix(y_test, y_pred), annot=True, fmt='.0f')\n",
    "plt.ylabel('Etiquetas reales')\n",
    "plt.xlabel('Etiquetas predichas');"
   ]
  },
  {
   "cell_type": "markdown",
   "id": "70a2e6b2",
   "metadata": {},
   "source": [
    "### Naive Bayes"
   ]
  },
  {
   "cell_type": "code",
   "execution_count": 134,
   "id": "a687f8b1",
   "metadata": {},
   "outputs": [],
   "source": [
    "from sklearn.naive_bayes import GaussianNB"
   ]
  },
  {
   "cell_type": "code",
   "execution_count": 135,
   "id": "0c1ce450",
   "metadata": {},
   "outputs": [
    {
     "data": {
      "text/plain": [
       "GaussianNB()"
      ]
     },
     "execution_count": 135,
     "metadata": {},
     "output_type": "execute_result"
    }
   ],
   "source": [
    "classifier = GaussianNB()\n",
    "classifier.fit(X_train_scaled, y_train)"
   ]
  },
  {
   "cell_type": "code",
   "execution_count": 136,
   "id": "79663376",
   "metadata": {},
   "outputs": [
    {
     "data": {
      "text/html": [
       "Model Accuracy en train : <b>61.96%</b>"
      ],
      "text/plain": [
       "<IPython.core.display.HTML object>"
      ]
     },
     "execution_count": 136,
     "metadata": {},
     "output_type": "execute_result"
    }
   ],
   "source": [
    "model_accuracy_train=round((classifier.score(X_train_scaled, y_train)*100),2)\n",
    "HTML(f'Model Accuracy en train : <b>{ model_accuracy_train }%</b>')"
   ]
  },
  {
   "cell_type": "code",
   "execution_count": 137,
   "id": "4e764535",
   "metadata": {},
   "outputs": [
    {
     "data": {
      "text/html": [
       "Model Accuracy en test : <b>60.99%</b>"
      ],
      "text/plain": [
       "<IPython.core.display.HTML object>"
      ]
     },
     "execution_count": 137,
     "metadata": {},
     "output_type": "execute_result"
    }
   ],
   "source": [
    "model_accuracy_test=round((classifier.score(X_test_scaled, y_test)*100),2)\n",
    "HTML(f'Model Accuracy en test : <b>{ model_accuracy_test }%</b>')"
   ]
  },
  {
   "cell_type": "markdown",
   "id": "60f4aa7f",
   "metadata": {},
   "source": [
    "#### - Matriz de Confusion"
   ]
  },
  {
   "cell_type": "code",
   "execution_count": 138,
   "id": "a1f36d58",
   "metadata": {},
   "outputs": [
    {
     "name": "stdout",
     "output_type": "stream",
     "text": [
      "Accuracy: 0.6322384016254656\n"
     ]
    }
   ],
   "source": [
    "logreg = LogisticRegression(C = 0.01, \n",
    "                            penalty = 'l2', \n",
    "                            solver = 'lbfgs',random_state=1)\n",
    "logreg.fit(X_train_scaled,y_train)\n",
    "y_pred = logreg.predict(X_test_scaled)\n",
    "print(\"Accuracy:\",accuracy_score(y_test,y_pred))"
   ]
  },
  {
   "cell_type": "code",
   "execution_count": 139,
   "id": "bd788427",
   "metadata": {},
   "outputs": [
    {
     "name": "stdout",
     "output_type": "stream",
     "text": [
      "\n",
      "Matriz de Confusion:\n",
      "\n",
      "884 575\n",
      "511 983\n"
     ]
    }
   ],
   "source": [
    "confusion = confusion_matrix(y_test, y_pred)\n",
    "\n",
    "TP = confusion[1, 1]\n",
    "TN = confusion[0, 0]\n",
    "FP = confusion[0, 1]\n",
    "FN = confusion[1, 0]\n",
    "print('\\nMatriz de Confusion:\\n')\n",
    "print(TN,FP)\n",
    "print(FN,TP)"
   ]
  },
  {
   "cell_type": "markdown",
   "id": "5a146432",
   "metadata": {},
   "source": [
    "- Importamos del módulo ``metrics`` la función `accuracy_score`, y lo aplicamos:"
   ]
  },
  {
   "cell_type": "code",
   "execution_count": 140,
   "id": "86441fd4",
   "metadata": {},
   "outputs": [
    {
     "name": "stdout",
     "output_type": "stream",
     "text": [
      "Accuracy=> 0.6322384016254656\n"
     ]
    }
   ],
   "source": [
    "from sklearn.metrics import accuracy_score\n",
    "print('Accuracy=>', accuracy_score(y_test, y_pred))"
   ]
  },
  {
   "cell_type": "code",
   "execution_count": 141,
   "id": "3f288f0a",
   "metadata": {},
   "outputs": [
    {
     "name": "stdout",
     "output_type": "stream",
     "text": [
      "Accuracy= 0.6322384016254656\n",
      "Total de casos correctamente predichos (TP+TN) = 1867\n",
      "Total de casos (TP+TN+FP+FN) = 2953\n"
     ]
    }
   ],
   "source": [
    "print('Accuracy=', (TP+TN)/ (TP+TN+FP+FN))\n",
    "print('Total de casos correctamente predichos (TP+TN) =',(TP+TN))\n",
    "print('Total de casos (TP+TN+FP+FN) =',(TP+TN+FP+FN))"
   ]
  },
  {
   "cell_type": "code",
   "execution_count": 142,
   "id": "534d7ac6",
   "metadata": {},
   "outputs": [
    {
     "data": {
      "text/plain": [
       "1    0.505926\n",
       "0    0.494074\n",
       "Name: Target, dtype: float64"
      ]
     },
     "execution_count": 142,
     "metadata": {},
     "output_type": "execute_result"
    }
   ],
   "source": [
    "y_test.value_counts(normalize=True)"
   ]
  },
  {
   "cell_type": "code",
   "execution_count": 143,
   "id": "99a33a24",
   "metadata": {},
   "outputs": [
    {
     "data": {
      "text/plain": [
       "0.5059261767693871"
      ]
     },
     "execution_count": 143,
     "metadata": {},
     "output_type": "execute_result"
    }
   ],
   "source": [
    "y_test.mean()"
   ]
  },
  {
   "cell_type": "code",
   "execution_count": 144,
   "id": "7fbaea5b",
   "metadata": {},
   "outputs": [
    {
     "data": {
      "text/plain": [
       "0.4940738232306129"
      ]
     },
     "execution_count": 144,
     "metadata": {},
     "output_type": "execute_result"
    }
   ],
   "source": [
    "1.0 - y_test.mean()"
   ]
  },
  {
   "cell_type": "markdown",
   "id": "78d2ab94",
   "metadata": {},
   "source": [
    "### Métricas: Error de Clasificación"
   ]
  },
  {
   "cell_type": "code",
   "execution_count": 145,
   "id": "c5b82e45",
   "metadata": {},
   "outputs": [
    {
     "name": "stdout",
     "output_type": "stream",
     "text": [
      "Error de clasificación=> 0.36776159837453437\n"
     ]
    }
   ],
   "source": [
    "print('Error de clasificación=>',1 - accuracy_score(y_test, y_pred))"
   ]
  },
  {
   "cell_type": "markdown",
   "id": "c5d274df",
   "metadata": {},
   "source": [
    "### Métricas: Sensitivity (o recall)"
   ]
  },
  {
   "cell_type": "markdown",
   "id": "7a4c0212",
   "metadata": {},
   "source": [
    "- Importamos del módulo `metrics` la función `recall_score`, y lo aplicamos:"
   ]
  },
  {
   "cell_type": "code",
   "execution_count": 146,
   "id": "3511c041",
   "metadata": {},
   "outputs": [
    {
     "name": "stdout",
     "output_type": "stream",
     "text": [
      "Recall Score=> 0.6579651941097724\n"
     ]
    }
   ],
   "source": [
    "from sklearn.metrics import recall_score\n",
    "print('Recall Score=>',recall_score(y_test, y_pred))"
   ]
  },
  {
   "cell_type": "code",
   "execution_count": 147,
   "id": "4ffe90e3",
   "metadata": {},
   "outputs": [
    {
     "name": "stdout",
     "output_type": "stream",
     "text": [
      "Recall= 0.6579651941097724\n",
      "Total de casos positivos predichos correctamente (TP) = 983\n",
      "Total de casos positivos reales (TP+FN) = 1494\n"
     ]
    }
   ],
   "source": [
    "print('Recall=', (TP)/ (TP+FN))\n",
    "print('Total de casos positivos predichos correctamente (TP) =',(TP))\n",
    "print('Total de casos positivos reales (TP+FN) =',(TP+FN))"
   ]
  },
  {
   "cell_type": "markdown",
   "id": "7592cfbf",
   "metadata": {},
   "source": [
    "### Métricas: Specificity"
   ]
  },
  {
   "cell_type": "code",
   "execution_count": 148,
   "id": "ca09cc37",
   "metadata": {},
   "outputs": [
    {
     "name": "stdout",
     "output_type": "stream",
     "text": [
      "Scpecificity=> 0.6058944482522276\n"
     ]
    }
   ],
   "source": [
    "specificity = TN / (TN + FP)\n",
    "\n",
    "print('Scpecificity=>',specificity)"
   ]
  },
  {
   "cell_type": "code",
   "execution_count": 149,
   "id": "b7463220",
   "metadata": {},
   "outputs": [
    {
     "name": "stdout",
     "output_type": "stream",
     "text": [
      "Specificity= 0.6058944482522276\n",
      "Total de casos negativos predichos correctamente (TN) = 884\n",
      "Total de casos negativos (TN+FP) = 1459\n"
     ]
    }
   ],
   "source": [
    "print('Specificity=', (TN)/ (TN+FP))\n",
    "print('Total de casos negativos predichos correctamente (TN) =',(TN))\n",
    "print('Total de casos negativos (TN+FP) =',(TN+FP))"
   ]
  },
  {
   "cell_type": "markdown",
   "id": "5c3570d1",
   "metadata": {},
   "source": [
    "### Métricas: Precision"
   ]
  },
  {
   "cell_type": "markdown",
   "id": "da7a6eed",
   "metadata": {},
   "source": [
    "- Importamos el módulo `metrics` la función `precision_score` y lo aplicamos:"
   ]
  },
  {
   "cell_type": "code",
   "execution_count": 150,
   "id": "ebe90991",
   "metadata": {},
   "outputs": [
    {
     "name": "stdout",
     "output_type": "stream",
     "text": [
      "Precision=> 0.6309370988446726\n"
     ]
    }
   ],
   "source": [
    "from sklearn.metrics import precision_score\n",
    "print('Precision=>',precision_score(y_test, y_pred))"
   ]
  },
  {
   "cell_type": "markdown",
   "id": "0e5e0950",
   "metadata": {},
   "source": [
    "#### Métricas: False positive rate (FPR)"
   ]
  },
  {
   "cell_type": "code",
   "execution_count": 151,
   "id": "78d4d49b",
   "metadata": {},
   "outputs": [
    {
     "name": "stdout",
     "output_type": "stream",
     "text": [
      "FPR, 1- specificity=> 0.3941055517477724\n"
     ]
    }
   ],
   "source": [
    "print('FPR, 1- specificity=>',1-specificity)"
   ]
  },
  {
   "cell_type": "markdown",
   "id": "3b4120ea",
   "metadata": {},
   "source": [
    "#### Métricas: F1-Score"
   ]
  },
  {
   "cell_type": "markdown",
   "id": "04774034",
   "metadata": {},
   "source": [
    "- Importamos del módulo `metrics` la función `f1_score`, y lo aplicamos:"
   ]
  },
  {
   "cell_type": "code",
   "execution_count": 152,
   "id": "3f0f4ec8",
   "metadata": {},
   "outputs": [
    {
     "name": "stdout",
     "output_type": "stream",
     "text": [
      "F1 Score=> 0.644167758846658\n"
     ]
    }
   ],
   "source": [
    "from sklearn.metrics import f1_score\n",
    "print('F1 Score=>',f1_score(y_test,y_pred))"
   ]
  },
  {
   "cell_type": "code",
   "execution_count": 153,
   "id": "93c491ce",
   "metadata": {},
   "outputs": [
    {
     "data": {
      "text/plain": [
       "(11811, 21)"
      ]
     },
     "execution_count": 153,
     "metadata": {},
     "output_type": "execute_result"
    }
   ],
   "source": [
    "data_2.shape"
   ]
  },
  {
   "cell_type": "code",
   "execution_count": null,
   "id": "515f91f8",
   "metadata": {},
   "outputs": [],
   "source": []
  }
 ],
 "metadata": {
  "colab": {
   "collapsed_sections": [],
   "name": "Grupo_3_TP_3 (2).ipynb",
   "provenance": []
  },
  "kernelspec": {
   "display_name": "Python 3",
   "language": "python",
   "name": "python3"
  },
  "language_info": {
   "codemirror_mode": {
    "name": "ipython",
    "version": 3
   },
   "file_extension": ".py",
   "mimetype": "text/x-python",
   "name": "python",
   "nbconvert_exporter": "python",
   "pygments_lexer": "ipython3",
   "version": "3.11.0"
  }
 },
 "nbformat": 4,
 "nbformat_minor": 5
}
